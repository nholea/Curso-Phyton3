{
  "nbformat": 4,
  "nbformat_minor": 0,
  "metadata": {
    "colab": {
      "name": "Untitled11.ipynb",
      "provenance": [],
      "collapsed_sections": [],
      "authorship_tag": "ABX9TyP9gLBQ+RDTMkC52wir06CC",
      "include_colab_link": true
    },
    "kernelspec": {
      "name": "python3",
      "display_name": "Python 3"
    },
    "language_info": {
      "name": "python"
    }
  },
  "cells": [
    {
      "cell_type": "markdown",
      "metadata": {
        "id": "view-in-github",
        "colab_type": "text"
      },
      "source": [
        "<a href=\"https://colab.research.google.com/github/nholea/Curso-Python3/blob/main/Tarea38.%20Excepciones.ipynb\" target=\"_parent\"><img src=\"https://colab.research.google.com/assets/colab-badge.svg\" alt=\"Open In Colab\"/></a>"
      ]
    },
    {
      "cell_type": "markdown",
      "source": [
        "# Tarea 18 - Errores y excepciones en Python"
      ],
      "metadata": {
        "id": "83CCQ11sQ1Vy"
      }
    },
    {
      "cell_type": "markdown",
      "source": [
        "## Ejercicio 1\n"
      ],
      "metadata": {
        "id": "f_h2v0lnRBTP"
      }
    },
    {
      "cell_type": "markdown",
      "source": [
        "Dada la función divisors(), asegura con assert que el parámetro n se trata de un número entero positivo.\n",
        "De lo contrario, muestra como mensaje que \"n debe ser de tipo int y debe ser mayor que 0\"\n",
        "\n",
        "\n",
        "\n",
        "```\n",
        "def divisors(n):\n",
        "    \"\"\"\n",
        "    Calcula los divisores de un número entero positivo.\n",
        "    Args:\n",
        "    n: Número entero positivo\n",
        "    Returns:\n",
        "    divisors: Lista de divisores de n\n",
        "    \"\"\"\n",
        "    assert n > 0 and type(n) == int, \"n debe ser de tipo int y debe ser mayor que 0\"\n",
        "    divisors = []\n",
        "    for i in range(1, n + 1):\n",
        "        if n % i == 0: divisors.append(i)\n",
        "    return divisors\n",
        "```\n",
        "\n",
        "\n"
      ],
      "metadata": {
        "id": "_wCDKlfYRcMN"
      }
    },
    {
      "cell_type": "code",
      "source": [
        "def divisors(n):\n",
        "    \"\"\"\n",
        "    Calcula los divisores de un número entero positivo.\n",
        "    Args:\n",
        "    n: Número entero positivo\n",
        "    Returns:\n",
        "    divisors: Lista de divisores de n\n",
        "    \"\"\"\n",
        "    assert n > 0 and type(n) == int, \"n debe ser de tipo int y debe ser mayor que 0\"\n",
        "    divisors = []\n",
        "    for i in range(1, n + 1):\n",
        "        if n % i == 0: divisors.append(i)\n",
        "    return divisors"
      ],
      "metadata": {
        "id": "A-NmkyHr-Bgh"
      },
      "execution_count": 77,
      "outputs": []
    },
    {
      "cell_type": "markdown",
      "source": [
        "## Ejercicio 2\n"
      ],
      "metadata": {
        "id": "-oCarPsfRGgw"
      }
    },
    {
      "cell_type": "markdown",
      "source": [
        "Dada la función divisors(), muestra TypeError con el mensaje correspondiente si el parámetro n no se\n",
        "trata de un número entero y muestra ValueError con el mensaje correspondiente si n no se trata de un\n",
        "número positivo.\n",
        "\n",
        "\n",
        "\n",
        "```\n",
        "def divisors(n):\n",
        "\"\"\"\n",
        "Calcula los divisores de un número entero positivo.\n",
        "Args:\n",
        "n: Número entero positivo\n",
        "Returns:\n",
        "divisors: Lista de divisores de n\n",
        "\"\"\"\n",
        "divisors = []\n",
        "for i in range(1, n + 1):\n",
        "if n % i == 0: divisors.append(i)\n",
        "return divisors\n",
        "\n",
        "```\n",
        "\n",
        "\n"
      ],
      "metadata": {
        "id": "tEG8nVbzR2G6"
      }
    },
    {
      "cell_type": "code",
      "source": [
        "def divisors(n):\n",
        "    \"\"\"\n",
        "    Calcula los divisores de un número entero positivo.\n",
        "    Args:\n",
        "    n: Número entero positivo\n",
        "    Returns:\n",
        "    divisors: Lista de divisores de n\n",
        "    \"\"\"\n",
        "    if type(n) != int:\n",
        "        raise TypeError(\"n debe ser de tipo int\")\n",
        "    if n <= 0:\n",
        "        raise ValueError(\"n debe ser > 0\")\n",
        "        \n",
        "    divisors = []\n",
        "    for i in range(1, n + 1):\n",
        "        if n % i == 0: divisors.append(i)\n",
        "    return divisors\n"
      ],
      "metadata": {
        "id": "du5s4k6YAcBv"
      },
      "execution_count": 81,
      "outputs": []
    },
    {
      "cell_type": "markdown",
      "source": [
        "## Ejercicio 3"
      ],
      "metadata": {
        "id": "pbO6wUBaRNmY"
      }
    },
    {
      "cell_type": "markdown",
      "source": [
        "Dada la función is_palindrome(), asegura con assert que el parámetro word se trata de una variable de\n",
        "tipo string. De lo contrario, muestra como mensaje que \"word debe ser de tipo string\".\n",
        "\n",
        "\n",
        "\n",
        "```\n",
        "def is_palindrome(word):\n",
        "\"\"\"\n",
        "Devuelve si la palabra word es palíndroma.\n",
        "Args:\n",
        "word: Palabra\n",
        "Returns:\n",
        "isPalindrome: Booleano\n",
        "\"\"\"\n",
        "word = word.lower()\n",
        "l = []\n",
        "isPalindrome = True\n",
        "for c in word:\n",
        "l.append(c)\n",
        "n = len(l)\n",
        "for i in range(int(n / 2)):\n",
        "if l[i] != l[n - (i + 1)]: isPalindrome = False\n",
        "return isPalindrome\n",
        "\n",
        "```\n",
        "\n"
      ],
      "metadata": {
        "id": "Sc7cC2g6R5fq"
      }
    },
    {
      "cell_type": "code",
      "source": [
        "def is_palindrome(word):\n",
        "    \"\"\"\n",
        "    Devuelve si la palabra word es palíndroma.\n",
        "    Args:\n",
        "    word: Palabra\n",
        "    Returns:\n",
        "    isPalindrome: Booleano\n",
        "    \"\"\"\n",
        "    assert type(word) == str, \"word debe ser de tipo string\"\n",
        "    word = word.lower()\n",
        "    l = []\n",
        "    isPalindrome = True\n",
        "    for c in word:\n",
        "        l.append(c)\n",
        "    n = len(l)\n",
        "    for i in range(int(n / 2)):\n",
        "        if l[i] != l[n - (i + 1)]: isPalindrome = False\n",
        "    return isPalindrome\n"
      ],
      "metadata": {
        "id": "RdwBW9uagxAR"
      },
      "execution_count": 84,
      "outputs": []
    },
    {
      "cell_type": "markdown",
      "source": [
        "## Ejercicio 4"
      ],
      "metadata": {
        "id": "rOfH5ydcRPMI"
      }
    },
    {
      "cell_type": "markdown",
      "source": [
        "Dada la función is_palindrome(), muestra TypeError con el mensaje correspondiente si word no se trata\n",
        "de una variable de tipo string.\n",
        "\n",
        "\n",
        "\n",
        "```\n",
        "def is_palindrome(word):\n",
        "    \"\"\"\n",
        "    Devuelve si la palabra word es palíndroma.\n",
        "    Args:\n",
        "    word: Palabra\n",
        "    Returns:\n",
        "    isPalindrome: Booleano\n",
        "    \"\"\"\n",
        "    word = word.lower()\n",
        "    l = []\n",
        "    isPalindrome = True\n",
        "    for c in word:\n",
        "        l.append(c)\n",
        "    n = len(l)\n",
        "    for i in range(int(n / 2)):\n",
        "        if l[i] != l[n - (i + 1)]: isPalindrome = False\n",
        "    return isPalindrome\n",
        "\n",
        "```\n",
        "\n"
      ],
      "metadata": {
        "id": "4AoQzLjsSGBA"
      }
    },
    {
      "cell_type": "code",
      "source": [
        "def is_palindrome(word):\n",
        "    \"\"\"\n",
        "    Devuelve si la palabra word es palíndroma.\n",
        "    Args:\n",
        "    word: Palabra\n",
        "    Returns:\n",
        "    isPalindrome: Booleano\n",
        "    \"\"\"\n",
        "    if type(word) != str:\n",
        "        raise TypeError(\"word debe ser una variable de tipo string\")\n",
        "        \n",
        "    word = word.lower()\n",
        "    l = []\n",
        "    isPalindrome = True\n",
        "    for c in word:\n",
        "        l.append(c)\n",
        "    n = len(l)\n",
        "    for i in range(int(n / 2)):\n",
        "        if l[i] != l[n - (i + 1)]: isPalindrome = False\n",
        "    return isPalindrome\n"
      ],
      "metadata": {
        "id": "8E9p7IkChBon"
      },
      "execution_count": 87,
      "outputs": []
    },
    {
      "cell_type": "markdown",
      "source": [
        "## Ejercicio 5"
      ],
      "metadata": {
        "id": "DJ5D4XbgRQRH"
      }
    },
    {
      "cell_type": "markdown",
      "source": [
        "Dada la función is_palindrome(), muestra ValueError con el mensaje correspondiente si word no se trata\n",
        "de una palabra. Es decir, si una vez ha pasado la comprobación de ser una variable de tipo string, comprueba\n",
        "que no tiene espacios.\n",
        "\n",
        "\n",
        "\n",
        "```\n",
        "def is_palindrome(word):\n",
        "    \"\"\"\n",
        "    Devuelve si la palabra word es palíndroma.\n",
        "    Args:\n",
        "    word: Palabra\n",
        "    Returns:\n",
        "    isPalindrome: Booleano\n",
        "    \"\"\"\n",
        "    word = word.lower()\n",
        "    l = []\n",
        "    isPalindrome = True\n",
        "    for c in word:\n",
        "        l.append(c)\n",
        "    n = len(l)\n",
        "    for i in range(int(n / 2)):\n",
        "        if l[i] != l[n - (i + 1)]: isPalindrome = False\n",
        "    return isPalindrome\n",
        "\n",
        "```\n",
        "\n"
      ],
      "metadata": {
        "id": "IjfCPB8nSK4T"
      }
    },
    {
      "cell_type": "code",
      "source": [
        "def is_palindrome(word):\n",
        "    \"\"\"\n",
        "    Devuelve si la palabra word es palíndroma.\n",
        "    Args:\n",
        "    word: Palabra\n",
        "    Returns:\n",
        "    isPalindrome: Booleano\n",
        "    \"\"\"\n",
        "    if type(word) != str:\n",
        "        raise TypeError(\"word debe ser una variable de tipo string\")\n",
        "    if \" \" in word:\n",
        "        raise ValueError(\"word debe ser una palabra y no tener espacios\")\n",
        "    word = word.lower()\n",
        "    l = []\n",
        "    isPalindrome = True\n",
        "    for c in word:\n",
        "        l.append(c)\n",
        "    n = len(l)\n",
        "    for i in range(int(n / 2)):\n",
        "        if l[i] != l[n - (i + 1)]: isPalindrome = False\n",
        "    return isPalindrome\n"
      ],
      "metadata": {
        "id": "Sj2M3qRwD0Ey"
      },
      "execution_count": 88,
      "outputs": []
    },
    {
      "cell_type": "markdown",
      "source": [
        "## Ejercicio 6"
      ],
      "metadata": {
        "id": "oml6Lz5cRRTI"
      }
    },
    {
      "cell_type": "markdown",
      "source": [
        "Dada la función is_palindrome() del resultado del ejercicio anterior, modifícala de modo que acepte no\n",
        "solo palabras sino también frases y devuelva si el string introducido es palíndromo o no. Recuerda tener en\n",
        "cuenta la excepción TypeError junto al mensaje correspondiente."
      ],
      "metadata": {
        "id": "fHikzo0eSObD"
      }
    },
    {
      "cell_type": "code",
      "source": [
        "def is_palindrome(word):\n",
        "    \"\"\"\n",
        "    Devuelve si la palabra word es palíndroma.\n",
        "    Args:\n",
        "    word: Palabra\n",
        "    Returns:\n",
        "    isPalindrome: Booleano\n",
        "    \"\"\"\n",
        "    if type(word) != str:\n",
        "        raise TypeError(\"word debe ser una variable de tipo string\")\n",
        "    word = word.lower()\n",
        "    word = word.replace(\" \", \"\")\n",
        "    l = []\n",
        "    isPalindrome = True\n",
        "    for c in word:\n",
        "        l.append(c)\n",
        "    n = len(l)\n",
        "    for i in range(int(n / 2)):\n",
        "        if l[i] != l[n - (i + 1)]: isPalindrome = False\n",
        "    return isPalindrome\n"
      ],
      "metadata": {
        "id": "sTmEUuFRjaGM"
      },
      "execution_count": 89,
      "outputs": []
    },
    {
      "cell_type": "markdown",
      "source": [
        "## Ejercicio 7"
      ],
      "metadata": {
        "id": "mzHy02c2RTMQ"
      }
    },
    {
      "cell_type": "markdown",
      "source": [
        "Utiliza try / except para dado un objeto de Python guardado en la variable x, aplicarle el método .index()\n",
        "y localizar el elemento \"c\". En el bloque try, guarda el resultado en la variable result. En el bloque except,\n",
        "en la variable result, si el objeto x es una lista, guarda el mensaje \"La lista no tiene el elemento \"c\".\n",
        "En caso contario, guarda el mensaje \"El objeto {tipo del objeto que sea x} no tiene el método\n",
        ".index()\". Finalmente, imprime por pantalla el resultado.\n"
      ],
      "metadata": {
        "id": "-T2Hr6PxSYn1"
      }
    },
    {
      "cell_type": "code",
      "source": [
        "x = \"hola\", \"b\", \"d\", \"c\"\n",
        "\n",
        "try:\n",
        "    result = x.index(\"c\")\n",
        "except:\n",
        "    if type(x) == list:\n",
        "        result = \"La lista no tiene el elemento 'c'\"\n",
        "    else:\n",
        "        result = \"El objeto {t} no tiene el método .index()\".format(type(x).__name__)\n",
        "\n",
        "print(result)"
      ],
      "metadata": {
        "colab": {
          "base_uri": "https://localhost:8080/"
        },
        "id": "L_8k3zfzFPOD",
        "outputId": "be02cfe1-11a3-4b64-c4e2-b4e82ab1182f"
      },
      "execution_count": 97,
      "outputs": [
        {
          "output_type": "stream",
          "name": "stdout",
          "text": [
            "3\n"
          ]
        }
      ]
    },
    {
      "cell_type": "markdown",
      "source": [
        "## Ejercicio 8"
      ],
      "metadata": {
        "id": "shgx0VYqRURh"
      }
    },
    {
      "cell_type": "markdown",
      "source": [
        "Crea una función que calcule el área de un cuadrado. Como parámetro se recibirá un número real, correspondiente a la longitud de la base. Lanza las excepciones pertinentes siempre que el parámetro no se trate\n",
        "de un número real o entero positivo."
      ],
      "metadata": {
        "id": "pUkp0OOGScfS"
      }
    },
    {
      "cell_type": "code",
      "source": [
        "def square_area(base):\n",
        "    if type(base) != int and type(base) != float:\n",
        "        raise TypeError(\"Base debe ser de tipo int o float\")\n",
        "    if base < 0:\n",
        "        raise ValueError(\"Base debe ser > 0\")\n",
        "\n",
        "    return base ** 2"
      ],
      "metadata": {
        "id": "rNCksuwNkq1W"
      },
      "execution_count": 98,
      "outputs": []
    },
    {
      "cell_type": "markdown",
      "source": [
        "## Ejercicio 9"
      ],
      "metadata": {
        "id": "DubPYjb5RVX3"
      }
    },
    {
      "cell_type": "markdown",
      "source": [
        "Crea una función que solicite al usuario la edad. Lanza una excepción en caso de que no se trate de una\n",
        "edad válida. Se considera edad no válida una edad negativa o mayor a 150. En cada caso, lanza el mensaje\n",
        "correspondiente."
      ],
      "metadata": {
        "id": "u9rj0V7jSglE"
      }
    },
    {
      "cell_type": "code",
      "source": [
        "def user_age(age):\n",
        "    if age < 0:\n",
        "        raise ValueError(\"Edad no puede tomar valores negativos\")\n",
        "    if age > 150:\n",
        "        raise ValueError(\"Nadie ha vivido más de 150 años\")\n",
        "    return age\n"
      ],
      "metadata": {
        "id": "P8d0JfQ5Oz1b",
        "colab": {
          "base_uri": "https://localhost:8080/"
        },
        "outputId": "51c30e9c-2068-4f93-8e6d-a0be4ed6bbed"
      },
      "execution_count": 106,
      "outputs": [
        {
          "output_type": "execute_result",
          "data": {
            "text/plain": [
              "150"
            ]
          },
          "metadata": {},
          "execution_count": 106
        }
      ]
    },
    {
      "cell_type": "markdown",
      "source": [
        "## Ejercicio 10"
      ],
      "metadata": {
        "id": "1dUelp6_RWcm"
      }
    },
    {
      "cell_type": "markdown",
      "source": [
        "Crea una función que solicite al usuario una letra en mayúscula. Lanza una excepción en caso de que el\n",
        "usuario no haya introducido nada, no haya introducido una letra, no haya introducido una letra mayúscula\n",
        "o no haya introducido solamente un caracter."
      ],
      "metadata": {
        "id": "y3dG9UDySi_n"
      }
    },
    {
      "cell_type": "code",
      "source": [
        "def user_letter_upper():\n",
        "    letter = input(\"Introduce una letra en mayúscula: \")\n",
        "    if len(letter) > 1:\n",
        "        raise ValueError(\"Has introducido más de una letra\")\n",
        "    elif len(letter) == 0:\n",
        "        raise ValueError(\"No has introducido nada\")\n",
        "    else:\n",
        "        if not letter.isalpha():\n",
        "            raise ValueError(\"Debes introducir una letra\")\n",
        "        else:\n",
        "            if not letter.isupper():\n",
        "                raise ValueError(\"La letra introducida debe estar en mayúscula\")\n",
        "                \n",
        "    print(\"La letra introducida es: \", letter)"
      ],
      "metadata": {
        "id": "I7L9se0YQ7PD"
      },
      "execution_count": 107,
      "outputs": []
    },
    {
      "cell_type": "code",
      "source": [
        "user_letter_upper()"
      ],
      "metadata": {
        "colab": {
          "base_uri": "https://localhost:8080/",
          "height": 304
        },
        "id": "HlKHvcgE-8Ko",
        "outputId": "625f5bae-a860-43c6-ad1a-82c9d0135a65"
      },
      "execution_count": 112,
      "outputs": [
        {
          "name": "stdout",
          "output_type": "stream",
          "text": [
            "Introduce una letra en mayúscula: \n"
          ]
        },
        {
          "output_type": "error",
          "ename": "ValueError",
          "evalue": "ignored",
          "traceback": [
            "\u001b[0;31m---------------------------------------------------------------------------\u001b[0m",
            "\u001b[0;31mValueError\u001b[0m                                Traceback (most recent call last)",
            "\u001b[0;32m<ipython-input-112-1dc891b1095c>\u001b[0m in \u001b[0;36m<module>\u001b[0;34m()\u001b[0m\n\u001b[0;32m----> 1\u001b[0;31m \u001b[0muser_letter_upper\u001b[0m\u001b[0;34m(\u001b[0m\u001b[0;34m)\u001b[0m\u001b[0;34m\u001b[0m\u001b[0;34m\u001b[0m\u001b[0m\n\u001b[0m",
            "\u001b[0;32m<ipython-input-107-3d8b58ce2393>\u001b[0m in \u001b[0;36muser_letter_upper\u001b[0;34m()\u001b[0m\n\u001b[1;32m      4\u001b[0m         \u001b[0;32mraise\u001b[0m \u001b[0mValueError\u001b[0m\u001b[0;34m(\u001b[0m\u001b[0;34m\"Has introducido más de una letra\"\u001b[0m\u001b[0;34m)\u001b[0m\u001b[0;34m\u001b[0m\u001b[0;34m\u001b[0m\u001b[0m\n\u001b[1;32m      5\u001b[0m     \u001b[0;32melif\u001b[0m \u001b[0mlen\u001b[0m\u001b[0;34m(\u001b[0m\u001b[0mletter\u001b[0m\u001b[0;34m)\u001b[0m \u001b[0;34m==\u001b[0m \u001b[0;36m0\u001b[0m\u001b[0;34m:\u001b[0m\u001b[0;34m\u001b[0m\u001b[0;34m\u001b[0m\u001b[0m\n\u001b[0;32m----> 6\u001b[0;31m         \u001b[0;32mraise\u001b[0m \u001b[0mValueError\u001b[0m\u001b[0;34m(\u001b[0m\u001b[0;34m\"No has introducido nada\"\u001b[0m\u001b[0;34m)\u001b[0m\u001b[0;34m\u001b[0m\u001b[0;34m\u001b[0m\u001b[0m\n\u001b[0m\u001b[1;32m      7\u001b[0m     \u001b[0;32melse\u001b[0m\u001b[0;34m:\u001b[0m\u001b[0;34m\u001b[0m\u001b[0;34m\u001b[0m\u001b[0m\n\u001b[1;32m      8\u001b[0m         \u001b[0;32mif\u001b[0m \u001b[0;32mnot\u001b[0m \u001b[0mletter\u001b[0m\u001b[0;34m.\u001b[0m\u001b[0misalpha\u001b[0m\u001b[0;34m(\u001b[0m\u001b[0;34m)\u001b[0m\u001b[0;34m:\u001b[0m\u001b[0;34m\u001b[0m\u001b[0;34m\u001b[0m\u001b[0m\n",
            "\u001b[0;31mValueError\u001b[0m: No has introducido nada"
          ]
        }
      ]
    }
  ]
}