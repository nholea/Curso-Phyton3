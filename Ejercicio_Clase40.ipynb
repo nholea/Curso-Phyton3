{
  "nbformat": 4,
  "nbformat_minor": 0,
  "metadata": {
    "colab": {
      "name": "Untitled2.ipynb",
      "provenance": [],
      "authorship_tag": "ABX9TyMtQ9NntVC27JkGnLecwlGv",
      "include_colab_link": true
    },
    "kernelspec": {
      "name": "python3",
      "display_name": "Python 3"
    },
    "language_info": {
      "name": "python"
    }
  },
  "cells": [
    {
      "cell_type": "markdown",
      "metadata": {
        "id": "view-in-github",
        "colab_type": "text"
      },
      "source": [
        "<a href=\"https://colab.research.google.com/github/nholea/Curso-Python3/blob/main/Ejercicio_Clase40.ipynb\" target=\"_parent\"><img src=\"https://colab.research.google.com/assets/colab-badge.svg\" alt=\"Open In Colab\"/></a>"
      ]
    },
    {
      "cell_type": "code",
      "metadata": {
        "colab": {
          "base_uri": "https://localhost:8080/"
        },
        "id": "g1V2519Fw3sY",
        "outputId": "7e082ce6-4fc4-4849-cc3a-bfe1426b690a"
      },
      "source": [
        "#Ejercicio comparaciones string\n",
        "name1 = \"Juan Gabriel\"\n",
        "name2 = input(\"Introduce tu nombre: \")\n",
        "comparison = str(name2 >= name1)\n",
        "\n",
        "print(\"¿Es tú nombre mayor o igual que Juan Gabriel?\\n\" + comparison)"
      ],
      "execution_count": 2,
      "outputs": [
        {
          "output_type": "stream",
          "name": "stdout",
          "text": [
            "Introduce tu nombre: Natalia\n",
            "¿Es tú nombre mayor o igual que Juan Gabriel?\n",
            "True\n"
          ]
        }
      ]
    }
  ]
}