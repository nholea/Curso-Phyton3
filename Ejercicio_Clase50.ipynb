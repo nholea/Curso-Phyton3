{
  "nbformat": 4,
  "nbformat_minor": 0,
  "metadata": {
    "colab": {
      "name": "Untitled3.ipynb",
      "provenance": [],
      "authorship_tag": "ABX9TyN7bFBiJtu5JHiJuaxE84El",
      "include_colab_link": true
    },
    "kernelspec": {
      "name": "python3",
      "display_name": "Python 3"
    },
    "language_info": {
      "name": "python"
    }
  },
  "cells": [
    {
      "cell_type": "markdown",
      "metadata": {
        "id": "view-in-github",
        "colab_type": "text"
      },
      "source": [
        "<a href=\"https://colab.research.google.com/github/nholea/Curso-Python3/blob/main/Ejercicio_Clase50.ipynb\" target=\"_parent\"><img src=\"https://colab.research.google.com/assets/colab-badge.svg\" alt=\"Open In Colab\"/></a>"
      ]
    },
    {
      "cell_type": "code",
      "metadata": {
        "colab": {
          "base_uri": "https://localhost:8080/"
        },
        "id": "ZaQe4eDajBJN",
        "outputId": "1db0ecbb-2e9b-43ea-9835-4ded4290aa7a"
      },
      "source": [
        "#Ejercicio if y else anidados\n",
        "age = int(input(\"Introduce tu edad: \"))\n",
        "name = input(\"Introduce tu nombre completo: \")\n",
        "\n",
        "if age > 40:\n",
        "    print(\"No puedes pertenecer a la tripulación, te pasas de la edad límite que ha puesto el gran capitán Pyratilla.\")\n",
        "elif age >= 16:\n",
        "    if name.startswith(\"M\") or name.startswith(\"m\"):\n",
        "        print(\"Puedes pertenecer a la tripulación pues tienes {} años y tu nombre, que es {}, empieza por M\".format(age, name))\n",
        "    else:\n",
        "        print(\"Puedes pertenecer a la tripulación pues tienes {} años\".format(age))\n",
        "else:\n",
        "    print(\"Eres muy pequeño todavía para la vida pirata!\")"
      ],
      "execution_count": 6,
      "outputs": [
        {
          "output_type": "stream",
          "name": "stdout",
          "text": [
            "Introduce tu edad: 28\n",
            "Introduce tu nombre completo: Natalia\n",
            "Puedes pertenecer a la tripulación pues tienes 28 años\n"
          ]
        }
      ]
    }
  ]
}