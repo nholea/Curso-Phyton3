{
  "nbformat": 4,
  "nbformat_minor": 0,
  "metadata": {
    "colab": {
      "name": "Untitled11.ipynb",
      "provenance": [],
      "authorship_tag": "ABX9TyNH0+dZ5MJrCL40Il4h8sVU",
      "include_colab_link": true
    },
    "kernelspec": {
      "name": "python3",
      "display_name": "Python 3"
    },
    "language_info": {
      "name": "python"
    }
  },
  "cells": [
    {
      "cell_type": "markdown",
      "metadata": {
        "id": "view-in-github",
        "colab_type": "text"
      },
      "source": [
        "<a href=\"https://colab.research.google.com/github/nholea/Curso-Python3/blob/main/Tarea20.%20Lambda.ipynb\" target=\"_parent\"><img src=\"https://colab.research.google.com/assets/colab-badge.svg\" alt=\"Open In Colab\"/></a>"
      ]
    },
    {
      "cell_type": "markdown",
      "source": [
        "# Tarea 10 - Funciones Lambda"
      ],
      "metadata": {
        "id": "83CCQ11sQ1Vy"
      }
    },
    {
      "cell_type": "markdown",
      "source": [
        "## Ejercicio 1\n"
      ],
      "metadata": {
        "id": "f_h2v0lnRBTP"
      }
    },
    {
      "cell_type": "markdown",
      "source": [
        "Crea una función lambda que dado un número entero multiplique por su anterior y su siguiente. Por ejemplo,\n",
        "si proporcionamos n = 3, nos tendrá que devolver 2 · 3 · 4 = 24."
      ],
      "metadata": {
        "id": "_wCDKlfYRcMN"
      }
    },
    {
      "cell_type": "code",
      "source": [
        "prev_next = lambda x: (x-1) * x * (x + 1)\n"
      ],
      "metadata": {
        "id": "6fdhoGKWRfO4"
      },
      "execution_count": 3,
      "outputs": []
    },
    {
      "cell_type": "code",
      "source": [
        "prev_next(3)"
      ],
      "metadata": {
        "colab": {
          "base_uri": "https://localhost:8080/"
        },
        "id": "R-OohKob78zz",
        "outputId": "9b56c3ab-89eb-4319-f9af-9e41185de5de"
      },
      "execution_count": 4,
      "outputs": [
        {
          "output_type": "execute_result",
          "data": {
            "text/plain": [
              "24"
            ]
          },
          "metadata": {},
          "execution_count": 4
        }
      ]
    },
    {
      "cell_type": "markdown",
      "source": [
        "## Ejercicio 2\n"
      ],
      "metadata": {
        "id": "-oCarPsfRGgw"
      }
    },
    {
      "cell_type": "markdown",
      "source": [
        "Crea una función lambda que dados dos números devuelva si el primero es mayor."
      ],
      "metadata": {
        "id": "tEG8nVbzR2G6"
      }
    },
    {
      "cell_type": "code",
      "source": [
        "num_mayor = lambda x,y: x > y"
      ],
      "metadata": {
        "id": "GaMPfMq4R4WT"
      },
      "execution_count": 8,
      "outputs": []
    },
    {
      "cell_type": "code",
      "source": [
        "num_mayor(369,8465)"
      ],
      "metadata": {
        "colab": {
          "base_uri": "https://localhost:8080/"
        },
        "id": "94ePBwSI9q3h",
        "outputId": "78d6cbed-2c99-4aef-fe07-a56b8684a126"
      },
      "execution_count": 9,
      "outputs": [
        {
          "output_type": "execute_result",
          "data": {
            "text/plain": [
              "False"
            ]
          },
          "metadata": {},
          "execution_count": 9
        }
      ]
    },
    {
      "cell_type": "markdown",
      "source": [
        "## Ejercicio 3"
      ],
      "metadata": {
        "id": "pbO6wUBaRNmY"
      }
    },
    {
      "cell_type": "markdown",
      "source": [
        "Dada una lista de palabras, quédate con filter() con las que tengan más vocales que consonantes. Necesitarás una función que devuelva si una palabra tiene más vocales que consonantes.\n"
      ],
      "metadata": {
        "id": "Sc7cC2g6R5fq"
      }
    },
    {
      "cell_type": "code",
      "source": [
        "fruits = [\"Plátano\", \"Naranja\", \"Fresa\",\"Uva\", \"Papaya\",\"Melocotón\", \"Mango\", \"\"]"
      ],
      "metadata": {
        "id": "h2CKRKyySDny"
      },
      "execution_count": 20,
      "outputs": []
    },
    {
      "cell_type": "code",
      "source": [
        "def more_vowels(word):\n",
        "    vowels = 0\n",
        "    consonants = 0\n",
        "    for i in word.lower():\n",
        "        if i in \"aeiouáéíóú\":\n",
        "            vowels +=1\n",
        "        else:\n",
        "            consonants +=1\n",
        "    return vowels > consonants\n",
        "\n",
        "list(filter(more_vowels, fruits))"
      ],
      "metadata": {
        "colab": {
          "base_uri": "https://localhost:8080/"
        },
        "id": "wPGwssS2YTxn",
        "outputId": "26bcd094-96d2-4ce6-969e-9ac1b9a15c62"
      },
      "execution_count": 22,
      "outputs": [
        {
          "output_type": "execute_result",
          "data": {
            "text/plain": [
              "['Uva']"
            ]
          },
          "metadata": {},
          "execution_count": 22
        }
      ]
    },
    {
      "cell_type": "markdown",
      "source": [
        "## Ejercicio 4"
      ],
      "metadata": {
        "id": "rOfH5ydcRPMI"
      }
    },
    {
      "cell_type": "markdown",
      "source": [
        "Dada una lista de números enteros, quédate con filter() con los que tengan más de 5 divisores. Necesitarás\n",
        "una función que devuelva el número de divisores de un número dado."
      ],
      "metadata": {
        "id": "4AoQzLjsSGBA"
      }
    },
    {
      "cell_type": "code",
      "source": [
        "nums = [4, 5, 20,6997, 8566,782,555, 63,42,964,1020]"
      ],
      "metadata": {
        "id": "4mTdQi9za6G7"
      },
      "execution_count": 28,
      "outputs": []
    },
    {
      "cell_type": "code",
      "source": [
        "def divisores(num):\n",
        "    five_div = []\n",
        "    for i in range(1, num +1):\n",
        "        if num % i == 0:\n",
        "            five_div.append(i)\n",
        "    return len(five_div)\n",
        "\n",
        "list(filter(lambda x: divisores(x) > 5, nums)) "
      ],
      "metadata": {
        "id": "XhNYcD2RSH29",
        "colab": {
          "base_uri": "https://localhost:8080/"
        },
        "outputId": "6d07aaef-b6f1-4b88-9001-1dcc873a5ddd"
      },
      "execution_count": 29,
      "outputs": [
        {
          "output_type": "execute_result",
          "data": {
            "text/plain": [
              "[20, 782, 555, 63, 42, 964, 1020]"
            ]
          },
          "metadata": {},
          "execution_count": 29
        }
      ]
    },
    {
      "cell_type": "markdown",
      "source": [
        "## Ejercicio 5"
      ],
      "metadata": {
        "id": "DJ5D4XbgRQRH"
      }
    },
    {
      "cell_type": "markdown",
      "source": [
        "Dada una lista de palabras, quédate con reduce() con la palabra más larga. Necesitarás una función que\n",
        "compare dos palabras y devuelva la que tenga mayor longitud."
      ],
      "metadata": {
        "id": "IjfCPB8nSK4T"
      }
    },
    {
      "cell_type": "code",
      "source": [
        "from functools import reduce"
      ],
      "metadata": {
        "id": "RCPvQYTvck-J"
      },
      "execution_count": 36,
      "outputs": []
    },
    {
      "cell_type": "code",
      "source": [
        "fruits = [\"Plátano\", \"Naranja\", \"Fresa\",\"Uva\", \"Papaya\",\"Melocotón\", \"Mango\", \"\"]"
      ],
      "metadata": {
        "id": "cDHQQqrwSLha"
      },
      "execution_count": 39,
      "outputs": []
    },
    {
      "cell_type": "code",
      "source": [
        "def long_word(a,b):\n",
        "    if len(a) >= len(b):\n",
        "        return a\n",
        "    return b\n",
        "\n",
        "reduce(long_word, fruits)"
      ],
      "metadata": {
        "colab": {
          "base_uri": "https://localhost:8080/",
          "height": 35
        },
        "id": "qfogGHgWb8QC",
        "outputId": "1da173a9-b9fe-42a1-aa60-0338a9fcb6f4"
      },
      "execution_count": 38,
      "outputs": [
        {
          "output_type": "execute_result",
          "data": {
            "application/vnd.google.colaboratory.intrinsic+json": {
              "type": "string"
            },
            "text/plain": [
              "'Melocotón'"
            ]
          },
          "metadata": {},
          "execution_count": 38
        }
      ]
    },
    {
      "cell_type": "markdown",
      "source": [
        "## Ejercicio 6"
      ],
      "metadata": {
        "id": "oml6Lz5cRRTI"
      }
    },
    {
      "cell_type": "markdown",
      "source": [
        "Dada una lista de palabras, calcula el número de vocales de cada una con map()."
      ],
      "metadata": {
        "id": "fHikzo0eSObD"
      }
    },
    {
      "cell_type": "code",
      "source": [
        "fruits = [\"Plátano\", \"Naranja\", \"Fresa\",\"Uva\", \"Papaya\",\"Melocotón\", \"Mango\", \"\"]"
      ],
      "metadata": {
        "id": "YeQe0ShNSPRz"
      },
      "execution_count": 40,
      "outputs": []
    },
    {
      "cell_type": "code",
      "source": [
        "def num_vowels(word):\n",
        "    vowels = 0\n",
        "    for i in word.lower():\n",
        "        if i in \"aeiouáéíóú\":\n",
        "            vowels +=1\n",
        "    return vowels\n",
        "list(map(num_vowels,fruits))"
      ],
      "metadata": {
        "colab": {
          "base_uri": "https://localhost:8080/"
        },
        "id": "Lu4Kkfcec4qZ",
        "outputId": "fbf4c2ed-6b7f-4766-d946-a3c7753a5b32"
      },
      "execution_count": 45,
      "outputs": [
        {
          "output_type": "execute_result",
          "data": {
            "text/plain": [
              "[3, 3, 2, 2, 3, 4, 2, 0]"
            ]
          },
          "metadata": {},
          "execution_count": 45
        }
      ]
    },
    {
      "cell_type": "markdown",
      "source": [
        "## Ejercicio 7"
      ],
      "metadata": {
        "id": "mzHy02c2RTMQ"
      }
    },
    {
      "cell_type": "markdown",
      "source": [
        "Dada una lista de palabras, quédate con reduce() y map() con la palabra con más consonantes. Necesitarás\n",
        "una función que cuente el número de consonantes de una palabra y otra que dados dos números, devuelva el\n",
        "mayor."
      ],
      "metadata": {
        "id": "-T2Hr6PxSYn1"
      }
    },
    {
      "cell_type": "code",
      "source": [
        "fruits = [\"Plátano\", \"Naranja\", \"Fresa\",\"Uva\", \"Papaya\",\"Melocotón\", \"Mango\", \"Cereza\"]"
      ],
      "metadata": {
        "id": "CxsLHbTmSagu"
      },
      "execution_count": 55,
      "outputs": []
    },
    {
      "cell_type": "code",
      "source": [
        "def num_consonants(word):\n",
        "    consonants = 0\n",
        "    for i in word.lower():\n",
        "        if i not in \"aeiouáéíóú\":\n",
        "            consonants +=1\n",
        "    return consonants\n",
        "\n",
        "def num_mayor(a,b):\n",
        "    if a >b:\n",
        "        return a\n",
        "    return b\n",
        "    \n",
        "print(fruits)\n",
        "total_consonants = list(map(num_consonants,fruits))\n",
        "print(total_consonants)\n",
        "reduce(num_mayor, total_consonants)"
      ],
      "metadata": {
        "colab": {
          "base_uri": "https://localhost:8080/"
        },
        "id": "y6xsFQtjeDkx",
        "outputId": "44be61ce-352c-4cb9-dc08-ee1d760aa061"
      },
      "execution_count": 56,
      "outputs": [
        {
          "output_type": "stream",
          "name": "stdout",
          "text": [
            "['Plátano', 'Naranja', 'Fresa', 'Uva', 'Papaya', 'Melocotón', 'Mango', 'Cereza']\n",
            "[4, 4, 3, 1, 3, 5, 3, 3]\n"
          ]
        },
        {
          "output_type": "execute_result",
          "data": {
            "text/plain": [
              "5"
            ]
          },
          "metadata": {},
          "execution_count": 56
        }
      ]
    },
    {
      "cell_type": "markdown",
      "source": [
        "## Ejercicio 8"
      ],
      "metadata": {
        "id": "shgx0VYqRURh"
      }
    },
    {
      "cell_type": "markdown",
      "source": [
        "Dada una lista de números enteros, calcula el número anterior con map()."
      ],
      "metadata": {
        "id": "pUkp0OOGScfS"
      }
    },
    {
      "cell_type": "code",
      "source": [
        "nums = [4, 5, 20,6997, 8566,782,555, 63,42,964,1020]"
      ],
      "metadata": {
        "id": "9Cr9chKcSdYA"
      },
      "execution_count": 57,
      "outputs": []
    },
    {
      "cell_type": "code",
      "source": [
        "list(map(lambda x: x-1, nums))"
      ],
      "metadata": {
        "colab": {
          "base_uri": "https://localhost:8080/"
        },
        "id": "8FNE7o5j3jlA",
        "outputId": "999e34d3-3676-4af2-b215-32b0deabe37a"
      },
      "execution_count": 58,
      "outputs": [
        {
          "output_type": "execute_result",
          "data": {
            "text/plain": [
              "[3, 4, 19, 6996, 8565, 781, 554, 62, 41, 963, 1019]"
            ]
          },
          "metadata": {},
          "execution_count": 58
        }
      ]
    },
    {
      "cell_type": "markdown",
      "source": [
        "## Ejercicio 9"
      ],
      "metadata": {
        "id": "DubPYjb5RVX3"
      }
    },
    {
      "cell_type": "markdown",
      "source": [
        "Dada una lista de números reales, ordénalos con sorted() por valor absoluto de menor a mayor.\n"
      ],
      "metadata": {
        "id": "u9rj0V7jSglE"
      }
    },
    {
      "cell_type": "code",
      "source": [
        "nums1 = [ -4, -5.55, 8964,5.78, 9.45,246,-4369,86954.3]"
      ],
      "metadata": {
        "id": "6NNQvI0lShdz"
      },
      "execution_count": 59,
      "outputs": []
    },
    {
      "cell_type": "code",
      "source": [
        "def valor_absoluto(num):\n",
        "    if num >=0:\n",
        "        return num\n",
        "    return -num"
      ],
      "metadata": {
        "id": "PiASTZXWgagW"
      },
      "execution_count": 60,
      "outputs": []
    },
    {
      "cell_type": "code",
      "source": [
        "sorted(nums1, key = valor_absoluto )"
      ],
      "metadata": {
        "colab": {
          "base_uri": "https://localhost:8080/"
        },
        "id": "Za3y8qCA4tuZ",
        "outputId": "d0a63b03-c386-49b1-fced-c6898123c30c"
      },
      "execution_count": 62,
      "outputs": [
        {
          "output_type": "execute_result",
          "data": {
            "text/plain": [
              "[-4, -5.55, 5.78, 9.45, 246, -4369, 8964, 86954.3]"
            ]
          },
          "metadata": {},
          "execution_count": 62
        }
      ]
    },
    {
      "cell_type": "markdown",
      "source": [
        "## Ejercicio 10"
      ],
      "metadata": {
        "id": "1dUelp6_RWcm"
      }
    },
    {
      "cell_type": "markdown",
      "source": [
        "Dada una lista de palabras, ordénalos con sorted() por número de consonates de mayor a menor."
      ],
      "metadata": {
        "id": "y3dG9UDySi_n"
      }
    },
    {
      "cell_type": "code",
      "source": [
        "fruits = [\"Plátano\", \"Naranja\", \"Fresa\",\"Uva\", \"Papaya\",\"Melocotón\", \"Mango\", \"Cereza\"]"
      ],
      "metadata": {
        "id": "nTIdfXxwg8jb"
      },
      "execution_count": 63,
      "outputs": []
    },
    {
      "cell_type": "code",
      "source": [
        "def num_consonants(word):\n",
        "    consonants = 0\n",
        "    for i in word.lower():\n",
        "        if i not in \"aeiouáéíóú\":\n",
        "            consonants +=1\n",
        "    return consonants\n",
        "\n",
        "sorted(fruits, key =num_consonants, reverse=True)"
      ],
      "metadata": {
        "id": "qhU9uCawSjiH",
        "colab": {
          "base_uri": "https://localhost:8080/"
        },
        "outputId": "7152107b-0ee4-4692-9797-0d485252a117"
      },
      "execution_count": 65,
      "outputs": [
        {
          "output_type": "execute_result",
          "data": {
            "text/plain": [
              "['Melocotón',\n",
              " 'Plátano',\n",
              " 'Naranja',\n",
              " 'Fresa',\n",
              " 'Papaya',\n",
              " 'Mango',\n",
              " 'Cereza',\n",
              " 'Uva']"
            ]
          },
          "metadata": {},
          "execution_count": 65
        }
      ]
    }
  ]
}