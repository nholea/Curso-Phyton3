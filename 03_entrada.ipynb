{
  "nbformat": 4,
  "nbformat_minor": 0,
  "metadata": {
    "colab": {
      "name": "03-entrada.ipynb",
      "provenance": [],
      "collapsed_sections": [],
      "include_colab_link": true
    },
    "kernelspec": {
      "name": "python3",
      "display_name": "Python 3"
    }
  },
  "cells": [
    {
      "cell_type": "markdown",
      "metadata": {
        "id": "view-in-github",
        "colab_type": "text"
      },
      "source": [
        "<a href=\"https://colab.research.google.com/github/nholea/Curso-Python3/blob/main/03_entrada.ipynb\" target=\"_parent\"><img src=\"https://colab.research.google.com/assets/colab-badge.svg\" alt=\"Open In Colab\"/></a>"
      ]
    },
    {
      "cell_type": "markdown",
      "metadata": {
        "id": "gp1d5MqrHYHb"
      },
      "source": [
        "# Reclutando tripulantes\n",
        "\n",
        "Pyratilla considera que ya va siendo hora de encontrar a su primer miembro de la tripulación. Para ello, lo primero que decide hacer es un anuncio."
      ]
    },
    {
      "cell_type": "code",
      "metadata": {
        "id": "ElrNTAgjHU1w"
      },
      "source": [
        "title = \"se busca tripulante\"\n",
        "message = \"se ofrece puesto en la tripulación del capitán pyratilla para llevar a cabo labores de marinero. comida y bebida garantizada a lo largo de toda la aventura.\"\n",
        "contact = \"para más información, ir al puerto y buscar al capitán pyratilla, ya famoso en este pueblo costero (evitar preguntar en el casino).\""
      ],
      "execution_count": 39,
      "outputs": []
    },
    {
      "cell_type": "markdown",
      "metadata": {
        "id": "PqXAkMAPI5Ra"
      },
      "source": [
        "Ayuda a Pyratilla a que el anuncio le quede bien:\n",
        "\n",
        "- El título debe estar todo en mayúsculas\n",
        "- El principio de cada frase debe estar en mayúscula\n",
        "- Cada vez que hay un cambio de variable, debe haber un salto de línea\n",
        "- El nombre de Pyratilla debe estar en mayúscula\n",
        "\n",
        "Pista: puede que te sea más fácil si guardas las dos frases de la variable `message` en dos variables diferentes y una vez las tengas listas, las vuelves a unir."
      ]
    },
    {
      "cell_type": "code",
      "metadata": {
        "id": "B7bhMPpSJY0V",
        "outputId": "c8c927dc-3dea-45dd-9248-7893fea363c9",
        "colab": {
          "base_uri": "https://localhost:8080/"
        }
      },
      "source": [
        "title_final = title.upper()\n",
        "message1 = message[:message.find(\".\") + 2].capitalize().replace(\"pyratilla\", \"PYRATILLA\")\n",
        "message2= message[len(message1):].capitalize()\n",
        "message_final = message1 + message2\n",
        "contact_final =contact.capitalize().replace(\"pyratilla\", \"PYRATILLA\")\n",
        "\n",
        "print(title_final + \"\\n\" + message_final + \"\\n\" + contact_final)"
      ],
      "execution_count": 40,
      "outputs": [
        {
          "output_type": "stream",
          "name": "stdout",
          "text": [
            "SE BUSCA TRIPULANTE\n",
            "Se ofrece puesto en la tripulación del capitán PYRATILLA para llevar a cabo labores de marinero. Comida y bebida garantizada a lo largo de toda la aventura.\n",
            "Para más información, ir al puerto y buscar al capitán PYRATILLA, ya famoso en este pueblo costero (evitar preguntar en el casino).\n"
          ]
        }
      ]
    },
    {
      "cell_type": "markdown",
      "metadata": {
        "id": "bWD5cnUtL6NB"
      },
      "source": [
        "## El formulario para los interesados en el anuncio\n",
        "\n",
        "Para evitar hacer entrevistas innecesarias, Pyratilla decide hacer un formulario para que cualquier interesado lo rellene y si pasa esa prueba, entonces le realizará una entrevista.\n",
        "\n",
        "Ayuda a Pyratilla a crear un formulario donde se pida amablemente el nombre, la edad, el hobby y el sueño al interesado en formar parte de la tripulación del capitán Pyratilla."
      ]
    },
    {
      "cell_type": "code",
      "metadata": {
        "id": "t_68axrQL8Yj",
        "outputId": "f249cacf-6d42-474b-ad3a-556bd0193c54",
        "colab": {
          "base_uri": "https://localhost:8080/"
        }
      },
      "source": [
        "name = input(\"Por favor introduzca su nombre: \")"
      ],
      "execution_count": 36,
      "outputs": [
        {
          "name": "stdout",
          "output_type": "stream",
          "text": [
            "Por favor introduzca su nombre: Natalia\n"
          ]
        }
      ]
    },
    {
      "cell_type": "code",
      "metadata": {
        "id": "QjSJuMcxNJW5",
        "outputId": "d1a083b1-4b35-4e2c-ec90-f89749f651fc",
        "colab": {
          "base_uri": "https://localhost:8080/"
        }
      },
      "source": [
        "age = int(input(\"Por favor introduzca su edad: \"))"
      ],
      "execution_count": 37,
      "outputs": [
        {
          "name": "stdout",
          "output_type": "stream",
          "text": [
            "Por favor introduzca su edad: 28\n"
          ]
        }
      ]
    },
    {
      "cell_type": "code",
      "metadata": {
        "id": "D7zMht_FNUQH",
        "outputId": "1c155ba5-1b34-46dd-8428-d0efbfcdd313",
        "colab": {
          "base_uri": "https://localhost:8080/"
        }
      },
      "source": [
        "hobby = input(\"Por favor introduzca un hobby: \")"
      ],
      "execution_count": 20,
      "outputs": [
        {
          "name": "stdout",
          "output_type": "stream",
          "text": [
            "Por favor introduzca un hobby: Deporte\n"
          ]
        }
      ]
    },
    {
      "cell_type": "code",
      "metadata": {
        "id": "GTyVOiWZNa-3",
        "outputId": "98ccf728-6336-41e6-850d-fd87d823fc72",
        "colab": {
          "base_uri": "https://localhost:8080/"
        }
      },
      "source": [
        "dream = input(\"Por favor introduzca cual es su sueño por cumplir: \")"
      ],
      "execution_count": 21,
      "outputs": [
        {
          "name": "stdout",
          "output_type": "stream",
          "text": [
            "Por favor introduzca cual es su sueño por cumplir: Paracaidismo\n"
          ]
        }
      ]
    }
  ]
}