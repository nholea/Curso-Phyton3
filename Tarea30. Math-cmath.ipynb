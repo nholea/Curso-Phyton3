{
  "nbformat": 4,
  "nbformat_minor": 0,
  "metadata": {
    "colab": {
      "name": "Untitled11.ipynb",
      "provenance": [],
      "authorship_tag": "ABX9TyN1N20cMRLFb/25A6pIrV7l",
      "include_colab_link": true
    },
    "kernelspec": {
      "name": "python3",
      "display_name": "Python 3"
    },
    "language_info": {
      "name": "python"
    }
  },
  "cells": [
    {
      "cell_type": "markdown",
      "metadata": {
        "id": "view-in-github",
        "colab_type": "text"
      },
      "source": [
        "<a href=\"https://colab.research.google.com/github/nholea/Curso-Python3/blob/main/Tarea30.%20Math-cmath.ipynb\" target=\"_parent\"><img src=\"https://colab.research.google.com/assets/colab-badge.svg\" alt=\"Open In Colab\"/></a>"
      ]
    },
    {
      "cell_type": "markdown",
      "source": [
        "# Tarea 14 - Módulos de Python: math y cmath"
      ],
      "metadata": {
        "id": "83CCQ11sQ1Vy"
      }
    },
    {
      "cell_type": "markdown",
      "source": [
        "## Ejercicio 1\n"
      ],
      "metadata": {
        "id": "f_h2v0lnRBTP"
      }
    },
    {
      "cell_type": "markdown",
      "source": [
        "Muestra la veracidad de las siguientes propiedades de los logaritmos con 3 ejemplos diferentes en cada caso.\n",
        "En otras palabras, escoge 3 tríos de valores para a, b y c y comprueba que todas las propiedades se satisfacen:\n",
        " * loga (1) = 0 ∀a ∈ R+\n",
        " * loga (a) = 1 ∀a ∈ R+\n",
        " * loga (bn) = n loga(b) ∀a, b ∈ R+, n ∈ Z\n",
        " * loga (b1n ) = 1nloga(b) ∀a, b ∈ R+ n ∈ Z\n",
        " * loga (b · c) = loga(b) + loga(c) ∀a, b, c ∈ R+\n",
        " * loga bc\u0001 = loga (b) − loga (c) ∀a, b, c ∈ R+\n",
        " * loga (b) = logc (b) logc (a) ∀a, b, c ∈ R\n"
      ],
      "metadata": {
        "id": "_wCDKlfYRcMN"
      }
    },
    {
      "cell_type": "code",
      "source": [
        "import math"
      ],
      "metadata": {
        "id": "A-NmkyHr-Bgh"
      },
      "execution_count": 1,
      "outputs": []
    },
    {
      "cell_type": "code",
      "source": [
        "a, b, c, n = (12, 4.6, 2), (2, 8.8, 5.25 ), (15, 25, 50 ), (2, 6, 9)\n",
        "\n",
        "for i in range(3):\n",
        "    print(\"\\n a = {}, b = {}, c = {}, n = {}\".format(a[i], b[i], c[i], n[i]))\n",
        "    print(math.log(1, a[i]) == 0)\n",
        "    print(math.log(a[i], a[i]) == 1)\n",
        "    print(math.isclose(math.log(b[i] ** n[i], a[i]), n[i] * math.log(b[i], a[i])))\n",
        "    print(math.isclose(math.log(b[i] ** (1 / n[i]), a[i]), (1 / n[i]) * math.log(b[i], a[i])))\n",
        "    print(math.isclose(math.log(b[i] * c[i], a[i]), math.log(b[i], a[i]) + math.log(c[i], a[i])))\n",
        "    print(math.isclose(math.log(b[i] / c[i], a[i]), math.log(b[i], a[i]) - math.log(c[i], a[i])))\n",
        "    print(math.isclose(math.log(b[i], a[i]), math.log(b[i], c[i]) / math.log(a[i], c[i])))"
      ],
      "metadata": {
        "colab": {
          "base_uri": "https://localhost:8080/"
        },
        "id": "1Gx8D4XQ9Fq7",
        "outputId": "6681d3c3-c4ea-4379-9c09-38e37bce99e2"
      },
      "execution_count": 2,
      "outputs": [
        {
          "output_type": "stream",
          "name": "stdout",
          "text": [
            "\n",
            " a = 12, b = 2, c = 15, n = 2\n",
            "True\n",
            "True\n",
            "True\n",
            "True\n",
            "True\n",
            "True\n",
            "True\n",
            "\n",
            " a = 4.6, b = 8.8, c = 25, n = 6\n",
            "True\n",
            "True\n",
            "True\n",
            "True\n",
            "True\n",
            "True\n",
            "True\n",
            "\n",
            " a = 2, b = 5.25, c = 50, n = 9\n",
            "True\n",
            "True\n",
            "True\n",
            "True\n",
            "True\n",
            "True\n",
            "True\n"
          ]
        }
      ]
    },
    {
      "cell_type": "markdown",
      "source": [
        "## Ejercicio 2\n"
      ],
      "metadata": {
        "id": "-oCarPsfRGgw"
      }
    },
    {
      "cell_type": "markdown",
      "source": [
        "\n",
        "Crea una función que dado un número real representando grados lo transforme a radianes. Crea otra función\n",
        "que dado un valor real representando radianes lo transforme a grados.\n",
        "\n",
        "Comprueba que tus funciones calculan correctamente el resultado comparándolo con el obtenido con los\n",
        "métodos .degree() y .radians()\n",
        "\n",
        "EXTRA: Si en la primera función nos introducen un número fuera del intervalo [0, 360], devolver el equivalente en radianes dentro del intervalo [0, 2π]. Y, para la segunda función, si nos introducen un valor fuera\n",
        "del intervalo [0, 2π], devolver el equivalente en grados dentro del intervalo [0, 360]"
      ],
      "metadata": {
        "id": "tEG8nVbzR2G6"
      }
    },
    {
      "cell_type": "code",
      "source": [
        "def grad_rad(num):\n",
        "    return num * 2 * math.pi /360\n",
        "\n",
        "def rad_grad(num):\n",
        "    return num *360 / (2 * math.pi)\n",
        "\n",
        "# Comprobar\n",
        "grad_rad(740) == math.radians(740)\n",
        "rad_grad(math.tau) == math.degrees(math.tau)\n",
        "\n",
        "# Extra\n",
        "def grad_rad(num):\n",
        "    rad = num * 2 * math.pi /360\n",
        "    return rad - (rad // 2( * math.pi)) * 2 * math.pi\n",
        "\n",
        "def rad_grad(num):\n",
        "    grad = num *360 / (2 * math.pi)\n",
        "    return grad - (grad // 360) * 360\n"
      ],
      "metadata": {
        "id": "du5s4k6YAcBv"
      },
      "execution_count": 7,
      "outputs": []
    },
    {
      "cell_type": "markdown",
      "source": [
        "## Ejercicio 3"
      ],
      "metadata": {
        "id": "pbO6wUBaRNmY"
      }
    },
    {
      "cell_type": "markdown",
      "source": [
        "\n",
        "Elige cualquier valor para α y comprueba que\n",
        "\n",
        "* sin2 (α) + cos2(α) = 1\n",
        "\n",
        "* tan(α) = sin(α) / cos(α)"
      ],
      "metadata": {
        "id": "Sc7cC2g6R5fq"
      }
    },
    {
      "cell_type": "code",
      "source": [
        "alpha = 29\n",
        "\n",
        "math.pow(math.sin(alpha), 2) + math.pow(math.cos(alpha), 2) == 1\n",
        "\n",
        "math.tan(alpha) == math.sin(alpha) / math.cos(alpha) "
      ],
      "metadata": {
        "colab": {
          "base_uri": "https://localhost:8080/"
        },
        "id": "KqF3wR7dCRgU",
        "outputId": "d9d673ef-7c47-4b0a-8423-6bc7d9968fdc"
      },
      "execution_count": 11,
      "outputs": [
        {
          "output_type": "execute_result",
          "data": {
            "text/plain": [
              "False"
            ]
          },
          "metadata": {},
          "execution_count": 11
        }
      ]
    },
    {
      "cell_type": "markdown",
      "source": [
        "## Ejercicio 4"
      ],
      "metadata": {
        "id": "rOfH5ydcRPMI"
      }
    },
    {
      "cell_type": "markdown",
      "source": [
        "Comprueba que, en Python, un número cualquiera dividido entre un número muy cercano a 0 sigue siendo\n",
        "considerado finito"
      ],
      "metadata": {
        "id": "4AoQzLjsSGBA"
      }
    },
    {
      "cell_type": "code",
      "source": [
        "math.isfinite(156789 / 0.0000000000001)"
      ],
      "metadata": {
        "colab": {
          "base_uri": "https://localhost:8080/"
        },
        "id": "iTQD94bbDWua",
        "outputId": "1b08663b-57df-4fd3-a5d2-f5a09985a5a4"
      },
      "execution_count": 12,
      "outputs": [
        {
          "output_type": "execute_result",
          "data": {
            "text/plain": [
              "True"
            ]
          },
          "metadata": {},
          "execution_count": 12
        }
      ]
    },
    {
      "cell_type": "markdown",
      "source": [
        "## Ejercicio 5"
      ],
      "metadata": {
        "id": "DJ5D4XbgRQRH"
      }
    },
    {
      "cell_type": "markdown",
      "source": [
        "Elige valores enteros para n y k y comprueba si la siguiente igualdad es cierta:\n",
        "\n",
        "\n",
        "\n",
        "\n"
      ],
      "metadata": {
        "id": "IjfCPB8nSK4T"
      }
    },
    {
      "cell_type": "code",
      "source": [
        "def choose(n, k):\n",
        "  if (n >= k and k >= 0):\n",
        "    return math.factorial(n) / (math.factorial(k) * math.factorial(n - k))\n",
        "  else:\n",
        "    return \"No se puede calcular el número factorial indicado\"\n",
        "\n",
        "n = 14\n",
        "k = 28\n",
        "\n",
        "choose(n ,k) == choose(n, n - k)"
      ],
      "metadata": {
        "colab": {
          "base_uri": "https://localhost:8080/"
        },
        "id": "Sj2M3qRwD0Ey",
        "outputId": "99b752fe-090e-40d1-c744-5b8c38af5a6d"
      },
      "execution_count": 13,
      "outputs": [
        {
          "output_type": "execute_result",
          "data": {
            "text/plain": [
              "True"
            ]
          },
          "metadata": {},
          "execution_count": 13
        }
      ]
    },
    {
      "cell_type": "markdown",
      "source": [
        "## Ejercicio 6"
      ],
      "metadata": {
        "id": "oml6Lz5cRRTI"
      }
    },
    {
      "cell_type": "markdown",
      "source": [
        "Transforma el complejo (1, -1) a coordenadas polares."
      ],
      "metadata": {
        "id": "fHikzo0eSObD"
      }
    },
    {
      "cell_type": "code",
      "source": [
        "import cmath"
      ],
      "metadata": {
        "id": "J95ycI2CEWc_"
      },
      "execution_count": 14,
      "outputs": []
    },
    {
      "cell_type": "code",
      "source": [
        "cmath.polar(complex(1, -1))"
      ],
      "metadata": {
        "colab": {
          "base_uri": "https://localhost:8080/"
        },
        "id": "vgomwnsIEdf3",
        "outputId": "1b3b008c-8b37-4daf-f9b2-beaa678eccf1"
      },
      "execution_count": 17,
      "outputs": [
        {
          "output_type": "execute_result",
          "data": {
            "text/plain": [
              "(1.4142135623730951, -0.7853981633974483)"
            ]
          },
          "metadata": {},
          "execution_count": 17
        }
      ]
    },
    {
      "cell_type": "markdown",
      "source": [
        "## Ejercicio 7"
      ],
      "metadata": {
        "id": "mzHy02c2RTMQ"
      }
    },
    {
      "cell_type": "markdown",
      "source": [
        "Elige cualquier valor complejo para z y comprueba que\n",
        "\n",
        "* sinh(z) = e z − e−z / 2\n",
        "\n",
        "* cosh(z) = ez + e−z / 2\n"
      ],
      "metadata": {
        "id": "-T2Hr6PxSYn1"
      }
    },
    {
      "cell_type": "code",
      "source": [
        "z = complex(-2, 3.89645)\n",
        "\n",
        "cmath.isclose(cmath.sinh(z), (cmath.exp(z) - cmath.exp(-z)) / 2)\n",
        "cmath.isclose(cmath.cosh(z), (cmath.exp(z) + cmath.exp(-z)) / 2)"
      ],
      "metadata": {
        "colab": {
          "base_uri": "https://localhost:8080/"
        },
        "id": "L_8k3zfzFPOD",
        "outputId": "8c690987-9495-48d2-a830-b02a243272a8"
      },
      "execution_count": 21,
      "outputs": [
        {
          "output_type": "execute_result",
          "data": {
            "text/plain": [
              "True"
            ]
          },
          "metadata": {},
          "execution_count": 21
        }
      ]
    },
    {
      "cell_type": "markdown",
      "source": [
        "## Ejercicio 8"
      ],
      "metadata": {
        "id": "shgx0VYqRURh"
      }
    },
    {
      "cell_type": "markdown",
      "source": [
        "Elige cualquier valor complejo para z y comprueba que\n",
        "\n",
        "* sinh(−z) = − sinh(z)\n",
        "* cosh(−z) = cosh(z)"
      ],
      "metadata": {
        "id": "pUkp0OOGScfS"
      }
    },
    {
      "cell_type": "code",
      "source": [
        "z = complex(-2, 3.89645)\n",
        "\n",
        "cmath.sinh(-z) == -cmath.sinh(z)\n",
        "cmath.cosh(-z) == cmath.cosh(z)"
      ],
      "metadata": {
        "colab": {
          "base_uri": "https://localhost:8080/"
        },
        "id": "uokeA0UGGCNf",
        "outputId": "935c6049-fcb6-4653-945f-fe57a8ae0905"
      },
      "execution_count": 23,
      "outputs": [
        {
          "output_type": "execute_result",
          "data": {
            "text/plain": [
              "True"
            ]
          },
          "metadata": {},
          "execution_count": 23
        }
      ]
    },
    {
      "cell_type": "markdown",
      "source": [
        "## Ejercicio 9"
      ],
      "metadata": {
        "id": "DubPYjb5RVX3"
      }
    },
    {
      "cell_type": "markdown",
      "source": [
        "Comprueba que tan (x) = 0 siendo x múltiplo de π. Prueba por ejemplo con los 10 primeros múltiplos\n",
        "negativos y positivos de π."
      ],
      "metadata": {
        "id": "u9rj0V7jSglE"
      }
    },
    {
      "cell_type": "code",
      "source": [
        "for i in range(-10, 11):\n",
        "    print(math.isclose(math.tan( i * math.pi), 0, abs_tol= 0.01 ))"
      ],
      "metadata": {
        "colab": {
          "base_uri": "https://localhost:8080/"
        },
        "id": "P8d0JfQ5Oz1b",
        "outputId": "f6456962-977b-4751-9b04-38673643a67d"
      },
      "execution_count": 24,
      "outputs": [
        {
          "output_type": "stream",
          "name": "stdout",
          "text": [
            "True\n",
            "True\n",
            "True\n",
            "True\n",
            "True\n",
            "True\n",
            "True\n",
            "True\n",
            "True\n",
            "True\n",
            "True\n",
            "True\n",
            "True\n",
            "True\n",
            "True\n",
            "True\n",
            "True\n",
            "True\n",
            "True\n",
            "True\n",
            "True\n"
          ]
        }
      ]
    },
    {
      "cell_type": "markdown",
      "source": [
        "## Ejercicio 10"
      ],
      "metadata": {
        "id": "1dUelp6_RWcm"
      }
    },
    {
      "cell_type": "markdown",
      "source": [
        "Muestra con 3 ejemplos diferentes que la siguiente igualdad es cierta. Es decir, escoge valores diferentes para\n",
        "a, n y m, sustitúyelos y muestra que en ambos lados de la igualdad se obtiene el mismo resultado.\n",
        "\n",
        "am · an = am+n"
      ],
      "metadata": {
        "id": "y3dG9UDySi_n"
      }
    },
    {
      "cell_type": "code",
      "source": [
        "a = (15, 25, 24)\n",
        "n = (-49, -84, 25)\n",
        "m =(48, 12, 75)\n",
        "\n",
        "for i in range(3):\n",
        "    print(math.pow(a[i], m[i]) * math.pow(a[i], n[i]) == math.pow(a[i], m[i] + n[i]))"
      ],
      "metadata": {
        "colab": {
          "base_uri": "https://localhost:8080/"
        },
        "id": "I7L9se0YQ7PD",
        "outputId": "52d51736-5c19-4308-c228-91292efd41bc"
      },
      "execution_count": 28,
      "outputs": [
        {
          "output_type": "stream",
          "name": "stdout",
          "text": [
            "True\n",
            "False\n",
            "True\n"
          ]
        }
      ]
    }
  ]
}