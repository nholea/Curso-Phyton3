{
  "nbformat": 4,
  "nbformat_minor": 0,
  "metadata": {
    "colab": {
      "name": "Untitled11.ipynb",
      "provenance": [],
      "authorship_tag": "ABX9TyOLVx/yEV+7Cm0IsL7t1sGN",
      "include_colab_link": true
    },
    "kernelspec": {
      "name": "python3",
      "display_name": "Python 3"
    },
    "language_info": {
      "name": "python"
    }
  },
  "cells": [
    {
      "cell_type": "markdown",
      "metadata": {
        "id": "view-in-github",
        "colab_type": "text"
      },
      "source": [
        "<a href=\"https://colab.research.google.com/github/nholea/Curso-Python3/blob/main/Tarea16.%20Tuplas.ipynb\" target=\"_parent\"><img src=\"https://colab.research.google.com/assets/colab-badge.svg\" alt=\"Open In Colab\"/></a>"
      ]
    },
    {
      "cell_type": "markdown",
      "source": [
        "# Tarea 8 - Estructuras de datos: Tuplas"
      ],
      "metadata": {
        "id": "83CCQ11sQ1Vy"
      }
    },
    {
      "cell_type": "markdown",
      "source": [
        "## Ejercicio 1\n"
      ],
      "metadata": {
        "id": "f_h2v0lnRBTP"
      }
    },
    {
      "cell_type": "markdown",
      "source": [
        "Pide al usuario el número de números enteros que va a introducir por teclado. Para cada uno de esos\n",
        "números, crea una tupla donde la primera entrada sea el número entero y, la segunda, la palabra “par” o\n",
        "“impar” según la paridad del número entero. Muestra la tupla recién creada al usuario."
      ],
      "metadata": {
        "id": "_wCDKlfYRcMN"
      }
    },
    {
      "cell_type": "code",
      "source": [
        "num = int(input(\"¿Cuántos números enteros desea introducir?: \"))\n",
        "nums = []\n",
        "for i in range(num):\n",
        "    num1 = int(input())\n",
        "    if num1 % 2 == 0:\n",
        "        paridad = \"Par\"\n",
        "    else:\n",
        "        paridad = \"Impar\"\n",
        "    nums.append((num1, paridad))\n",
        "print(nums)"
      ],
      "metadata": {
        "colab": {
          "base_uri": "https://localhost:8080/"
        },
        "id": "6fdhoGKWRfO4",
        "outputId": "b78a630a-3948-40a3-8edd-4f1002c23ea7"
      },
      "execution_count": 3,
      "outputs": [
        {
          "output_type": "stream",
          "name": "stdout",
          "text": [
            "¿Cuántos números enteros desea introducir?: 4\n",
            "2\n",
            "1\n",
            "9\n",
            "3\n",
            "[(2, 'Par'), (1, 'Impar'), (9, 'Impar'), (3, 'Impar')]\n"
          ]
        }
      ]
    },
    {
      "cell_type": "markdown",
      "source": [
        "## Ejercicio 2\n"
      ],
      "metadata": {
        "id": "-oCarPsfRGgw"
      }
    },
    {
      "cell_type": "markdown",
      "source": [
        "Dado un año proporcionado por el usuario, crea una tupla de dos elementos cuya primera entrada sea el año\n",
        "y, la segunda entrada, el horóscopo chino correspondiente."
      ],
      "metadata": {
        "id": "tEG8nVbzR2G6"
      }
    },
    {
      "cell_type": "code",
      "source": [
        "year = int(input(\"Introduzca un año cualquiera: \"))\n",
        "horoscopes = [\"Mono\", \"Gallo\", \"Perro\",\"Cerdo\",\"Rata\", \"Buey\", \"Tigre\",\"Conejo\",\"Dragón\",\"Serpiente\",\"Caballo\",\"Cabra\"]\n",
        "horoscope = horoscopes[year % 12]\n",
        "result = (year,horoscope)\n",
        "\n",
        "print(result)\n",
        "\n"
      ],
      "metadata": {
        "colab": {
          "base_uri": "https://localhost:8080/"
        },
        "id": "GaMPfMq4R4WT",
        "outputId": "018a5530-b707-4d57-a545-3d5d5ec4e55b"
      },
      "execution_count": 6,
      "outputs": [
        {
          "output_type": "stream",
          "name": "stdout",
          "text": [
            "Introduzca un año cualquiera: 1993\n",
            "(1993, 'Gallo')\n"
          ]
        }
      ]
    },
    {
      "cell_type": "markdown",
      "source": [
        "## Ejercicio 3"
      ],
      "metadata": {
        "id": "pbO6wUBaRNmY"
      }
    },
    {
      "cell_type": "markdown",
      "source": [
        "Dada una frase proporcionada por el usuario, crea una lista de tuplas indicando palabra, longitud de cada\n",
        "palabra, letra inicial y posición que ocupan dentro de la frase."
      ],
      "metadata": {
        "id": "Sc7cC2g6R5fq"
      }
    },
    {
      "cell_type": "code",
      "source": [
        "sentence = input(\"Introduzca una frase: \").lower()\n",
        "sentence = sentence.split()\n",
        "list_touples = []\n",
        "\n",
        "for i in range(len(sentence)):\n",
        "    list_touples.append((sentence[i],len(sentence[i]),sentence[i][0],i))\n",
        "\n",
        "print(list_touples)\n",
        "\n",
        "\n"
      ],
      "metadata": {
        "colab": {
          "base_uri": "https://localhost:8080/"
        },
        "id": "h2CKRKyySDny",
        "outputId": "f7d45876-fc98-46f4-f008-a37a8af74886"
      },
      "execution_count": 12,
      "outputs": [
        {
          "output_type": "stream",
          "name": "stdout",
          "text": [
            "Introduzca una frase: El perro de San Roque no tiene rabo\n",
            "[('el', 2, 'e', 0), ('perro', 5, 'p', 1), ('de', 2, 'd', 2), ('san', 3, 's', 3), ('roque', 5, 'r', 4), ('no', 2, 'n', 5), ('tiene', 5, 't', 6), ('rabo', 4, 'r', 7)]\n"
          ]
        }
      ]
    },
    {
      "cell_type": "markdown",
      "source": [
        "## Ejercicio 4"
      ],
      "metadata": {
        "id": "rOfH5ydcRPMI"
      }
    },
    {
      "cell_type": "markdown",
      "source": [
        "Haz que el usuario introduzca palabras hasta que introduzca una palabra vacía. Guarda todas las palabras\n",
        "en una tupla y muestra la primera y la última introducidas haciendo uso del método unpacking.\n",
        "PISTA: Para guardar los elementos de uno en uno vas a tener que utilizar un tipo de dato que no es tupla\n",
        "y luego transformarlo a tupla."
      ],
      "metadata": {
        "id": "4AoQzLjsSGBA"
      }
    },
    {
      "cell_type": "code",
      "source": [
        "words = input(\"Introduzca cualquier palabra: \")\n",
        "list_words = []\n",
        "\n",
        "while words != \"\":\n",
        "    list_words.append((words))\n",
        "    words = input(\"Introduzca cualquier palabra: \")\n",
        "\n",
        "tuple_words = tuple(list_words)\n",
        "word1, *words, word2 = tuple_words\n",
        "\n",
        "print(\"{} ha sido la primera palabra introducido y {} la última\".format(word1,word2))"
      ],
      "metadata": {
        "colab": {
          "base_uri": "https://localhost:8080/"
        },
        "id": "XhNYcD2RSH29",
        "outputId": "434cb6b5-2151-4788-bf02-051da7711de9"
      },
      "execution_count": 16,
      "outputs": [
        {
          "output_type": "stream",
          "name": "stdout",
          "text": [
            "Introduzca cualquier palabra: Manzana\n",
            "Introduzca cualquier palabra: Pera\n",
            "Introduzca cualquier palabra: Kiwi\n",
            "Introduzca cualquier palabra: Sandía\n",
            "Introduzca cualquier palabra: Melocotón\n",
            "Introduzca cualquier palabra: \n",
            "Manzana ha sido la primera palabra introducido y Melocotón la última\n"
          ]
        }
      ]
    },
    {
      "cell_type": "markdown",
      "source": [
        "## Ejercicio 5"
      ],
      "metadata": {
        "id": "DJ5D4XbgRQRH"
      }
    },
    {
      "cell_type": "markdown",
      "source": [
        "Dada una lista de palabras, crea otra lista del mismo tamaño que guarde la longitud de cada palabra. Usa\n",
        "la función zip() para crear un diccionario con claves las palabras y valores, su longitud.\n",
        "\n"
      ],
      "metadata": {
        "id": "IjfCPB8nSK4T"
      }
    },
    {
      "cell_type": "code",
      "source": [
        "fruits = [\"Manzana\", \"Melocotón\", \"Fresas\",\"Uvas\", \"Kiwi\", \"Caqui\"]\n",
        "\n",
        "fruits_len = []\n",
        "\n",
        "for fruit in fruits:\n",
        "    fruits_len.append(len(fruit))\n",
        "\n",
        "dicc = dict(zip(fruits,fruits_len))\n",
        "print(dicc)"
      ],
      "metadata": {
        "colab": {
          "base_uri": "https://localhost:8080/"
        },
        "id": "cDHQQqrwSLha",
        "outputId": "9c85900e-5d0f-4784-eb9e-9edcf01ddc62"
      },
      "execution_count": 20,
      "outputs": [
        {
          "output_type": "stream",
          "name": "stdout",
          "text": [
            "{'Manzana': 7, 'Melocotón': 9, 'Fresas': 6, 'Uvas': 4, 'Kiwi': 4, 'Caqui': 5}\n"
          ]
        }
      ]
    },
    {
      "cell_type": "markdown",
      "source": [
        "## Ejercicio 6"
      ],
      "metadata": {
        "id": "oml6Lz5cRRTI"
      }
    },
    {
      "cell_type": "markdown",
      "source": [
        "Haz que el usuario introduzca palabras hasta que introduzca una palabra vacía. Guarda todas las palabras\n",
        "en una tupla y muestra la tupla y el número total de caracteres que ha introducido.\n",
        "PISTA: Para guardar los elementos de uno en uno vas a tener que utilizar un tipo de dato que no es tupla\n",
        "y luego transformarlo a tupla."
      ],
      "metadata": {
        "id": "fHikzo0eSObD"
      }
    },
    {
      "cell_type": "code",
      "source": [
        "words = input(\"Introduzca cualquier palabra: \")\n",
        "list_words = []\n",
        "\n",
        "while words != \"\":\n",
        "    list_words.append((words))\n",
        "    words = input(\"Introduzca cualquier palabra: \")\n",
        "\n",
        "tuple_words = tuple(list_words)\n",
        "\n",
        "total = 0\n",
        "for i in tuple_words:\n",
        "    total += len(i)\n",
        "\n",
        "print(\"Las palabras introducidas han sido {} con un total de {} caracteres\".format(tuple_words, total))\n",
        "\n"
      ],
      "metadata": {
        "colab": {
          "base_uri": "https://localhost:8080/"
        },
        "id": "YeQe0ShNSPRz",
        "outputId": "f914ab8f-f5ab-4c83-db0e-4920bb8fdfca"
      },
      "execution_count": 23,
      "outputs": [
        {
          "output_type": "stream",
          "name": "stdout",
          "text": [
            "Introduzca cualquier palabra: Manzana\n",
            "Introduzca cualquier palabra: Pera\n",
            "Introduzca cualquier palabra: Plátano\n",
            "Introduzca cualquier palabra: Melón\n",
            "Introduzca cualquier palabra: Nectarina\n",
            "Introduzca cualquier palabra: \n",
            "Las palabras introducidas han sido ('Manzana', 'Pera', 'Plátano', 'Melón', 'Nectarina') con un total de 32 caracteres\n"
          ]
        }
      ]
    },
    {
      "cell_type": "markdown",
      "source": [
        "## Ejercicio 7"
      ],
      "metadata": {
        "id": "mzHy02c2RTMQ"
      }
    },
    {
      "cell_type": "markdown",
      "source": [
        "Crea una lista de 20 tuplas de tamaño 2. La primera entrada será un número entero entre 1 y 20 y la segunda\n",
        "entrada contendrá una lista con los 10 primeros múltiplos del número entero correspondiente. Por último,\n",
        "muestra las tablas de multiplicar del 1 al 20 con el formato “1 x 1 = 1”.\n"
      ],
      "metadata": {
        "id": "-T2Hr6PxSYn1"
      }
    },
    {
      "cell_type": "code",
      "source": [
        "mult_tables = []\n",
        "\n",
        "for i in range(1,21):\n",
        "    mult_tables.append((i, [i * j for j in range(1,11)]))\n",
        "\n",
        "for item in mult_tables:\n",
        "    print(\"------------ TABLA DEL\", item[0], \"------------\")\n",
        "    for x in item[1]:\n",
        "        print(\"{} x {} = {}\".format(item[0], item[1].index(x) + 1, x))"
      ],
      "metadata": {
        "colab": {
          "base_uri": "https://localhost:8080/"
        },
        "id": "CxsLHbTmSagu",
        "outputId": "d6fd1f25-01d5-48ca-e7d9-ac007d9b922e"
      },
      "execution_count": 22,
      "outputs": [
        {
          "output_type": "stream",
          "name": "stdout",
          "text": [
            "------------ TABLA DEL 1 ------------\n",
            "1 x 1 = 1\n",
            "1 x 2 = 2\n",
            "1 x 3 = 3\n",
            "1 x 4 = 4\n",
            "1 x 5 = 5\n",
            "1 x 6 = 6\n",
            "1 x 7 = 7\n",
            "1 x 8 = 8\n",
            "1 x 9 = 9\n",
            "1 x 10 = 10\n",
            "------------ TABLA DEL 2 ------------\n",
            "2 x 1 = 2\n",
            "2 x 2 = 4\n",
            "2 x 3 = 6\n",
            "2 x 4 = 8\n",
            "2 x 5 = 10\n",
            "2 x 6 = 12\n",
            "2 x 7 = 14\n",
            "2 x 8 = 16\n",
            "2 x 9 = 18\n",
            "2 x 10 = 20\n",
            "------------ TABLA DEL 3 ------------\n",
            "3 x 1 = 3\n",
            "3 x 2 = 6\n",
            "3 x 3 = 9\n",
            "3 x 4 = 12\n",
            "3 x 5 = 15\n",
            "3 x 6 = 18\n",
            "3 x 7 = 21\n",
            "3 x 8 = 24\n",
            "3 x 9 = 27\n",
            "3 x 10 = 30\n",
            "------------ TABLA DEL 4 ------------\n",
            "4 x 1 = 4\n",
            "4 x 2 = 8\n",
            "4 x 3 = 12\n",
            "4 x 4 = 16\n",
            "4 x 5 = 20\n",
            "4 x 6 = 24\n",
            "4 x 7 = 28\n",
            "4 x 8 = 32\n",
            "4 x 9 = 36\n",
            "4 x 10 = 40\n",
            "------------ TABLA DEL 5 ------------\n",
            "5 x 1 = 5\n",
            "5 x 2 = 10\n",
            "5 x 3 = 15\n",
            "5 x 4 = 20\n",
            "5 x 5 = 25\n",
            "5 x 6 = 30\n",
            "5 x 7 = 35\n",
            "5 x 8 = 40\n",
            "5 x 9 = 45\n",
            "5 x 10 = 50\n",
            "------------ TABLA DEL 6 ------------\n",
            "6 x 1 = 6\n",
            "6 x 2 = 12\n",
            "6 x 3 = 18\n",
            "6 x 4 = 24\n",
            "6 x 5 = 30\n",
            "6 x 6 = 36\n",
            "6 x 7 = 42\n",
            "6 x 8 = 48\n",
            "6 x 9 = 54\n",
            "6 x 10 = 60\n",
            "------------ TABLA DEL 7 ------------\n",
            "7 x 1 = 7\n",
            "7 x 2 = 14\n",
            "7 x 3 = 21\n",
            "7 x 4 = 28\n",
            "7 x 5 = 35\n",
            "7 x 6 = 42\n",
            "7 x 7 = 49\n",
            "7 x 8 = 56\n",
            "7 x 9 = 63\n",
            "7 x 10 = 70\n",
            "------------ TABLA DEL 8 ------------\n",
            "8 x 1 = 8\n",
            "8 x 2 = 16\n",
            "8 x 3 = 24\n",
            "8 x 4 = 32\n",
            "8 x 5 = 40\n",
            "8 x 6 = 48\n",
            "8 x 7 = 56\n",
            "8 x 8 = 64\n",
            "8 x 9 = 72\n",
            "8 x 10 = 80\n",
            "------------ TABLA DEL 9 ------------\n",
            "9 x 1 = 9\n",
            "9 x 2 = 18\n",
            "9 x 3 = 27\n",
            "9 x 4 = 36\n",
            "9 x 5 = 45\n",
            "9 x 6 = 54\n",
            "9 x 7 = 63\n",
            "9 x 8 = 72\n",
            "9 x 9 = 81\n",
            "9 x 10 = 90\n",
            "------------ TABLA DEL 10 ------------\n",
            "10 x 1 = 10\n",
            "10 x 2 = 20\n",
            "10 x 3 = 30\n",
            "10 x 4 = 40\n",
            "10 x 5 = 50\n",
            "10 x 6 = 60\n",
            "10 x 7 = 70\n",
            "10 x 8 = 80\n",
            "10 x 9 = 90\n",
            "10 x 10 = 100\n",
            "------------ TABLA DEL 11 ------------\n",
            "11 x 1 = 11\n",
            "11 x 2 = 22\n",
            "11 x 3 = 33\n",
            "11 x 4 = 44\n",
            "11 x 5 = 55\n",
            "11 x 6 = 66\n",
            "11 x 7 = 77\n",
            "11 x 8 = 88\n",
            "11 x 9 = 99\n",
            "11 x 10 = 110\n",
            "------------ TABLA DEL 12 ------------\n",
            "12 x 1 = 12\n",
            "12 x 2 = 24\n",
            "12 x 3 = 36\n",
            "12 x 4 = 48\n",
            "12 x 5 = 60\n",
            "12 x 6 = 72\n",
            "12 x 7 = 84\n",
            "12 x 8 = 96\n",
            "12 x 9 = 108\n",
            "12 x 10 = 120\n",
            "------------ TABLA DEL 13 ------------\n",
            "13 x 1 = 13\n",
            "13 x 2 = 26\n",
            "13 x 3 = 39\n",
            "13 x 4 = 52\n",
            "13 x 5 = 65\n",
            "13 x 6 = 78\n",
            "13 x 7 = 91\n",
            "13 x 8 = 104\n",
            "13 x 9 = 117\n",
            "13 x 10 = 130\n",
            "------------ TABLA DEL 14 ------------\n",
            "14 x 1 = 14\n",
            "14 x 2 = 28\n",
            "14 x 3 = 42\n",
            "14 x 4 = 56\n",
            "14 x 5 = 70\n",
            "14 x 6 = 84\n",
            "14 x 7 = 98\n",
            "14 x 8 = 112\n",
            "14 x 9 = 126\n",
            "14 x 10 = 140\n",
            "------------ TABLA DEL 15 ------------\n",
            "15 x 1 = 15\n",
            "15 x 2 = 30\n",
            "15 x 3 = 45\n",
            "15 x 4 = 60\n",
            "15 x 5 = 75\n",
            "15 x 6 = 90\n",
            "15 x 7 = 105\n",
            "15 x 8 = 120\n",
            "15 x 9 = 135\n",
            "15 x 10 = 150\n",
            "------------ TABLA DEL 16 ------------\n",
            "16 x 1 = 16\n",
            "16 x 2 = 32\n",
            "16 x 3 = 48\n",
            "16 x 4 = 64\n",
            "16 x 5 = 80\n",
            "16 x 6 = 96\n",
            "16 x 7 = 112\n",
            "16 x 8 = 128\n",
            "16 x 9 = 144\n",
            "16 x 10 = 160\n",
            "------------ TABLA DEL 17 ------------\n",
            "17 x 1 = 17\n",
            "17 x 2 = 34\n",
            "17 x 3 = 51\n",
            "17 x 4 = 68\n",
            "17 x 5 = 85\n",
            "17 x 6 = 102\n",
            "17 x 7 = 119\n",
            "17 x 8 = 136\n",
            "17 x 9 = 153\n",
            "17 x 10 = 170\n",
            "------------ TABLA DEL 18 ------------\n",
            "18 x 1 = 18\n",
            "18 x 2 = 36\n",
            "18 x 3 = 54\n",
            "18 x 4 = 72\n",
            "18 x 5 = 90\n",
            "18 x 6 = 108\n",
            "18 x 7 = 126\n",
            "18 x 8 = 144\n",
            "18 x 9 = 162\n",
            "18 x 10 = 180\n",
            "------------ TABLA DEL 19 ------------\n",
            "19 x 1 = 19\n",
            "19 x 2 = 38\n",
            "19 x 3 = 57\n",
            "19 x 4 = 76\n",
            "19 x 5 = 95\n",
            "19 x 6 = 114\n",
            "19 x 7 = 133\n",
            "19 x 8 = 152\n",
            "19 x 9 = 171\n",
            "19 x 10 = 190\n",
            "------------ TABLA DEL 20 ------------\n",
            "20 x 1 = 20\n",
            "20 x 2 = 40\n",
            "20 x 3 = 60\n",
            "20 x 4 = 80\n",
            "20 x 5 = 100\n",
            "20 x 6 = 120\n",
            "20 x 7 = 140\n",
            "20 x 8 = 160\n",
            "20 x 9 = 180\n",
            "20 x 10 = 200\n"
          ]
        }
      ]
    },
    {
      "cell_type": "markdown",
      "source": [
        "## Ejercicio 8"
      ],
      "metadata": {
        "id": "shgx0VYqRURh"
      }
    },
    {
      "cell_type": "markdown",
      "source": [
        "Pide al usuario dos números enteros por teclado. Asegúrate de que el primero es mayor o igual al segundo.\n",
        "Realiza la división entera y guarda en una tupla el dividendo, el divisor, el cociente y el resto de la divisón\n",
        "entera realizada y muéstrale al usuario el resultado por pantalla.\n"
      ],
      "metadata": {
        "id": "pUkp0OOGScfS"
      }
    },
    {
      "cell_type": "code",
      "source": [
        "num1 = int(input(\"Introduce un número entero: \"))\n",
        "num2 = int(input(\"Introduce otro número entero: \"))\n",
        "\n",
        "if num1 >= num2:\n",
        "    print(\"Se muestra el dividendo, el divisor, el cociente y el resto de la divisón entera: \\n\", (num1, num2, num1 // num2, num1 % num2))\n",
        "else:\n",
        "    print(\"El segundo número entero debe ser menor o igual que el primer número introducido\")"
      ],
      "metadata": {
        "colab": {
          "base_uri": "https://localhost:8080/"
        },
        "id": "9Cr9chKcSdYA",
        "outputId": "a20f9cf6-f82b-4058-9f26-c2296521e905"
      },
      "execution_count": 24,
      "outputs": [
        {
          "output_type": "stream",
          "name": "stdout",
          "text": [
            "Introduce un número entero: 64\n",
            "Introduce otro número entero: 4\n",
            "Se muestra el dividendo, el divisor, el cociente y el resto de la divisón entera: \n",
            " (64, 4, 16, 0)\n"
          ]
        }
      ]
    },
    {
      "cell_type": "markdown",
      "source": [
        "## Ejercicio 9"
      ],
      "metadata": {
        "id": "DubPYjb5RVX3"
      }
    },
    {
      "cell_type": "markdown",
      "source": [
        "Pide al usuario números entre 0 y 360. Para cada número, crea una tupla donde la primera entrada sea\n",
        "dicho número y, la segunda, la medida angular correspondiente en radianes. Recuerda, 360◦ = 2πrad. En\n",
        "este caso, utiliza π = 3.141592653589793"
      ],
      "metadata": {
        "id": "u9rj0V7jSglE"
      }
    },
    {
      "cell_type": "code",
      "source": [
        "num = float(input(\"Introduce un número entre el 0 y 360: \"))\n",
        "\n",
        "print((num, num * 2 *3.141592653589793/ 360))"
      ],
      "metadata": {
        "colab": {
          "base_uri": "https://localhost:8080/"
        },
        "id": "6NNQvI0lShdz",
        "outputId": "4b99651a-a760-4c04-c059-39a8205b333d"
      },
      "execution_count": 26,
      "outputs": [
        {
          "output_type": "stream",
          "name": "stdout",
          "text": [
            "Introduce un número entre el 0 y 360: 245.45\n",
            "(245.45, 4.283910649020082)\n"
          ]
        }
      ]
    },
    {
      "cell_type": "markdown",
      "source": [
        "## Ejercicio 10"
      ],
      "metadata": {
        "id": "1dUelp6_RWcm"
      }
    },
    {
      "cell_type": "markdown",
      "source": [
        "Pide al usuario números complejos. Para cada número, crea una tupla donde la primera entrada sea dicho\n",
        "número complejo, la segunda, su opuesto y, la tercera, su conjugado.\n"
      ],
      "metadata": {
        "id": "y3dG9UDySi_n"
      }
    },
    {
      "cell_type": "code",
      "source": [
        "z = complex(float(input(\"Introduce la parte real del número complejo: \")), float(input(\"Introduce la parte imaginaria del número complejo: \")) )\n",
        "\n",
        "print((z, -z, z.conjugate()) )"
      ],
      "metadata": {
        "colab": {
          "base_uri": "https://localhost:8080/"
        },
        "id": "qhU9uCawSjiH",
        "outputId": "e0dbd3bd-4915-402b-e2a8-2b2b2c572272"
      },
      "execution_count": 29,
      "outputs": [
        {
          "output_type": "stream",
          "name": "stdout",
          "text": [
            "Introduce la parte real del número complejo: 5\n",
            "Introduce la parte imaginaria del número complejo: 12\n",
            "((5+12j), (-5-12j), (5-12j))\n"
          ]
        }
      ]
    }
  ]
}