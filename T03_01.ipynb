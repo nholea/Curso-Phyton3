{
  "nbformat": 4,
  "nbformat_minor": 0,
  "metadata": {
    "colab": {
      "name": "T03-01.ipynb",
      "provenance": [],
      "collapsed_sections": [],
      "include_colab_link": true
    },
    "kernelspec": {
      "name": "python3",
      "display_name": "Python 3"
    }
  },
  "cells": [
    {
      "cell_type": "markdown",
      "metadata": {
        "id": "view-in-github",
        "colab_type": "text"
      },
      "source": [
        "<a href=\"https://colab.research.google.com/github/nholea/Curso-Phyton3/blob/main/T03_01.ipynb\" target=\"_parent\"><img src=\"https://colab.research.google.com/assets/colab-badge.svg\" alt=\"Open In Colab\"/></a>"
      ]
    },
    {
      "cell_type": "markdown",
      "metadata": {
        "id": "C8vT3Q7CPV3_"
      },
      "source": [
        "# Ejercicio\n",
        "\n",
        "Vamos a combinar concatenación y repetición de strings para reproducir la canción \"Cumpleaños feliz\""
      ]
    },
    {
      "cell_type": "code",
      "metadata": {
        "colab": {
          "base_uri": "https://localhost:8080/"
        },
        "id": "r88QuhuK_FyU",
        "outputId": "4932ef0c-25da-40bb-d026-8aae3b3e6348"
      },
      "source": [
        "s1 = \"¡Cumpleaños feliz!\"\n",
        "s2 = \"Te deseamos todos\"\n",
        "\n",
        "song = (s1 + \"\\n\") * 2 + s2 + \",\\n\" + s1\n",
        "print(song)"
      ],
      "execution_count": 4,
      "outputs": [
        {
          "output_type": "stream",
          "name": "stdout",
          "text": [
            "¡Cumpleaños feliz!\n",
            "¡Cumpleaños feliz!\n",
            "Te deseamos todos,\n",
            "¡Cumpleaños feliz!\n"
          ]
        }
      ]
    }
  ]
}