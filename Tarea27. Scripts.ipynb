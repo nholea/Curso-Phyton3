{
  "nbformat": 4,
  "nbformat_minor": 0,
  "metadata": {
    "colab": {
      "name": "Untitled11.ipynb",
      "provenance": [],
      "authorship_tag": "ABX9TyOYH1tNOQO5E9gr/mIdIeNb",
      "include_colab_link": true
    },
    "kernelspec": {
      "name": "python3",
      "display_name": "Python 3"
    },
    "language_info": {
      "name": "python"
    }
  },
  "cells": [
    {
      "cell_type": "markdown",
      "metadata": {
        "id": "view-in-github",
        "colab_type": "text"
      },
      "source": [
        "<a href=\"https://colab.research.google.com/github/nholea/Curso-Python3/blob/main/Tarea27.%20Scripts.ipynb\" target=\"_parent\"><img src=\"https://colab.research.google.com/assets/colab-badge.svg\" alt=\"Open In Colab\"/></a>"
      ]
    },
    {
      "cell_type": "markdown",
      "source": [
        "# Tarea 13 - Scripts y Módulos en Python"
      ],
      "metadata": {
        "id": "83CCQ11sQ1Vy"
      }
    },
    {
      "cell_type": "markdown",
      "source": [
        "## Ejercicio 1\n"
      ],
      "metadata": {
        "id": "f_h2v0lnRBTP"
      }
    },
    {
      "cell_type": "markdown",
      "source": [
        "Crea un script llamado vectors.py. Ábrelo y crea una clase llamada Vector2D. El constructor debe guardar\n",
        "las coordenadas x e y del vector."
      ],
      "metadata": {
        "id": "_wCDKlfYRcMN"
      }
    },
    {
      "cell_type": "markdown",
      "source": [
        "## Ejercicio 2\n"
      ],
      "metadata": {
        "id": "-oCarPsfRGgw"
      }
    },
    {
      "cell_type": "markdown",
      "source": [
        "Crea los siguientes métodos:\n",
        "• La propiedad .module que devuelva el módulo del vector. Recuerda que el módulo de un vector 2D se\n",
        "calcula como p\n",
        "x\n",
        "2 + y\n",
        "2. Para calcular raíces cuadradas, dispones del método math.sqrt().\n",
        "• El método de instancia .scalar_prod() que multiplique el vector por el número real dado por\n",
        "parámetro, que por defecto vale 1.\n",
        "Configura el método .__str__ para que se nos muestre por pantalla el vector de la forma (x, y)"
      ],
      "metadata": {
        "id": "tEG8nVbzR2G6"
      }
    },
    {
      "cell_type": "markdown",
      "source": [
        "## Ejercicio 3"
      ],
      "metadata": {
        "id": "pbO6wUBaRNmY"
      }
    },
    {
      "cell_type": "markdown",
      "source": [
        "Crea los siguientes métodos:\n",
        "* El método de clase .sum() que dados dos vectores los sume y devuelva un objeto de la clase Vector2D.\n",
        "* El método de clase .subtract() que dadoas dos vectores los reste y devuelva un objeto de la clase\n",
        "Vector2D.\n"
      ],
      "metadata": {
        "id": "Sc7cC2g6R5fq"
      }
    },
    {
      "cell_type": "markdown",
      "source": [
        "## Ejercicio 4"
      ],
      "metadata": {
        "id": "rOfH5ydcRPMI"
      }
    },
    {
      "cell_type": "markdown",
      "source": [
        "Crea los siguientes métodos:\n",
        "*  El método estático .dot_product() que dados dos vectores calcule su producto escalar. Recuerda que\n",
        "el producto escalar de 2 vectores 2D u y v se calcula como u · v = uxvx + uyvy\n",
        "*  El método de clase .distance() que dados dos vectores calcule la distancia entre ellos. Recuerda que\n",
        "la distancia entre 2 vectores 2D u y v se calcula como p\n",
        "(ux − vx)\n",
        "2 + (uy − vy)\n",
        "2\n"
      ],
      "metadata": {
        "id": "4AoQzLjsSGBA"
      }
    },
    {
      "cell_type": "markdown",
      "source": [
        "## Ejercicio 5"
      ],
      "metadata": {
        "id": "DJ5D4XbgRQRH"
      }
    },
    {
      "cell_type": "markdown",
      "source": [
        "Ahora crea la clase Vector3D que herede de la clase Vector2D. Empieza con el constructor para que además\n",
        "de las coordenadas x e y, también tome la coordenada z. Recuerda que puedes utilizar el método .super()\n",
        "para acceder a métodos de la clase padre."
      ],
      "metadata": {
        "id": "IjfCPB8nSK4T"
      }
    },
    {
      "cell_type": "markdown",
      "source": [
        "## Ejercicio 6"
      ],
      "metadata": {
        "id": "oml6Lz5cRRTI"
      }
    },
    {
      "cell_type": "markdown",
      "source": [
        "Crea en la clase Vector3D los métodos siguientes:\n",
        "*  el método .__str__() para que muestre el vector por pantalla de la forma (x, y, z).\n",
        "• la propiedad .module. Al tener vectores 3D, el módulo se calcula como p\n",
        "x\n",
        "2 + y\n",
        "2 + z\n",
        "2\n",
        "*  el método de instancia .scalar_prod()\n",
        "*  los métodos de clase .sum() y .subtract() para que devuelvan objetos de la clase Vector3D.\n",
        "* el método estático .dot_product(), pues ahora el producto escalar se calcula como u · v = uxvx +\n",
        "uyvy + uzvz\n",
        "* el método de clase .distance(), pues ahora la distancia se calcula como\n",
        "q\n",
        "(ux − vx)\n",
        "2 + (uy − vy)\n",
        "2 + (uz − vz)\n",
        "2\n",
        "Recuerda que dispones del método .super() para evitar repeticiones innecesarias de código."
      ],
      "metadata": {
        "id": "fHikzo0eSObD"
      }
    },
    {
      "cell_type": "markdown",
      "source": [
        "## Ejercicio 7"
      ],
      "metadata": {
        "id": "mzHy02c2RTMQ"
      }
    },
    {
      "cell_type": "markdown",
      "source": [
        "Crea en la clase Vector3D los métodos siguientes:\n",
        "* el método de clase .zero() que devuelva un objeto Vector3D con todas sus componentes 0.\n",
        "\n",
        "* el método de clase .horizontal() que devuelva un objeto Vector3D con todas sus componentes 0\n",
        "salvo la primera que valdrá 1.\n",
        "\n",
        "* el método de clase .vertical() que devuelva un objeto Vector3D con todas sus componentes 0 salvo\n",
        "la segunda que valdrá 1.\n",
        "\n",
        "* el método de clase .forward() que devuelva un objeto Vector3D con todas sus componentes 0 salvo\n",
        "la tercera y última que valdrá 1.\n"
      ],
      "metadata": {
        "id": "-T2Hr6PxSYn1"
      }
    },
    {
      "cell_type": "markdown",
      "source": [
        "## Ejercicio 8"
      ],
      "metadata": {
        "id": "shgx0VYqRURh"
      }
    },
    {
      "cell_type": "markdown",
      "source": [
        "Crea en la clase Vector2D el método de instancia .extend_to_3D() que devuelva un objeto de la clase\n",
        "Vector3D siendo la componente z el valor indicado por parámetro, que por defecto valdrá 0."
      ],
      "metadata": {
        "id": "pUkp0OOGScfS"
      }
    },
    {
      "cell_type": "markdown",
      "source": [
        "## Ejercicio 9"
      ],
      "metadata": {
        "id": "DubPYjb5RVX3"
      }
    },
    {
      "cell_type": "markdown",
      "source": [
        "En un notebook de Google Colab, importa el script, crea dos objetos de la clase Vector2D y prueba que\n",
        "todos los métodos de la clase Vector2D funcionan correctamente"
      ],
      "metadata": {
        "id": "u9rj0V7jSglE"
      }
    },
    {
      "cell_type": "code",
      "source": [
        "from google.colab import drive\n",
        "drive.mount('/content/drive')\n",
        "%cd /content/drive/MyDrive/Colab Notebooks/scripts curso Udemy"
      ],
      "metadata": {
        "id": "PiASTZXWgagW",
        "colab": {
          "base_uri": "https://localhost:8080/"
        },
        "outputId": "2afeb063-a5de-4523-846a-f1a59334fe91"
      },
      "execution_count": 1,
      "outputs": [
        {
          "output_type": "stream",
          "name": "stdout",
          "text": [
            "Drive already mounted at /content/drive; to attempt to forcibly remount, call drive.mount(\"/content/drive\", force_remount=True).\n",
            "/content/drive/MyDrive/Colab Notebooks/scripts curso Udemy\n"
          ]
        }
      ]
    },
    {
      "cell_type": "code",
      "source": [
        "from vectors import *"
      ],
      "metadata": {
        "id": "1xQa-0IqNBm3"
      },
      "execution_count": 2,
      "outputs": []
    },
    {
      "cell_type": "code",
      "source": [
        "u = Vector2D(5,8)\n",
        "print(u)"
      ],
      "metadata": {
        "colab": {
          "base_uri": "https://localhost:8080/"
        },
        "id": "MweCk914Nfev",
        "outputId": "e793147f-a43b-4c90-ac2c-501fda64db53"
      },
      "execution_count": 3,
      "outputs": [
        {
          "output_type": "stream",
          "name": "stdout",
          "text": [
            "(5, 8)\n"
          ]
        }
      ]
    },
    {
      "cell_type": "code",
      "source": [
        "u.module #Módulo\n",
        "print(u.scalar_prod(9)) #producto escalar"
      ],
      "metadata": {
        "colab": {
          "base_uri": "https://localhost:8080/"
        },
        "id": "51RYMHI3Ntcf",
        "outputId": "2a6f17a4-a9ba-4fa1-db71-393e1385ab16"
      },
      "execution_count": 4,
      "outputs": [
        {
          "output_type": "stream",
          "name": "stdout",
          "text": [
            "None\n"
          ]
        }
      ]
    },
    {
      "cell_type": "code",
      "source": [
        "v = Vector2D(8,4)\n",
        "print(v)"
      ],
      "metadata": {
        "colab": {
          "base_uri": "https://localhost:8080/"
        },
        "id": "T6TvYLQzOUaX",
        "outputId": "a65faa6d-7716-43ee-e633-6b080ee2afe5"
      },
      "execution_count": 5,
      "outputs": [
        {
          "output_type": "stream",
          "name": "stdout",
          "text": [
            "(8, 4)\n"
          ]
        }
      ]
    },
    {
      "cell_type": "code",
      "source": [
        "print(Vector2D.sum(u,v))\n",
        "print(Vector2D.subtract(u,v))\n",
        "print(Vector2D.dot_product(u,v))\n",
        "print(Vector2D.distance(u,v))\n"
      ],
      "metadata": {
        "colab": {
          "base_uri": "https://localhost:8080/"
        },
        "id": "23JX-k0POaqm",
        "outputId": "43b9908f-f163-4a1f-b49c-d62ccd057621"
      },
      "execution_count": 6,
      "outputs": [
        {
          "output_type": "stream",
          "name": "stdout",
          "text": [
            "(53, 76)\n",
            "(37, 68)\n",
            "648\n",
            "77.41446893184762\n"
          ]
        }
      ]
    },
    {
      "cell_type": "code",
      "source": [
        "v3 = u.extend_to_3D(6)\n",
        "print(v3)"
      ],
      "metadata": {
        "colab": {
          "base_uri": "https://localhost:8080/"
        },
        "id": "P8d0JfQ5Oz1b",
        "outputId": "769b9e1c-1343-49b2-b4e5-3ef68f738d44"
      },
      "execution_count": 7,
      "outputs": [
        {
          "output_type": "stream",
          "name": "stdout",
          "text": [
            "(45, 72,6)\n"
          ]
        }
      ]
    },
    {
      "cell_type": "markdown",
      "source": [
        "## Ejercicio 10"
      ],
      "metadata": {
        "id": "1dUelp6_RWcm"
      }
    },
    {
      "cell_type": "markdown",
      "source": [
        "Ahora crea dos objetos de la clase Vector3D y prueba que todos los métodos de la clase Vector3D funcionan\n",
        "correctamente"
      ],
      "metadata": {
        "id": "y3dG9UDySi_n"
      }
    },
    {
      "cell_type": "code",
      "source": [
        "u1 = Vector3D(4,6,-8)\n",
        "v1 = Vector3D(7,-5,-15)\n",
        "print(u1)"
      ],
      "metadata": {
        "id": "qhU9uCawSjiH",
        "colab": {
          "base_uri": "https://localhost:8080/"
        },
        "outputId": "6f89f673-2ff5-4f32-bb01-aa1544ec4d77"
      },
      "execution_count": 8,
      "outputs": [
        {
          "output_type": "stream",
          "name": "stdout",
          "text": [
            "(4, 6,-8)\n"
          ]
        }
      ]
    },
    {
      "cell_type": "code",
      "source": [
        "u1.module #Módulo\n",
        "u1.scalar_prod(6) #Producto escalar"
      ],
      "metadata": {
        "id": "v1vhrW83QEPj"
      },
      "execution_count": 9,
      "outputs": []
    },
    {
      "cell_type": "code",
      "source": [
        "print(Vector3D.sum(u1,v1))\n",
        "print(Vector3D.subtract(u1,v1))\n",
        "print(Vector3D.dot_product(u1,v1))\n",
        "print(Vector3D.distance(u1,v1))"
      ],
      "metadata": {
        "colab": {
          "base_uri": "https://localhost:8080/"
        },
        "id": "0q5etjkLQary",
        "outputId": "1dc1c0a9-3725-4fe5-dff3-9a4788fa5e2c"
      },
      "execution_count": 10,
      "outputs": [
        {
          "output_type": "stream",
          "name": "stdout",
          "text": [
            "(31, 31,-63)\n",
            "(17, 41,-33)\n",
            "708\n",
            "55.308227236099334\n"
          ]
        }
      ]
    },
    {
      "cell_type": "code",
      "source": [
        "print(Vector3D.zero())\n",
        "print(Vector3D.horizontal())\n",
        "print(Vector3D.vertical())\n",
        "print(Vector3D.forward())"
      ],
      "metadata": {
        "colab": {
          "base_uri": "https://localhost:8080/"
        },
        "id": "I7L9se0YQ7PD",
        "outputId": "a5a82b02-7658-4394-a00e-7fd3423b0a69"
      },
      "execution_count": 13,
      "outputs": [
        {
          "output_type": "stream",
          "name": "stdout",
          "text": [
            "None\n",
            "None\n",
            "None\n",
            "None\n"
          ]
        }
      ]
    }
  ]
}