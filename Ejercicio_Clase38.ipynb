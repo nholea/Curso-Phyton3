{
  "nbformat": 4,
  "nbformat_minor": 0,
  "metadata": {
    "colab": {
      "name": "Untitled0.ipynb",
      "provenance": [],
      "authorship_tag": "ABX9TyOFBXBHEGMPRAB9UyDbFhzi",
      "include_colab_link": true
    },
    "kernelspec": {
      "name": "python3",
      "display_name": "Python 3"
    },
    "language_info": {
      "name": "python"
    }
  },
  "cells": [
    {
      "cell_type": "markdown",
      "metadata": {
        "id": "view-in-github",
        "colab_type": "text"
      },
      "source": [
        "<a href=\"https://colab.research.google.com/github/nholea/Curso-Python3/blob/main/Ejercicio_Clase38.ipynb\" target=\"_parent\"><img src=\"https://colab.research.google.com/assets/colab-badge.svg\" alt=\"Open In Colab\"/></a>"
      ]
    },
    {
      "cell_type": "code",
      "metadata": {
        "colab": {
          "base_uri": "https://localhost:8080/"
        },
        "id": "7dNxrmJ0myjH",
        "outputId": "67c7eeda-ad02-4e77-aaa2-a98d1a57ecc5"
      },
      "source": [
        "#Ejercicio comparar tu edad con 18\n",
        "age = int(input(\"Introduce tu edad: \"))\n",
        "\n",
        "mayor_edad = age >= 18\n",
        "print(\"¿Eres Mayor de edad?: \\n\", mayor_edad)"
      ],
      "execution_count": 5,
      "outputs": [
        {
          "output_type": "stream",
          "name": "stdout",
          "text": [
            "Introduce tu edad: 2\n",
            "¿Eres Mayor de edad?: \n",
            " False\n"
          ]
        }
      ]
    }
  ]
}