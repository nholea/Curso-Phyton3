{
  "nbformat": 4,
  "nbformat_minor": 0,
  "metadata": {
    "colab": {
      "name": "Untitled11.ipynb",
      "provenance": [],
      "collapsed_sections": [],
      "authorship_tag": "ABX9TyMtMsbbD854NoFIz27cdATd",
      "include_colab_link": true
    },
    "kernelspec": {
      "name": "python3",
      "display_name": "Python 3"
    },
    "language_info": {
      "name": "python"
    }
  },
  "cells": [
    {
      "cell_type": "markdown",
      "metadata": {
        "id": "view-in-github",
        "colab_type": "text"
      },
      "source": [
        "<a href=\"https://colab.research.google.com/github/nholea/Curso-Python3/blob/main/Tarea36.%20Archivos_txt.ipynb\" target=\"_parent\"><img src=\"https://colab.research.google.com/assets/colab-badge.svg\" alt=\"Open In Colab\"/></a>"
      ]
    },
    {
      "cell_type": "markdown",
      "source": [
        "# Tarea 17 - Trabajando con archivos txt en Python"
      ],
      "metadata": {
        "id": "83CCQ11sQ1Vy"
      }
    },
    {
      "cell_type": "markdown",
      "source": [
        "## Ejercicio 1\n"
      ],
      "metadata": {
        "id": "f_h2v0lnRBTP"
      }
    },
    {
      "cell_type": "markdown",
      "source": [
        "Pídele al usuario el nombre, el apellido, la edad y su color favorito. Guarda la información en un diccionario\n",
        "de claves name, surname, age y color.\n",
        "Crea y escribe un txt con 4 frases, una en cada línea. La primera debe indicar el nombre del usuario; la\n",
        "segunda, el apellido; la tercera, la edad; y la última, el color favorito del usuario."
      ],
      "metadata": {
        "id": "_wCDKlfYRcMN"
      }
    },
    {
      "cell_type": "code",
      "source": [
        "from google.colab import drive\n",
        "drive.mount('/content/drive')"
      ],
      "metadata": {
        "id": "A-NmkyHr-Bgh",
        "colab": {
          "base_uri": "https://localhost:8080/"
        },
        "outputId": "6b15767b-76c4-4b86-c059-a6ced5ed6c32"
      },
      "execution_count": 2,
      "outputs": [
        {
          "output_type": "stream",
          "name": "stdout",
          "text": [
            "Mounted at /content/drive\n"
          ]
        }
      ]
    },
    {
      "cell_type": "code",
      "source": [
        "name = str(input(\"Introduzca su nombre: \"))\n",
        "surname = str(input(\"Introduzca su apellido completo: \"))\n",
        "age = str(input(\"Introduzca su edad: \"))\n",
        "color = str(input(\"¿Cuál es tu color favorito?: \"))\n",
        "\n",
        "dicc = {\"name\":name, \"surname\": surname, \"age\": age, \"color\": color}\n",
        "\n",
        "with open(\"/content/drive/MyDrive/Colab Notebooks/txt curso Udemy/ejercicio1.txt\", \"w\") as f:\n",
        "    f.write(\"El nombre de usuario es: {}\\n\".format(dicc[\"name\"]))\n",
        "    f.write(\"Con apellido: {}\\n\".format(dicc[\"surname\"]))\n",
        "    f.write(\"La edad del usuario es: {}\\n\".format(dicc[\"age\"]))\n",
        "    f.write(\"El color favorito del usuario es: {}\".format(dicc[\"color\"]))\n"
      ],
      "metadata": {
        "colab": {
          "base_uri": "https://localhost:8080/"
        },
        "id": "1Gx8D4XQ9Fq7",
        "outputId": "82835fd9-e59f-4995-cd93-7f73630510bf"
      },
      "execution_count": 8,
      "outputs": [
        {
          "name": "stdout",
          "output_type": "stream",
          "text": [
            "Introduzca su nombre: Natalia\n",
            "Introduzca su apellido completo: Hernández Olea\n",
            "Introduzca su edad: 28\n",
            "¿Cuál es tu color favorito?: Violeta\n"
          ]
        }
      ]
    },
    {
      "cell_type": "markdown",
      "source": [
        "## Ejercicio 2\n"
      ],
      "metadata": {
        "id": "-oCarPsfRGgw"
      }
    },
    {
      "cell_type": "markdown",
      "source": [
        "Lee el archivo txt creado en el ejercicio anterior para ver que se ha creado correctamente"
      ],
      "metadata": {
        "id": "tEG8nVbzR2G6"
      }
    },
    {
      "cell_type": "code",
      "source": [
        "with open(\"/content/drive/MyDrive/Colab Notebooks/txt curso Udemy/ejercicio1.txt\", \"r\") as f:\n",
        "    for line in f:\n",
        "        print(line)"
      ],
      "metadata": {
        "id": "du5s4k6YAcBv",
        "colab": {
          "base_uri": "https://localhost:8080/"
        },
        "outputId": "2e8e4ce5-5998-4e52-af54-c7648b862fab"
      },
      "execution_count": 10,
      "outputs": [
        {
          "output_type": "stream",
          "name": "stdout",
          "text": [
            "El nombre de usuario es: NataliaCon apellido: Hernández OleaLa edad del usuario es: 28El color favorito del usuario es: VioletaEl nombre de usuario es: Natalia\n",
            "\n",
            "Con apellido: Hernández Olea\n",
            "\n",
            "La edad del usuario es: 28\n",
            "\n",
            "El color favorito del usuario es: Violeta\n"
          ]
        }
      ]
    },
    {
      "cell_type": "markdown",
      "source": [
        "## Ejercicio 3"
      ],
      "metadata": {
        "id": "pbO6wUBaRNmY"
      }
    },
    {
      "cell_type": "markdown",
      "source": [
        "Crea un archivo txt vacío y llámalo ej3.txt."
      ],
      "metadata": {
        "id": "Sc7cC2g6R5fq"
      }
    },
    {
      "cell_type": "code",
      "source": [
        "f = open(\"/content/drive/MyDrive/Colab Notebooks/txt curso Udemy/ej3.txt\", mode = \"x\")\n",
        "f.close()"
      ],
      "metadata": {
        "id": "RdwBW9uagxAR"
      },
      "execution_count": 15,
      "outputs": []
    },
    {
      "cell_type": "markdown",
      "source": [
        "## Ejercicio 4"
      ],
      "metadata": {
        "id": "rOfH5ydcRPMI"
      }
    },
    {
      "cell_type": "markdown",
      "source": [
        "Elimina el archivo creado en el ejercicio 3."
      ],
      "metadata": {
        "id": "4AoQzLjsSGBA"
      }
    },
    {
      "cell_type": "code",
      "source": [
        "import os"
      ],
      "metadata": {
        "id": "iTQD94bbDWua"
      },
      "execution_count": 12,
      "outputs": []
    },
    {
      "cell_type": "code",
      "source": [
        "os.remove(\"/content/drive/MyDrive/Colab Notebooks/txt curso Udemy/ej3.txt\")"
      ],
      "metadata": {
        "id": "8E9p7IkChBon"
      },
      "execution_count": 17,
      "outputs": []
    },
    {
      "cell_type": "markdown",
      "source": [
        "## Ejercicio 5"
      ],
      "metadata": {
        "id": "DJ5D4XbgRQRH"
      }
    },
    {
      "cell_type": "markdown",
      "source": [
        "Crea un archivo txt vacío y llámalo ej5.txt. Sobreescribelo con las siguientes líneas:\n",
        "\n",
        "```\n",
        "\"x,y,Color,Shape \\n\"\n",
        "\"1,1,#6fb7ff,< \\n\"\n",
        "\"-1,1,#ffa66f,v \\n\"\n",
        "\"-1,-1,#ffee6f,> \\n\"\n",
        "\"1,-1,#db6fff,^ \\n\"\n",
        "```\n",
        "\n"
      ],
      "metadata": {
        "id": "IjfCPB8nSK4T"
      }
    },
    {
      "cell_type": "code",
      "source": [
        "f = open(\"/content/drive/MyDrive/Colab Notebooks/txt curso Udemy/ej5.txt\", mode = \"x\")\n",
        "f.close()\n",
        "\n",
        "with open(\"/content/drive/MyDrive/Colab Notebooks/txt curso Udemy/ej5.txt\", \"w\") as f:\n",
        "    f.write(\"x,y,Color,Shape\\n\")\n",
        "    f.write(\"1,1,#6fb7ff,<\\n\")\n",
        "    f.write(\"-1,1,#ffa66f,v\\n\")\n",
        "    f.write(\"-1,-1,#ffee6f,>\\n\")\n",
        "    f.write(\"1,-1,#db6fff,^\\n\")"
      ],
      "metadata": {
        "id": "Sj2M3qRwD0Ey"
      },
      "execution_count": 61,
      "outputs": []
    },
    {
      "cell_type": "markdown",
      "source": [
        "## Ejercicio 6"
      ],
      "metadata": {
        "id": "oml6Lz5cRRTI"
      }
    },
    {
      "cell_type": "markdown",
      "source": [
        "Lee el archivo txt del ejercicio 5 como si fuera un archivo csv. Guarda las filas del objeto reader en una\n",
        "lista llamada df. Al final tendrás una lista con 5 listas de tamaño 4."
      ],
      "metadata": {
        "id": "fHikzo0eSObD"
      }
    },
    {
      "cell_type": "code",
      "source": [
        "import csv"
      ],
      "metadata": {
        "id": "vgomwnsIEdf3"
      },
      "execution_count": 70,
      "outputs": []
    },
    {
      "cell_type": "code",
      "source": [
        "data = []\n",
        "with open(\"/content/drive/MyDrive/Colab Notebooks/txt curso Udemy/ej5.txt\", \"r\") as f:\n",
        "    reader = csv.reader(f)\n",
        "    for row in reader:\n",
        "        data.append(row)\n",
        "\n",
        "data"
      ],
      "metadata": {
        "colab": {
          "base_uri": "https://localhost:8080/"
        },
        "id": "sTmEUuFRjaGM",
        "outputId": "4f66c705-902b-4f81-8979-72197509a224"
      },
      "execution_count": 69,
      "outputs": [
        {
          "output_type": "execute_result",
          "data": {
            "text/plain": [
              "[['x', 'y', 'Color', 'Shape'],\n",
              " ['1', '1', '#6fb7ff', '<'],\n",
              " ['-1', '1', '#ffa66f', 'v'],\n",
              " ['-1', '-1', '#ffee6f', '>'],\n",
              " ['1', '-1', '#db6fff', '^']]"
            ]
          },
          "metadata": {},
          "execution_count": 69
        }
      ]
    },
    {
      "cell_type": "markdown",
      "source": [
        "## Ejercicio 7"
      ],
      "metadata": {
        "id": "mzHy02c2RTMQ"
      }
    },
    {
      "cell_type": "markdown",
      "source": [
        "Utiliza el método .read_csv() de pandas para leer el contenido del txt del ejercicio 5 y guardarlo en un\n",
        "dataframe llamado df."
      ],
      "metadata": {
        "id": "-T2Hr6PxSYn1"
      }
    },
    {
      "cell_type": "code",
      "source": [
        "import pandas as pd\n"
      ],
      "metadata": {
        "id": "IPorbufukAjJ"
      },
      "execution_count": 71,
      "outputs": []
    },
    {
      "cell_type": "code",
      "source": [
        "df = pd.read_csv(\"/content/drive/MyDrive/Colab Notebooks/txt curso Udemy/ej5.txt\")\n",
        "\n",
        "df.head()\n",
        "\n",
        "df.columns"
      ],
      "metadata": {
        "colab": {
          "base_uri": "https://localhost:8080/"
        },
        "id": "L_8k3zfzFPOD",
        "outputId": "011684bb-e787-4dda-f202-169afee88efc"
      },
      "execution_count": 72,
      "outputs": [
        {
          "output_type": "execute_result",
          "data": {
            "text/plain": [
              "Index(['x', 'y', 'Color', 'Shape'], dtype='object')"
            ]
          },
          "metadata": {},
          "execution_count": 72
        }
      ]
    },
    {
      "cell_type": "markdown",
      "source": [
        "## Ejercicio 8"
      ],
      "metadata": {
        "id": "shgx0VYqRURh"
      }
    },
    {
      "cell_type": "markdown",
      "source": [
        "Utiliza el dataframe df para representar los puntos cuyas coordenadas x están guardadas en la columna x\n",
        "y cuyas coordenadas y están guardadas en la columna y. Para ello utiliza el método .scatterplot() de\n",
        "seaborn.\n",
        "Pon de título “Puntos”. No muestres etiqueta en el eje horizontal ni en el eje vertical. Haz que el tamaño de\n",
        "la figure sea de 5 x 5 y que el tamaño de los puntos sea de 500."
      ],
      "metadata": {
        "id": "pUkp0OOGScfS"
      }
    },
    {
      "cell_type": "code",
      "source": [
        "import seaborn as sns\n",
        "import matplotlib.pyplot as plt\n"
      ],
      "metadata": {
        "id": "uokeA0UGGCNf"
      },
      "execution_count": 73,
      "outputs": []
    },
    {
      "cell_type": "code",
      "source": [
        "plt.figure(figsize=(5,5))\n",
        "\n",
        "sns.scatterplot(data = df, x = \"x\", y =\"y\", sizes=500)\n",
        "plt.title(\"Puntos\")\n",
        "plt.xlabel(\"\")\n",
        "plt.ylabel(\"\")\n",
        "plt.show()"
      ],
      "metadata": {
        "colab": {
          "base_uri": "https://localhost:8080/",
          "height": 336
        },
        "id": "rNCksuwNkq1W",
        "outputId": "c6160fb1-25ff-4459-d5b3-1c996c974815"
      },
      "execution_count": 74,
      "outputs": [
        {
          "output_type": "display_data",
          "data": {
            "image/png": "[encoded data removed]",
            "text/plain": [
              "<Figure size 360x360 with 1 Axes>"
            ]
          },
          "metadata": {
            "needs_background": "light"
          }
        }
      ]
    },
    {
      "cell_type": "markdown",
      "source": [
        "## Ejercicio 9"
      ],
      "metadata": {
        "id": "DubPYjb5RVX3"
      }
    },
    {
      "cell_type": "markdown",
      "source": [
        "Modifica el gráfico anterior para que el color venga dado por la variable Color de df y la forma de los puntos,\n",
        "por la variable Shape."
      ],
      "metadata": {
        "id": "u9rj0V7jSglE"
      }
    },
    {
      "cell_type": "code",
      "source": [
        "plt.figure(figsize=(5,5))\n",
        "\n",
        "sns.scatterplot(data = df, x = \"x\", y =\"y\", hue = \"Color\", palette = df[\"Color\"].tolist(), style = \"Color\", markers = df[\"Shape\"].tolist(), sizes = 500)\n",
        "plt.title(\"Puntos\")\n",
        "plt.xlabel(\"\")\n",
        "plt.ylabel(\"\")\n",
        "plt.show()"
      ],
      "metadata": {
        "id": "P8d0JfQ5Oz1b",
        "colab": {
          "base_uri": "https://localhost:8080/",
          "height": 336
        },
        "outputId": "1b7ff26c-aa26-4475-aeb7-b499645b9fcd"
      },
      "execution_count": 75,
      "outputs": [
        {
          "output_type": "display_data",
          "data": {
            "image/png": "[encoded data removed]",
            "text/plain": [
              "<Figure size 360x360 with 1 Axes>"
            ]
          },
          "metadata": {
            "needs_background": "light"
          }
        }
      ]
    },
    {
      "cell_type": "markdown",
      "source": [
        "## Ejercicio 10"
      ],
      "metadata": {
        "id": "1dUelp6_RWcm"
      }
    },
    {
      "cell_type": "markdown",
      "source": [
        "Guarda en un csv la información de la lista data del ejercicio 6. Llama al archivo csv ej10.csv."
      ],
      "metadata": {
        "id": "y3dG9UDySi_n"
      }
    },
    {
      "cell_type": "code",
      "source": [
        "with open(\"/content/drive/MyDrive/Colab Notebooks/txt curso Udemy/ej10.csv\", \"w\") as f:\n",
        "  writer = csv.writer(f)\n",
        "  writer.writerows(data)"
      ],
      "metadata": {
        "id": "I7L9se0YQ7PD"
      },
      "execution_count": 76,
      "outputs": []
    }
  ]
}