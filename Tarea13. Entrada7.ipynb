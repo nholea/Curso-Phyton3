{
  "nbformat": 4,
  "nbformat_minor": 0,
  "metadata": {
    "colab": {
      "name": "07-entrada.ipynb",
      "provenance": [],
      "collapsed_sections": [],
      "include_colab_link": true
    },
    "kernelspec": {
      "name": "python3",
      "display_name": "Python 3"
    }
  },
  "cells": [
    {
      "cell_type": "markdown",
      "metadata": {
        "id": "view-in-github",
        "colab_type": "text"
      },
      "source": [
        "<a href=\"https://colab.research.google.com/github/nholea/Curso-Python3/blob/main/Tarea13.%20Entrada7.ipynb\" target=\"_parent\"><img src=\"https://colab.research.google.com/assets/colab-badge.svg\" alt=\"Open In Colab\"/></a>"
      ]
    },
    {
      "cell_type": "markdown",
      "metadata": {
        "id": "JKJjLIPi6CoC"
      },
      "source": [
        "# ¡Todo listo para zarpar!\n",
        "\n",
        "La fiesta fue todo un éxito. Tanto el capitán, como los dos nuevos miembros de la tripulación (Pyerce y Pym) se lo pasaron en grande comiendo y bebiendo. Incluso Pyo disfrutó de la fiesta zampándose todas las sobras.\n",
        "\n",
        "A la mañana siguiente, decidieron dedicar el día a descansar y hacer todos los preparativos para al día siguiente iniciar su aventura. \n",
        "\n",
        "Entre otras cosas, Pyratilla decide apuntar, por si las moscas, la información de toda la tripulación: sus camaradas Pyerce y Pym, su loro Pyo y él mismo. \n",
        "\n",
        "* Pyerce y Pym son gemelos y tienen ambos 16 años\n",
        "* Pyo tiene año y medio y es el loro del barco\n",
        "* Pyratilla tiene 17 años y es el capitán de los Pyrates\n",
        "* Pyerce es el navegante del barco\n",
        "* Pym es el timonel\n",
        "\n",
        "¡Ayuda a Pyratilla a crear un diccionario llamado `info_pyrates` que contenga para cada miembro de la tripulación de los Pyrates un diccionario con la edad (`age`) y la ocupación (`occupation`) de cada uno."
      ]
    },
    {
      "cell_type": "code",
      "metadata": {
        "id": "iVQ6wf5z8ZYd"
      },
      "source": [
        "info_pyrates = {\"Pyratilla\": {\n",
        "            \"age\": 17,\n",
        "            \"occupation\": \"Capitán de los Pyrates\"\n",
        "            },\n",
        "            \"Pyerce\": {\n",
        "            \"age\": 16,\n",
        "            \"occupation\": \"Navegante del barco\"\n",
        "            },\n",
        "            \"Pym\": {\n",
        "            \"age\": 16,\n",
        "            \"occupation\": \"Timonel del barco\"\n",
        "            },\n",
        "            \"Pyo\": {\n",
        "            \"age\": 1.5 ,\n",
        "            \"occupation\": \"Loro del barco\"\n",
        "            }\n",
        "          }"
      ],
      "execution_count": 1,
      "outputs": []
    },
    {
      "cell_type": "markdown",
      "metadata": {
        "id": "Dw0LWKxZCgop"
      },
      "source": [
        "Ayuda a Pyratilla a mostrar los datos de cada uno de los miembros de su tripulación como se muestra a continuación:\n",
        "\n",
        "`Pyratilla es el capitán del barco y tiene 17 años`"
      ]
    },
    {
      "cell_type": "code",
      "metadata": {
        "id": "BHcFxX0zCr2S",
        "outputId": "1df59de7-1dbb-4834-a281-f18928945315",
        "colab": {
          "base_uri": "https://localhost:8080/"
        }
      },
      "source": [
        "for key in info_pyrates:\n",
        "    print(key, \"es el\", info_pyrates[key][\"occupation\"], \"y tiene\", info_pyrates[key][\"age\"], \"años\" )"
      ],
      "execution_count": 3,
      "outputs": [
        {
          "output_type": "stream",
          "name": "stdout",
          "text": [
            "Pyratilla es el Capitán de los Pyrates y tiene 17 años\n",
            "Pyerce es el Navegante del barco y tiene 16 años\n",
            "Pym es el Timonel del barco y tiene 16 años\n",
            "Pyo es el Loro del barco y tiene 1.5 años\n"
          ]
        }
      ]
    }
  ]
}