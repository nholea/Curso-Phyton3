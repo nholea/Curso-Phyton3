{
  "nbformat": 4,
  "nbformat_minor": 0,
  "metadata": {
    "colab": {
      "name": "Untitled0.ipynb",
      "provenance": [],
      "collapsed_sections": [
        "HQEwnguECyGI",
        "q7gXKnhwDZRe",
        "ZKSPBNrwDgdV",
        "cTBvQR7-Di_i",
        "sURh3LznDndl"
      ],
      "authorship_tag": "ABX9TyO826n9MQThWO6ewx0QWNN9",
      "include_colab_link": true
    },
    "kernelspec": {
      "name": "python3",
      "display_name": "Python 3"
    },
    "language_info": {
      "name": "python"
    }
  },
  "cells": [
    {
      "cell_type": "markdown",
      "metadata": {
        "id": "view-in-github",
        "colab_type": "text"
      },
      "source": [
        "<a href=\"https://colab.research.google.com/github/nholea/Curso-Python3/blob/main/Tarea10.%20Listas.ipynb\" target=\"_parent\"><img src=\"https://colab.research.google.com/assets/colab-badge.svg\" alt=\"Open In Colab\"/></a>"
      ]
    },
    {
      "cell_type": "markdown",
      "metadata": {
        "id": "YDfi0vsUAjmn"
      },
      "source": [
        "# Tarea 5 - Estructuras de datos: Listas\n",
        "\n",
        "\n",
        "\n"
      ]
    },
    {
      "cell_type": "markdown",
      "metadata": {
        "id": "HQEwnguECyGI"
      },
      "source": [
        "## Ejercicio 1\n"
      ]
    },
    {
      "cell_type": "markdown",
      "metadata": {
        "id": "Rbfrd5UlD6nY"
      },
      "source": [
        "Crea un programa que lea una secuencia de caracteres, guarde cada caracter en una posición de una lista y\n",
        "finalmente muestre la secuencia invertida.\n"
      ]
    },
    {
      "cell_type": "code",
      "metadata": {
        "colab": {
          "base_uri": "https://localhost:8080/"
        },
        "id": "zyqL6tm0DAip",
        "outputId": "fcce47c6-64b7-414a-ccce-2cc51d108a0e"
      },
      "source": [
        "string = input(\"Introduzca una secuencia de caracteres: \")\n",
        "l = []\n",
        "\n",
        "print(\"=== Frase Original ===\")\n",
        "print(string)\n",
        "\n",
        "for i in string:\n",
        "    l.append(i)\n",
        "l.reverse()\n",
        "\n",
        "print(\"=== Frase Invertida ===\")\n",
        "for element in l:\n",
        "    print(element, end = \"\")\n"
      ],
      "execution_count": 3,
      "outputs": [
        {
          "output_type": "stream",
          "name": "stdout",
          "text": [
            "Introduzca una secuencia de caracteres: Hola\n",
            "=== Frase Original ===\n",
            "Hola\n",
            "=== Frase Invertida ===\n",
            "aloH"
          ]
        }
      ]
    },
    {
      "cell_type": "markdown",
      "metadata": {
        "id": "ALCAM5F3DIsO"
      },
      "source": [
        "## Ejercicio 2 \n",
        "\n"
      ]
    },
    {
      "cell_type": "markdown",
      "metadata": {
        "id": "QDL4TfsWEVCR"
      },
      "source": [
        "Crea un programa que lea dos strings de la misma longitud, los guarde intercalados en una lista. Por último,\n",
        "mostrar el contenido de la lista.\n",
        "Por ejemplo, si introducimos **hola caracola** y **adios marieta**, debería mostrarse **haodleao** **scamraarcioeltaa**.\n",
        "\n"
      ]
    },
    {
      "cell_type": "code",
      "metadata": {
        "colab": {
          "base_uri": "https://localhost:8080/"
        },
        "id": "b7et63ftEaZB",
        "outputId": "494aaa30-bba7-4c28-d0d1-85a27bc2ce6e"
      },
      "source": [
        "str1 = input(\"Introduzca una secuencia de caracteres: \")\n",
        "str2 = input(\"Introduce otra secuencia de caracteres: \")\n",
        "l1 = []\n",
        "\n",
        "\n",
        "if len(str1) == len(str2):\n",
        "    for i in range(len(str1)):\n",
        "        l1.append(str1[i])\n",
        "        l1.append(str2[i])\n",
        "    for element in l1:\n",
        "        print(element, end = \"\")\n",
        "else:\n",
        "    print(\"Las 2 cadenas de caracteres no tienen el mismo tamaño.\")\n",
        "    \n"
      ],
      "execution_count": 4,
      "outputs": [
        {
          "output_type": "stream",
          "name": "stdout",
          "text": [
            "Introduzca una secuencia de caracteres: Hola Caracola\n",
            "Introduce otra secuencia de caracteres: Adiós Marieta\n",
            "HAodliaó sC aMraarcioeltaa"
          ]
        }
      ]
    },
    {
      "cell_type": "markdown",
      "metadata": {
        "id": "vdhMoqbuDSK0"
      },
      "source": [
        ""
      ]
    },
    {
      "cell_type": "markdown",
      "metadata": {
        "id": "q7gXKnhwDZRe"
      },
      "source": [
        "## Ejercicio 3 "
      ]
    },
    {
      "cell_type": "markdown",
      "metadata": {
        "id": "6yMALCppEpA0"
      },
      "source": [
        "Crea un programa que lea un string y guarde en una lista todas las consonantes."
      ]
    },
    {
      "cell_type": "code",
      "metadata": {
        "colab": {
          "base_uri": "https://localhost:8080/"
        },
        "id": "ffW_5sTLEqjn",
        "outputId": "d23206ab-abb3-4c10-8d0c-5ed2adac7203"
      },
      "source": [
        "str3 = input(\"Introduzca una secuencia de caracteres: \").lower()\n",
        "vowels = [\"a\", \"e\", \"i\", \"o\", \"u\"]\n",
        "letter = []\n",
        "\n",
        "for i in str3:\n",
        "    if i not in vowels:\n",
        "        letter.append(i)\n",
        "print(letter)"
      ],
      "execution_count": 5,
      "outputs": [
        {
          "output_type": "stream",
          "name": "stdout",
          "text": [
            "Introduzca una secuencia de caracteres: Hola caracola\n",
            "['h', 'l', ' ', 'c', 'r', 'c', 'l']\n"
          ]
        }
      ]
    },
    {
      "cell_type": "markdown",
      "metadata": {
        "id": "DbmNnORtDduM"
      },
      "source": [
        ""
      ]
    },
    {
      "cell_type": "markdown",
      "metadata": {
        "id": "ZKSPBNrwDgdV"
      },
      "source": [
        "## Ejercicio 4"
      ]
    },
    {
      "cell_type": "markdown",
      "metadata": {
        "id": "eTPDZfENFDyI"
      },
      "source": [
        "Crea un programa que lea una palabra, la guarde en una lista y compruebe si se trata de un palíndromo.\n"
      ]
    },
    {
      "cell_type": "code",
      "metadata": {
        "colab": {
          "base_uri": "https://localhost:8080/"
        },
        "id": "XsizQG4XFmLH",
        "outputId": "0536c91f-b482-4cfc-d43e-2063677800cc"
      },
      "source": [
        "word = list(input(\"Introduzca una palabra: \").lower())\n",
        "palin = []\n",
        "\n",
        "for i in word:\n",
        "    palin.append(i)\n",
        "\n",
        "palin.reverse()\n",
        "\n",
        "if word == palin:\n",
        "    print(\"La palabra introducida SÍ es un palíndromo\")\n",
        "else:\n",
        "    print(\"La palabra introducida NO es un palíndromo\")\n"
      ],
      "execution_count": 10,
      "outputs": [
        {
          "output_type": "stream",
          "name": "stdout",
          "text": [
            "Introduzca una palabra: CAMA\n",
            "La palabra introducida NO es un palíndromo\n"
          ]
        }
      ]
    },
    {
      "cell_type": "markdown",
      "metadata": {
        "id": "OnIUInN5Dh34"
      },
      "source": [
        ""
      ]
    },
    {
      "cell_type": "markdown",
      "metadata": {
        "id": "cTBvQR7-Di_i"
      },
      "source": [
        "## Ejercicio 5"
      ]
    },
    {
      "cell_type": "markdown",
      "metadata": {
        "id": "TMyjQcabG9jy"
      },
      "source": [
        "Crea un programa que lea una matriz 3 x 3 y devuelva el máximo de cada fila."
      ]
    },
    {
      "cell_type": "code",
      "metadata": {
        "colab": {
          "base_uri": "https://localhost:8080/"
        },
        "id": "smQUBfxWHDeI",
        "outputId": "401d5c8f-f59a-4ae0-bd56-834ed1bea250"
      },
      "source": [
        "A=[]\n",
        "\n",
        "for i in range(3):\n",
        "    A.append([])\n",
        "    for j in range(3):\n",
        "        A[i].append(float(input(\"Introduce el elemento ({}, {}): \".format(i, j))))\n",
        "\n",
        "print(\"\\n=== Matriz 3x3 ===\\n\")\n",
        "\n",
        "for i in range(3):\n",
        "    for j in range(3):\n",
        "        print(A[i][j], end = \"  \" if A[i][j] >= 0 else \" \" )\n",
        "    print(\"\")\n",
        "\n",
        "print(\"\")\n",
        "\n",
        "for i in range(3):\n",
        "    A[i].sort(reverse=True)\n",
        "    print(\"El máximo de la fila {} es {}\".format(i, A[i][0]))\n"
      ],
      "execution_count": 24,
      "outputs": [
        {
          "output_type": "stream",
          "name": "stdout",
          "text": [
            "Introduce el elemento (0, 0): 48\n",
            "Introduce el elemento (0, 1): 56\n",
            "Introduce el elemento (0, 2): 77\n",
            "Introduce el elemento (1, 0): -20\n",
            "Introduce el elemento (1, 1): -78\n",
            "Introduce el elemento (1, 2): -4\n",
            "Introduce el elemento (2, 0): 85\n",
            "Introduce el elemento (2, 1): 45\n",
            "Introduce el elemento (2, 2): 77\n",
            "\n",
            "=== Matriz 3x3 ===\n",
            "\n",
            "48.0  56.0  77.0  \n",
            "-20.0 -78.0 -4.0 \n",
            "85.0  45.0  77.0  \n",
            "\n",
            "El máximo de la fila 0 es 77.0\n",
            "El máximo de la fila 1 es -4.0\n",
            "El máximo de la fila 2 es 85.0\n"
          ]
        }
      ]
    },
    {
      "cell_type": "markdown",
      "metadata": {
        "id": "eeukSbPvDkLs"
      },
      "source": [
        ""
      ]
    },
    {
      "cell_type": "markdown",
      "metadata": {
        "id": "sURh3LznDndl"
      },
      "source": [
        "## Ejercicio 6"
      ]
    },
    {
      "cell_type": "markdown",
      "metadata": {
        "id": "m2yz6jYhICzb"
      },
      "source": [
        "Crea un programa que lea un entero, n, de teclado y construya una matriz de tamaño n × n. Cada posición\n",
        "debe contener su orden en la matriz (desde 0 hasta n\n",
        "2 − 1. Por ejemplo, si n es 3, deberá crearse la matriz\n",
        "\n",
        "```\n",
        "[0, 1, 2]\n",
        "[3, 4, 5]\n",
        "[6, 7, 8]\n",
        "```\n",
        "\n",
        "\n",
        "\n",
        "\n",
        "\n",
        "\n"
      ]
    },
    {
      "cell_type": "code",
      "metadata": {
        "colab": {
          "base_uri": "https://localhost:8080/"
        },
        "id": "z4J3kIKdIDv3",
        "outputId": "6c21e49a-50d8-4193-a2f5-60c3ef04a26c"
      },
      "source": [
        "n = int(input(\"Introduce un número entero: \"))\n",
        "B = []\n",
        "\n",
        "for i in range(n):\n",
        "    B.append([])\n",
        "    for j in range(n):\n",
        "        B[i].append(n * i + j)\n",
        "\n",
        "for i in range(n):\n",
        "    print(B[i])\n"
      ],
      "execution_count": 26,
      "outputs": [
        {
          "output_type": "stream",
          "name": "stdout",
          "text": [
            "Introduce un número entero: 5\n",
            "[0, 1, 2, 3, 4]\n",
            "[5, 6, 7, 8, 9]\n",
            "[10, 11, 12, 13, 14]\n",
            "[15, 16, 17, 18, 19]\n",
            "[20, 21, 22, 23, 24]\n"
          ]
        }
      ]
    },
    {
      "cell_type": "markdown",
      "metadata": {
        "id": "hZ6MyM2ADo37"
      },
      "source": [
        ""
      ]
    },
    {
      "cell_type": "markdown",
      "metadata": {
        "id": "xPUS6hEjDp10"
      },
      "source": [
        "## Ejercicio 7"
      ]
    },
    {
      "cell_type": "markdown",
      "metadata": {
        "id": "tAuzHQ_iJOdm"
      },
      "source": [
        "Crea una matriz de n × m y asigna los valores manualmente. El programa debe indicar si la suma de cada columna es el mismo valor."
      ]
    },
    {
      "cell_type": "code",
      "metadata": {
        "colab": {
          "base_uri": "https://localhost:8080/"
        },
        "id": "-e0rooMlJPVu",
        "outputId": "4e290ea8-c43b-47bf-9864-27007df56577"
      },
      "source": [
        "n = int(input(\"Introduce el número de filas de la matriz: \"))\n",
        "m = int(input(\"Introduce el número de columnas de la matriz : \"))\n",
        "C = []\n",
        "suma = []\n",
        "sameSum = False\n",
        "\n",
        "for i in range(n):\n",
        "    C.append([])\n",
        "    for j in range(m):\n",
        "        C[i].append(float(input(\"Introduce el elemento ({}, {}): \".format(i, j))))\n",
        "\n",
        "for i in range(n):\n",
        "    for j in range(m):\n",
        "        print(C[i][j], end = \"  \" if C[i][j] >= 0 else \" \" )\n",
        "    print(\"\")\n",
        "\n",
        "for j in range(m):\n",
        "    sum = 0\n",
        "    for i in range(n):\n",
        "        sum += C[i][j]\n",
        "    suma.append(sum)\n",
        "\n",
        "print(suma)\n",
        "\n",
        "for i in range(m - 1):\n",
        "    if suma[i] == suma[i + 1]:\n",
        "        sameSum = True\n",
        "\n",
        "print(\"¿La suma de cada columna es el mismo valor? {}\".format(\"SÍ\" if sameSum else \"NO\"))\n",
        "\n",
        "\n",
        "\n",
        "        \n"
      ],
      "execution_count": 44,
      "outputs": [
        {
          "output_type": "stream",
          "name": "stdout",
          "text": [
            "Introduce el número de filas de la matriz: 3\n",
            "Introduce el número de columnas de la matriz : 2\n",
            "Introduce el elemento (0, 0): 1\n",
            "Introduce el elemento (0, 1): 1\n",
            "Introduce el elemento (1, 0): 1\n",
            "Introduce el elemento (1, 1): 1\n",
            "Introduce el elemento (2, 0): 1\n",
            "Introduce el elemento (2, 1): 1\n",
            "1.0  1.0  \n",
            "1.0  1.0  \n",
            "1.0  1.0  \n",
            "[3.0, 3.0]\n",
            "¿La suma de cada columna es el mismo valor? SÍ\n"
          ]
        }
      ]
    },
    {
      "cell_type": "markdown",
      "metadata": {
        "id": "1ifp_7JFDrCc"
      },
      "source": [
        ""
      ]
    },
    {
      "cell_type": "markdown",
      "metadata": {
        "id": "ZhvzX6eUDs1c"
      },
      "source": [
        "## Ejercicio 8"
      ]
    },
    {
      "cell_type": "markdown",
      "metadata": {
        "id": "Xun8WGYEKAUk"
      },
      "source": [
        "Crear un programa determina si la matriz introducida manualmente (tanto sus dimensiones como los elementos) se trata de la matriz identidad. Recuerda que la matriz identidad debe ser una matriz cuadrada."
      ]
    },
    {
      "cell_type": "code",
      "metadata": {
        "colab": {
          "base_uri": "https://localhost:8080/"
        },
        "id": "fP9H6PSRKBEF",
        "outputId": "5b42ce21-6c31-4aec-d303-decd3879bc24"
      },
      "source": [
        "n = int(input(\"Introduce el número de filas de la matriz: \"))\n",
        "m = int(input(\"Introduce el número de columnas de la matriz : \"))\n",
        "D = []\n",
        "identity = True\n",
        "\n",
        "for i in range(n):\n",
        "    D.append([])\n",
        "    for j in range(m):\n",
        "        D[i].append(float(input(\"Introduce el elemento ({}, {}): \".format(i, j))))\n",
        "\n",
        "for i in range(n):\n",
        "    for j in range(m):\n",
        "        print(D[i][j], end = \"  \" if D[i][j] >= 0 else \" \" )\n",
        "    print(\"\")\n",
        "\n",
        "if n == m:\n",
        "    for i in range(n):\n",
        "        for j in range(n):\n",
        "            if i == j and D[i][j] != 1:\n",
        "                identity = False\n",
        "            if i != j and D[i][j] != 0:\n",
        "                identity = False \n",
        "else:\n",
        "    identity = False\n",
        "    print(\"No es una matriz cuadrada. Debe tener mismo número de filas y columnas\")\n",
        "\n",
        "print(\"¿La matriz ingresada es la matriz identidad? {} \".format(\"SÍ\" if identity else \"NO\"))\n"
      ],
      "execution_count": 50,
      "outputs": [
        {
          "output_type": "stream",
          "name": "stdout",
          "text": [
            "Introduce el número de filas de la matriz: 2\n",
            "Introduce el número de columnas de la matriz : 2\n",
            "Introduce el elemento (0, 0): 1\n",
            "Introduce el elemento (0, 1): 0\n",
            "Introduce el elemento (1, 0): 0\n",
            "Introduce el elemento (1, 1): 1\n",
            "1.0  0.0  \n",
            "0.0  1.0  \n",
            "¿La matriz ingresada es la matriz identidad? SÍ \n"
          ]
        }
      ]
    },
    {
      "cell_type": "markdown",
      "metadata": {
        "id": "_Jttv8iTDucV"
      },
      "source": [
        ""
      ]
    },
    {
      "cell_type": "markdown",
      "metadata": {
        "id": "GOLhgDzHDwLa"
      },
      "source": [
        "## Ejercicio 9"
      ]
    },
    {
      "cell_type": "markdown",
      "metadata": {
        "id": "xROChnpqK0sB"
      },
      "source": [
        "Realiza un programa que calcule la matriz transpuesta."
      ]
    },
    {
      "cell_type": "code",
      "metadata": {
        "colab": {
          "base_uri": "https://localhost:8080/"
        },
        "id": "dwnOkIPTc6t4",
        "outputId": "567f3e15-2f41-4ff4-cb00-6b733f8f506d"
      },
      "source": [
        "n = int(input(\"Introduce el número de filas de la matriz: \"))\n",
        "m = int(input(\"Introduce el número de columnas de la matriz : \"))\n",
        "F = []\n",
        "T = []\n",
        "\n",
        "for i in range(n):\n",
        "    F.append([])\n",
        "    for j in range(m):\n",
        "        F[i].append(float(input(\"Introduce el elemento ({}, {}): \".format(i, j))))\n",
        "\n",
        "print(\"\\n === Matriz Introducida ===\")\n",
        "for i in range(n):\n",
        "    for j in range(m):\n",
        "        print(F[i][j], end = \"  \" if F[i][j] >= 0 else \" \" )\n",
        "    print(\"\")\n",
        "\n",
        "\n",
        "print(\"\\n === Matriz Traspuesta9 ===\")\n",
        "for i in range(m):\n",
        "    T.append([])\n",
        "    for j in range(n):\n",
        "        T[i].append(F[j][i])\n",
        "\n",
        "for i in range(n):\n",
        "    for j in range(m):\n",
        "        print(T[i][j], end = \"  \" if T[i][j] >= 0 else \" \" )\n",
        "    print(\"\")\n"
      ],
      "execution_count": 69,
      "outputs": [
        {
          "output_type": "stream",
          "name": "stdout",
          "text": [
            "Introduce el número de filas de la matriz: 3\n",
            "Introduce el número de columnas de la matriz : 3\n",
            "Introduce el elemento (0, 0): 9\n",
            "Introduce el elemento (0, 1): 9\n",
            "Introduce el elemento (0, 2): 8\n",
            "Introduce el elemento (1, 0): 7\n",
            "Introduce el elemento (1, 1): 6\n",
            "Introduce el elemento (1, 2): 5\n",
            "Introduce el elemento (2, 0): 4\n",
            "Introduce el elemento (2, 1): 3\n",
            "Introduce el elemento (2, 2): 2\n",
            "\n",
            " === Matriz Introducida ===\n",
            "9.0  9.0  8.0  \n",
            "7.0  6.0  5.0  \n",
            "4.0  3.0  2.0  \n",
            "\n",
            " === Matriz Traspuesta9 ===\n",
            "9.0  7.0  4.0  \n",
            "9.0  6.0  3.0  \n",
            "8.0  5.0  2.0  \n"
          ]
        }
      ]
    },
    {
      "cell_type": "markdown",
      "metadata": {
        "id": "67knL9heDxoi"
      },
      "source": [
        ""
      ]
    },
    {
      "cell_type": "markdown",
      "metadata": {
        "id": "3_1-iUozD0qd"
      },
      "source": [
        "## Ejercicio 10"
      ]
    },
    {
      "cell_type": "markdown",
      "metadata": {
        "id": "PqGVpOY8LsfW"
      },
      "source": [
        "Crea un programa que pida al usuario la dimensión y cree la matriz identidad de orden correspondiente con\n",
        "numpy."
      ]
    },
    {
      "cell_type": "code",
      "metadata": {
        "id": "M3J70VuzVFm9"
      },
      "source": [
        "import numpy as np"
      ],
      "execution_count": 59,
      "outputs": []
    },
    {
      "cell_type": "code",
      "metadata": {
        "colab": {
          "base_uri": "https://localhost:8080/"
        },
        "id": "ZVdV7OjZa0SG",
        "outputId": "2c8a0337-9991-47e7-9283-0c940c06ec08"
      },
      "source": [
        "n = int(input(\"Introduce la dimensión de la matriz: \"))\n",
        "\n",
        "I = np.zeros((n,n))\n",
        "\n",
        "for i in range(n):\n",
        "    I[i, i] = 1\n",
        "\n",
        "print(\"\\n=== Matriz Identidad ===:\\n{}\".format(I))\n",
        "\n"
      ],
      "execution_count": 70,
      "outputs": [
        {
          "output_type": "stream",
          "name": "stdout",
          "text": [
            "Introduce la dimensión de la matriz: 4\n",
            "\n",
            "=== Matriz Identidad ===:\n",
            "[[1. 0. 0. 0.]\n",
            " [0. 1. 0. 0.]\n",
            " [0. 0. 1. 0.]\n",
            " [0. 0. 0. 1.]]\n"
          ]
        }
      ]
    },
    {
      "cell_type": "markdown",
      "metadata": {
        "id": "ARKyAghdD13z"
      },
      "source": [
        ""
      ]
    }
  ]
}