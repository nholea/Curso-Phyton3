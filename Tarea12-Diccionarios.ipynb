{
  "nbformat": 4,
  "nbformat_minor": 0,
  "metadata": {
    "colab": {
      "name": "Untitled11.ipynb",
      "provenance": [],
      "authorship_tag": "ABX9TyOl5dOyakNpADYAGivoZk7M",
      "include_colab_link": true
    },
    "kernelspec": {
      "name": "python3",
      "display_name": "Python 3"
    },
    "language_info": {
      "name": "python"
    }
  },
  "cells": [
    {
      "cell_type": "markdown",
      "metadata": {
        "id": "view-in-github",
        "colab_type": "text"
      },
      "source": [
        "<a href=\"https://colab.research.google.com/github/nholea/Curso-Python3/blob/main/Tarea12-Diccionarios.ipynb\" target=\"_parent\"><img src=\"https://colab.research.google.com/assets/colab-badge.svg\" alt=\"Open In Colab\"/></a>"
      ]
    },
    {
      "cell_type": "markdown",
      "source": [
        "# Tarea 6 - Estructuras de datos: Diccionarios"
      ],
      "metadata": {
        "id": "83CCQ11sQ1Vy"
      }
    },
    {
      "cell_type": "markdown",
      "source": [
        "## Ejercicio 1\n"
      ],
      "metadata": {
        "id": "f_h2v0lnRBTP"
      }
    },
    {
      "cell_type": "markdown",
      "source": [
        "Crea un programa que pida un número entero positivo por teclado y que cree un diccionario cuyas claves\n",
        "sean desde el número 1 hasta el número indicado. Los valores de cada clave serán las propias claves elevadas\n",
        "al cubo."
      ],
      "metadata": {
        "id": "_wCDKlfYRcMN"
      }
    },
    {
      "cell_type": "code",
      "source": [
        "num = int(input(\"Introduzca el número de claves del diccionario: \"))\n",
        "dicc = {}\n",
        "\n",
        "for i in range(1, num + 1):\n",
        "    dicc[i] = i ** 3\n",
        "\n",
        "print(dicc)"
      ],
      "metadata": {
        "colab": {
          "base_uri": "https://localhost:8080/"
        },
        "id": "6fdhoGKWRfO4",
        "outputId": "4c3bb860-0466-4f07-b665-c7998cf59290"
      },
      "execution_count": 7,
      "outputs": [
        {
          "output_type": "stream",
          "name": "stdout",
          "text": [
            "Introduzca el número de claves del diccionario: 10\n",
            "{1: 1, 2: 8, 3: 27, 4: 64, 5: 125, 6: 216, 7: 343, 8: 512, 9: 729, 10: 1000}\n"
          ]
        }
      ]
    },
    {
      "cell_type": "markdown",
      "source": [
        "## Ejercicio 2\n"
      ],
      "metadata": {
        "id": "-oCarPsfRGgw"
      }
    },
    {
      "cell_type": "markdown",
      "source": [
        "Escribe un programa que pregunte al usuario su nombre, edad y teléfono y lo guarde en un diccionario.\n",
        "Después, debe mostrar por pantalla el mensaje ‘{nombre} tiene {edad} años y su número de teléfono es\n",
        "{teléfono}."
      ],
      "metadata": {
        "id": "tEG8nVbzR2G6"
      }
    },
    {
      "cell_type": "code",
      "source": [
        "agenda = {}\n",
        "agenda[\"nombre\"] = str(input(\"¿Cuál es su nombre?: \"))\n",
        "agenda[\"edad\"] = int(input(\"¿Cuál es su edad?: \"))\n",
        "agenda[\"teléfono\"] = int(input(\"¿Cuál es su teléfono de contacto?: \"))\n",
        "\n",
        "print(\"{} tiene {} años y su número de teléfono es {}\".format(agenda[\"nombre\"],agenda[\"edad\"],agenda[\"teléfono\"]))"
      ],
      "metadata": {
        "colab": {
          "base_uri": "https://localhost:8080/"
        },
        "id": "GaMPfMq4R4WT",
        "outputId": "cc3977f2-9d75-46df-864d-b959929d53cf"
      },
      "execution_count": 9,
      "outputs": [
        {
          "output_type": "stream",
          "name": "stdout",
          "text": [
            "¿Cuál es su nombre?: Natalia\n",
            "¿Cuál es su edad?: 28\n",
            "¿Cuál es su teléfono de contacto?: 6597763446\n",
            "Natalia tiene 28 años y su número de teléfono es 6597763446\n"
          ]
        }
      ]
    },
    {
      "cell_type": "markdown",
      "source": [
        "## Ejercicio 3"
      ],
      "metadata": {
        "id": "pbO6wUBaRNmY"
      }
    },
    {
      "cell_type": "markdown",
      "source": [
        "Escribe un programa que cree un diccionario simulando una cesta de la compra. El programa debe preguntar\n",
        "el artículo y su precio por unidad. El artículo será la clave y el valor el precio, hasta que el usuario decida\n",
        "terminar. Después se debe mostrar por pantalla la lista de la compra y el coste total, con el siguiente formato\n",
        "\n",
        "Artículo 1 Precio\n",
        "Artículo 2 Precio\n",
        "Artículo 3 Precio\n",
        ". . . . . .\n",
        "Total Precio Total"
      ],
      "metadata": {
        "id": "Sc7cC2g6R5fq"
      }
    },
    {
      "cell_type": "code",
      "source": [
        "cesta = {}\n",
        "total = 0\n",
        "key = input(\"Indica el artículo a añadir: \")\n",
        "\n",
        "while key != \"\":\n",
        "    cesta[key]= float(input(\"Introduzca el precio del artículo añadido: \"))\n",
        "    key = input(\"Indica el artículo a añadir: \")\n",
        "\n",
        "for k, v in cesta.items():\n",
        "    total += v\n",
        "    print(\"|\", k, v, \"|\")\n",
        "print(\".\" * 25)\n",
        "print(\"Total\", round(total,2))"
      ],
      "metadata": {
        "colab": {
          "base_uri": "https://localhost:8080/"
        },
        "id": "h2CKRKyySDny",
        "outputId": "8ae02396-aaa0-4ee8-de44-4dca67515021"
      },
      "execution_count": 17,
      "outputs": [
        {
          "output_type": "stream",
          "name": "stdout",
          "text": [
            "Indica el artículo a añadir: Huevos\n",
            "Introduzca el precio del artículo añadido: 2\n",
            "Indica el artículo a añadir: Plátanos\n",
            "Introduzca el precio del artículo añadido: 1.85\n",
            "Indica el artículo a añadir: Barra Pan\n",
            "Introduzca el precio del artículo añadido: 0.65\n",
            "Indica el artículo a añadir: \n",
            "| Huevos 2.0 |\n",
            "| Plátanos 1.85 |\n",
            "| Barra Pan 0.65 |\n",
            ".........................\n",
            "Total 4.5\n"
          ]
        }
      ]
    },
    {
      "cell_type": "markdown",
      "source": [
        "## Ejercicio 4"
      ],
      "metadata": {
        "id": "rOfH5ydcRPMI"
      }
    },
    {
      "cell_type": "markdown",
      "source": [
        "Crea un programa que lea números enteros hasta que introduzca el 0 y devuelva un diccionario con la\n",
        "cantidad números positivos y negativos introducidos."
      ],
      "metadata": {
        "id": "4AoQzLjsSGBA"
      }
    },
    {
      "cell_type": "code",
      "source": [
        "\n",
        "num = int(input(\"Introduzca un número entero: \"))\n",
        "positive = 0\n",
        "negative = 0\n",
        "\n",
        "while num != 0:\n",
        "    if num < 0:\n",
        "        negative +=1\n",
        "    else:\n",
        "        positive +=1\n",
        "    num = int(input(\"Introduzca un número entero: \"))\n",
        "\n",
        "print({\"Positivos\":positive, \"Negativos\": negative})"
      ],
      "metadata": {
        "colab": {
          "base_uri": "https://localhost:8080/"
        },
        "id": "XhNYcD2RSH29",
        "outputId": "f36e05bf-376a-4a26-8379-779ee22e413c"
      },
      "execution_count": 25,
      "outputs": [
        {
          "output_type": "stream",
          "name": "stdout",
          "text": [
            "Introduzca un número entero: -1\n",
            "Introduzca un número entero: 4\n",
            "Introduzca un número entero: -25\n",
            "Introduzca un número entero: 9\n",
            "Introduzca un número entero: 4\n",
            "Introduzca un número entero: 9\n",
            "Introduzca un número entero: -55\n",
            "Introduzca un número entero: 0\n",
            "{'Positivos': 4, 'Negativos': 3}\n"
          ]
        }
      ]
    },
    {
      "cell_type": "markdown",
      "source": [
        "## Ejercicio 5"
      ],
      "metadata": {
        "id": "DJ5D4XbgRQRH"
      }
    },
    {
      "cell_type": "markdown",
      "source": [
        "Crea un programa que lea números enteros hasta que introduzca el 0 y devuelva un diccionario con la\n",
        "cantidad números pares e impares introducidos.\n"
      ],
      "metadata": {
        "id": "IjfCPB8nSK4T"
      }
    },
    {
      "cell_type": "code",
      "source": [
        "num = int(input(\"Introduzca un número entero: \"))\n",
        "even = 0\n",
        "odd = 0\n",
        "\n",
        "while num != 0:\n",
        "    if num % 2 == 0:\n",
        "        even +=1\n",
        "    else:\n",
        "        odd +=1\n",
        "    num = int(input(\"Introduzca un número entero: \"))\n",
        "\n",
        "print({\"Par\":even, \"Impar\": odd})"
      ],
      "metadata": {
        "colab": {
          "base_uri": "https://localhost:8080/"
        },
        "id": "cDHQQqrwSLha",
        "outputId": "4f1f9e0c-5cbf-42ef-8bb9-96ab93df04ac"
      },
      "execution_count": 26,
      "outputs": [
        {
          "output_type": "stream",
          "name": "stdout",
          "text": [
            "Introduzca un número entero: 5\n",
            "Introduzca un número entero: 6\n",
            "Introduzca un número entero: 8\n",
            "Introduzca un número entero: 8\n",
            "Introduzca un número entero: 8\n",
            "Introduzca un número entero: 3\n",
            "Introduzca un número entero: 889\n",
            "Introduzca un número entero: 291\n",
            "Introduzca un número entero: 0\n",
            "{'Par': 4, 'Impar': 4}\n"
          ]
        }
      ]
    },
    {
      "cell_type": "markdown",
      "source": [
        "## Ejercicio 6"
      ],
      "metadata": {
        "id": "oml6Lz5cRRTI"
      }
    },
    {
      "cell_type": "markdown",
      "source": [
        "Crea un programa que permita al usuario introducir los nombres de los alumnos de una clase y las notas que\n",
        "han obtenido. Cada alumno puede tener distinta cantidad de notas. Guarda la información en un diccionario\n",
        "cuyas claves serán los nombres de los alumnos y los valores serán listas con las notas de cada alumno.\n",
        "\n",
        "El programa va a pedir el nombre de un estudiante e irá pidiendo sus notas (del 1 al 10) hasta que introduzcamos un 0. Al final, cuando el nombre que introduzcamos sea un string vacío, el programa nos mostrará la\n",
        "lista de alumnos y la nota media obtenida por cada uno de ellos.\n",
        "PISTA: Vas a necesitar la función sum()."
      ],
      "metadata": {
        "id": "fHikzo0eSObD"
      }
    },
    {
      "cell_type": "code",
      "source": [
        "students = {}\n",
        "student= str(input(\"Nombre alumno: \"))\n",
        "while student != \"\":\n",
        "    students[student] = []\n",
        "    notes = float(input(\"Introduce las notas obtenidas: \"))\n",
        "    while notes !=0:\n",
        "        students[student].append(notes)\n",
        "        notes = float(input(\"Introduce las notas obtenidas: \"))\n",
        "    student= str(input(\"Nombre alumno: \"))\n",
        "\n",
        "print(\".\"*30)\n",
        "for key, value in students.items():\n",
        "    print(key, \":\", round(sum(value)/len(value),2))"
      ],
      "metadata": {
        "colab": {
          "base_uri": "https://localhost:8080/"
        },
        "id": "YeQe0ShNSPRz",
        "outputId": "ad1a6c4d-4853-4b49-b8e0-96e03489b6f5"
      },
      "execution_count": 8,
      "outputs": [
        {
          "output_type": "stream",
          "name": "stdout",
          "text": [
            "Nombre alumno: Natalia\n",
            "Introduce las notas obtenidas: 8.75\n",
            "Introduce las notas obtenidas: 5\n",
            "Introduce las notas obtenidas: 7.55\n",
            "Introduce las notas obtenidas: 9.99\n",
            "Introduce las notas obtenidas: 10\n",
            "Introduce las notas obtenidas: 0\n",
            "Nombre alumno: Juan\n",
            "Introduce las notas obtenidas: 5.75\n",
            "Introduce las notas obtenidas: 6.25\n",
            "Introduce las notas obtenidas: 10\n",
            "Introduce las notas obtenidas: 9.25\n",
            "Introduce las notas obtenidas: 0\n",
            "Nombre alumno: \n",
            "..............................\n",
            "Natalia : 8.26\n",
            "Juan : 7.81\n"
          ]
        }
      ]
    },
    {
      "cell_type": "markdown",
      "source": [
        "## Ejercicio 7"
      ],
      "metadata": {
        "id": "mzHy02c2RTMQ"
      }
    },
    {
      "cell_type": "markdown",
      "source": [
        "Crea un programa que pida un número entero positivo por teclado y que cree un diccionario cuyas claves\n",
        "sean desde el número 1 hasta el número indicado. Los valores de cada clave serán tantos símbolos \"*\" como\n",
        "indique la clave.\n"
      ],
      "metadata": {
        "id": "-T2Hr6PxSYn1"
      }
    },
    {
      "cell_type": "code",
      "source": [
        "dicc = {}\n",
        "num = int(input(\"Introduce la cantidad de claves del diccionario: \"))\n",
        "\n",
        "for i in range (1, num + 1):\n",
        "    dicc[i] = \"*\" * i\n",
        "\n",
        "print(dicc)"
      ],
      "metadata": {
        "colab": {
          "base_uri": "https://localhost:8080/"
        },
        "id": "CxsLHbTmSagu",
        "outputId": "b9ef8b64-1aef-4bb8-fd67-549d92cefc4e"
      },
      "execution_count": 11,
      "outputs": [
        {
          "output_type": "stream",
          "name": "stdout",
          "text": [
            "Introduce la cantidad de claves del diccionario: 10\n",
            "{1: '*', 2: '**', 3: '***', 4: '****', 5: '*****', 6: '******', 7: '*******', 8: '********', 9: '*********', 10: '**********'}\n"
          ]
        }
      ]
    },
    {
      "cell_type": "markdown",
      "source": [
        "## Ejercicio 8"
      ],
      "metadata": {
        "id": "shgx0VYqRURh"
      }
    },
    {
      "cell_type": "markdown",
      "source": [
        "Crea un programa que pida el número de palabras a introducir. Crear un diccionario de clave la palabra y\n",
        "de valor la longitud de dicha palabra."
      ],
      "metadata": {
        "id": "pUkp0OOGScfS"
      }
    },
    {
      "cell_type": "code",
      "source": [
        "dicc = {}\n",
        "\n",
        "word_amount = int(input(\"¿Cuántas palabras desea introducir?: \"))\n",
        "for i in range(word_amount):\n",
        "    word = str(input(\"¿Qué palabra desea guardar en el diccionario?: \"))\n",
        "    dicc[word]=len(word)\n",
        "\n",
        "print(dicc)\n"
      ],
      "metadata": {
        "colab": {
          "base_uri": "https://localhost:8080/"
        },
        "id": "9Cr9chKcSdYA",
        "outputId": "be2fc83d-145a-49c8-d061-410319aa5047"
      },
      "execution_count": 13,
      "outputs": [
        {
          "output_type": "stream",
          "name": "stdout",
          "text": [
            "¿Cuántas palabras desea introducir?: 4\n",
            "¿Qué palabra desea guardar en el diccionario?: Elefante\n",
            "¿Qué palabra desea guardar en el diccionario?: Jirafa\n",
            "¿Qué palabra desea guardar en el diccionario?: Koala\n",
            "¿Qué palabra desea guardar en el diccionario?: Oso Panda\n",
            "{'Elefante': 8, 'Jirafa': 6, 'Koala': 5, 'Oso Panda': 9}\n"
          ]
        }
      ]
    },
    {
      "cell_type": "markdown",
      "source": [
        "## Ejercicio 9"
      ],
      "metadata": {
        "id": "DubPYjb5RVX3"
      }
    },
    {
      "cell_type": "markdown",
      "source": [
        "Crea un programa que pida el número de palabras a introducir. Crear un diccionario de clave la palabra y\n",
        "de valor el número de vocales de la palabra."
      ],
      "metadata": {
        "id": "u9rj0V7jSglE"
      }
    },
    {
      "cell_type": "code",
      "source": [
        "dicc = {}\n",
        "\n",
        "word_amount = int(input(\"¿Cuántas palabras desea introducir?: \"))\n",
        "for i in range(word_amount):\n",
        "    word = str(input(\"¿Qué palabra desea guardar en el diccionario?: \")).lower()\n",
        "    vowels = 0\n",
        "    for letter in word:\n",
        "        if letter in \"aeiou\":\n",
        "            vowels +=1\n",
        "    dicc[word] = vowels\n",
        "print(dicc)"
      ],
      "metadata": {
        "colab": {
          "base_uri": "https://localhost:8080/"
        },
        "id": "6NNQvI0lShdz",
        "outputId": "c669db58-4e45-49fe-f662-ab66f0f3920b"
      },
      "execution_count": 16,
      "outputs": [
        {
          "output_type": "stream",
          "name": "stdout",
          "text": [
            "¿Cuántas palabras desea introducir?: 4\n",
            "¿Qué palabra desea guardar en el diccionario?: Elefante\n",
            "¿Qué palabra desea guardar en el diccionario?: Jirafa\n",
            "¿Qué palabra desea guardar en el diccionario?: Oso\n",
            "¿Qué palabra desea guardar en el diccionario?: Gato\n",
            "{'elefante': 4, 'jirafa': 3, 'oso': 2, 'gato': 2}\n"
          ]
        }
      ]
    },
    {
      "cell_type": "markdown",
      "source": [
        "## Ejercicio 10"
      ],
      "metadata": {
        "id": "1dUelp6_RWcm"
      }
    },
    {
      "cell_type": "markdown",
      "source": [
        "Dada una matriz, crea un diccionario que guarde el número de filas, el de columnas y cada fila en una entrada\n",
        "de un diccionario.\n"
      ],
      "metadata": {
        "id": "y3dG9UDySi_n"
      }
    },
    {
      "cell_type": "code",
      "source": [
        "import numpy as np\n",
        "\n",
        "matrix = np.random.rand(5,4)\n",
        "\n",
        "print(\"--------Matriz--------\")\n",
        "print(matrix)\n",
        "print({\"Filas\": matrix.shape[0], \"Columnas\":matrix.shape[1]})"
      ],
      "metadata": {
        "colab": {
          "base_uri": "https://localhost:8080/"
        },
        "id": "qhU9uCawSjiH",
        "outputId": "d22a5f10-3136-446c-ef87-9c5cfe6ca502"
      },
      "execution_count": 21,
      "outputs": [
        {
          "output_type": "stream",
          "name": "stdout",
          "text": [
            "--------Matriz--------\n",
            "[[0.73483117 0.88883235 0.04022398 0.24437807]\n",
            " [0.52310979 0.73628931 0.42994756 0.31080092]\n",
            " [0.78091438 0.30509826 0.92745369 0.19195389]\n",
            " [0.02894996 0.39231199 0.52981903 0.97214676]\n",
            " [0.49688717 0.19486647 0.53264567 0.67626216]]\n",
            "{'Filas': 5, 'Columnas': 4}\n"
          ]
        }
      ]
    }
  ]
}