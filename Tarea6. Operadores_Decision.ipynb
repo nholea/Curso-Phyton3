{
  "nbformat": 4,
  "nbformat_minor": 0,
  "metadata": {
    "colab": {
      "name": "Untitled0.ipynb",
      "provenance": [],
      "authorship_tag": "ABX9TyNbuJza/QUXoXuojwo+nqK7",
      "include_colab_link": true
    },
    "kernelspec": {
      "name": "python3",
      "display_name": "Python 3"
    },
    "language_info": {
      "name": "python"
    }
  },
  "cells": [
    {
      "cell_type": "markdown",
      "metadata": {
        "id": "view-in-github",
        "colab_type": "text"
      },
      "source": [
        "<a href=\"https://colab.research.google.com/github/nholea/Curso-Python3/blob/main/Tarea6.%20Operadores_Decision.ipynb\" target=\"_parent\"><img src=\"https://colab.research.google.com/assets/colab-badge.svg\" alt=\"Open In Colab\"/></a>"
      ]
    },
    {
      "cell_type": "markdown",
      "metadata": {
        "id": "YDfi0vsUAjmn"
      },
      "source": [
        "# Tarea 3 - Operadores de decisión\n",
        "\n"
      ]
    },
    {
      "cell_type": "markdown",
      "metadata": {
        "id": "HQEwnguECyGI"
      },
      "source": [
        "## Ejercicio 1\n"
      ]
    },
    {
      "cell_type": "markdown",
      "metadata": {
        "id": "Rbfrd5UlD6nY"
      },
      "source": [
        "Haz que un usuario introduzca un número real y evalúa si dicho número es positivo, negativo o cero. Devuelve\n",
        "por pantalla el resultado en cada caso."
      ]
    },
    {
      "cell_type": "code",
      "metadata": {
        "colab": {
          "base_uri": "https://localhost:8080/"
        },
        "id": "zyqL6tm0DAip",
        "outputId": "cc0cd9e3-2263-43a5-b9ad-f786d089e6db"
      },
      "source": [
        "number = float(input(\"Introduce un número real: \"))\n",
        "\n",
        "if number > 0:\n",
        "    print(\"{} es un número positivo\".format(number))\n",
        "elif number == 0:\n",
        "    print(\"{} es 0\".format(number))\n",
        "else:\n",
        "    print(\"{} es un número negativo\".format(number))  "
      ],
      "execution_count": 58,
      "outputs": [
        {
          "output_type": "stream",
          "name": "stdout",
          "text": [
            "Introduce un número real: -8\n",
            "-8.0 es un número negativo\n"
          ]
        }
      ]
    },
    {
      "cell_type": "markdown",
      "metadata": {
        "id": "ALCAM5F3DIsO"
      },
      "source": [
        "## Ejercicio 2 \n",
        "\n"
      ]
    },
    {
      "cell_type": "markdown",
      "metadata": {
        "id": "QDL4TfsWEVCR"
      },
      "source": [
        "Haz que un usuario introduzca su nombre y evalúa con operadores **if** y **else** si dicho nombre tiene una\n",
        "longitud mayor a 10 caracteres o no. Devuelve por pantalla el resultado en cada caso.\n"
      ]
    },
    {
      "cell_type": "code",
      "metadata": {
        "colab": {
          "base_uri": "https://localhost:8080/"
        },
        "id": "b7et63ftEaZB",
        "outputId": "1c7943c6-1899-4bac-8f19-1ddc18bf6a1f"
      },
      "source": [
        "name = input(\"Introduce tu nombre completo: \")\n",
        "name_length = len(name)\n",
        "\n",
        "if name_length > 10:\n",
        "    print(\"Tu nombre, {}, tiene más de 10 caracteres, exactamente {}\".format(name, name_length))\n",
        "else:\n",
        "    print(\"Tu nombre, {}, tiene menos de 10 caracteres, exactamente {}\".format(name, name_length))"
      ],
      "execution_count": 59,
      "outputs": [
        {
          "output_type": "stream",
          "name": "stdout",
          "text": [
            "Introduce tu nombre completo: Natalia\n",
            "Tu nombre, Natalia, tiene menos de 10 caracteres, exactamente 7\n"
          ]
        }
      ]
    },
    {
      "cell_type": "markdown",
      "metadata": {
        "id": "vdhMoqbuDSK0"
      },
      "source": [
        ""
      ]
    },
    {
      "cell_type": "markdown",
      "metadata": {
        "id": "q7gXKnhwDZRe"
      },
      "source": [
        "## Ejercicio 3 "
      ]
    },
    {
      "cell_type": "markdown",
      "metadata": {
        "id": "6yMALCppEpA0"
      },
      "source": [
        "Realiza el ejercicio anterior con el uso del operador ternario."
      ]
    },
    {
      "cell_type": "code",
      "metadata": {
        "colab": {
          "base_uri": "https://localhost:8080/"
        },
        "id": "ffW_5sTLEqjn",
        "outputId": "adf030ec-c091-4240-affe-96ccd96a55a2"
      },
      "source": [
        "name = input(\"Introduce tu nombre completo: \")\n",
        "name_length = len(name)\n",
        "\n",
        "print(\"Tu nombre, {}, tiene más de 10 caracteres, exactamente {}\".format(name, name_length)) if name_length > 10 else print(\"Tu nombre, {}, tiene menos de 10 caracteres, exactamente {}\".format(name, name_length))"
      ],
      "execution_count": 13,
      "outputs": [
        {
          "output_type": "stream",
          "name": "stdout",
          "text": [
            "Introduce tu nombre completo: Natalia\n",
            "Tu nombre, Natalia, tiene menos de 10 caracteres, exactamente 7\n"
          ]
        }
      ]
    },
    {
      "cell_type": "markdown",
      "metadata": {
        "id": "DbmNnORtDduM"
      },
      "source": [
        ""
      ]
    },
    {
      "cell_type": "markdown",
      "metadata": {
        "id": "ZKSPBNrwDgdV"
      },
      "source": [
        "## Ejercicio 4"
      ]
    },
    {
      "cell_type": "markdown",
      "metadata": {
        "id": "eTPDZfENFDyI"
      },
      "source": [
        "Haz que un usuario introduzca dos números enteros positivos. Comprueba si el primer número introducido\n",
        "por el usuario es mayor o igual que el segundo número introducido por el usuario. Devuelve por pantalla el\n",
        "resultado en cada caso.\n",
        "\n",
        "PISTA: Asegúrate de hacer uso de la función **int()** donde pertoque."
      ]
    },
    {
      "cell_type": "code",
      "metadata": {
        "colab": {
          "base_uri": "https://localhost:8080/"
        },
        "id": "XsizQG4XFmLH",
        "outputId": "704d6021-2312-4cc5-ddd2-9f55b5b4184d"
      },
      "source": [
        "number1 = int(input(\"Introduce un número entero: \"))\n",
        "number2 = int(input(\"Introduce un número entero: \"))\n",
        "\n",
        "print(\"{} es mayor o igual que {}\".format(number1, number2)) if number1 >= number2 else print(\"{} es menor que {}\".format(number1, number2))"
      ],
      "execution_count": 18,
      "outputs": [
        {
          "output_type": "stream",
          "name": "stdout",
          "text": [
            "Introduce un número entero: 3\n",
            "Introduce un número entero: 25\n",
            "3 es menor a 25\n"
          ]
        }
      ]
    },
    {
      "cell_type": "markdown",
      "metadata": {
        "id": "OnIUInN5Dh34"
      },
      "source": [
        ""
      ]
    },
    {
      "cell_type": "markdown",
      "metadata": {
        "id": "cTBvQR7-Di_i"
      },
      "source": [
        "## Ejercicio 5"
      ]
    },
    {
      "cell_type": "markdown",
      "metadata": {
        "id": "TMyjQcabG9jy"
      },
      "source": [
        "Haz que un usuario introduzca dos números enteros positivos. Suponiendo que el primer número introducido\n",
        "por el usuario es mayor o igual al segundo número introducido por el usuario, comprueba que la división del\n",
        "primer número entre el segundo número es entera.\n",
        "\n",
        "En caso de la división ser entera, devuelve el cociente por pantalla e indica que la división en efecto es entera.\n",
        "En caso de la división no ser entera, devuelve el cociente y el resto por pantalla e indica que la división entre\n",
        "los dos números no es entera."
      ]
    },
    {
      "cell_type": "code",
      "metadata": {
        "colab": {
          "base_uri": "https://localhost:8080/"
        },
        "id": "smQUBfxWHDeI",
        "outputId": "55cbd68e-c07d-4d71-a9df-2b20130a1607"
      },
      "source": [
        "num1 = int(input(\"Introduce un número entero: \"))\n",
        "num2 = int(input(\"Introduce un número entero: \"))\n",
        "resto = num1 % num2\n",
        "cociente = num1 // num2\n",
        "\n",
        "if num1 >= num2:\n",
        "    if resto == 0:\n",
        "        print(\"{}/{} es una división entera y su cociente es {}\".format(num1, num2, cociente))\n",
        "    else:\n",
        "        print(\"{}/{} no es una división entera, con cociente {} y resto {}\".format(num1, num2, cociente, resto))\n",
        "else:\n",
        "    print(\"{} es menor que {}\".format(num1, num2))"
      ],
      "execution_count": 2,
      "outputs": [
        {
          "output_type": "stream",
          "name": "stdout",
          "text": [
            "Introduce un número entero: 12\n",
            "Introduce un número entero: 24\n",
            "12 es menor a 24\n"
          ]
        }
      ]
    },
    {
      "cell_type": "markdown",
      "metadata": {
        "id": "eeukSbPvDkLs"
      },
      "source": [
        ""
      ]
    },
    {
      "cell_type": "markdown",
      "metadata": {
        "id": "sURh3LznDndl"
      },
      "source": [
        "## Ejercicio 6"
      ]
    },
    {
      "cell_type": "markdown",
      "metadata": {
        "id": "m2yz6jYhICzb"
      },
      "source": [
        "Fusiona lo hecho en los ejercicios 4 y 5 para que\n",
        "\n",
        "1. Un usuario introduzca dos números enteros por pantalla.\n",
        "2. Comprobar si el primer número es mayor o igual al segundo número introducido por el usuario. Devolver\n",
        "por pantalla en que caso nos encontramos.\n",
        "3. Hacer la división entera pertinente en cada caso.\n",
        "4. Si la división es entera, entonces devolver por pantalla el cociente e indicar que la división es entera.\n",
        "Si la división no es entera, entonces devolver por pantalla el cociente y el resto e indicar que la división\n",
        "realizada no es entera.\n"
      ]
    },
    {
      "cell_type": "code",
      "metadata": {
        "colab": {
          "base_uri": "https://localhost:8080/"
        },
        "id": "z4J3kIKdIDv3",
        "outputId": "438b1847-c9fd-428e-8623-b10c36a74f67"
      },
      "source": [
        "num_1 = int(input(\"Introduce un número entero: \"))\n",
        "num_2 = int(input(\"Introduce un número entero: \"))\n",
        "resto1 = num_1 % num_2\n",
        "cociente1 = num_1 // num_2\n",
        "\n",
        "if num_1 >= num_2:\n",
        "    print(\"El primer número introducido {} es mayor que el segundo número {}\".format(num_1, num_2))\n",
        "    if resto1 == 0:\n",
        "        print(\"{}/{} es una división entera y su cociente es {}\".format(num_1, num_2, cociente1))\n",
        "    else:\n",
        "        print(\"{}/{} no es una división entera, con cociente {} y resto {}\".format(num_1, num_2, cociente1, resto1))\n",
        "else:\n",
        "    print(\"El primero número introducido {} es menor que el segundo número {}\".format(num_1, num_2))\n",
        "    if resto1 == 0:\n",
        "        print(\"{}/{} es una división entera y su cociente es {}\".format(num_1, num_2, cociente1))\n",
        "    else:\n",
        "        print(\"{}/{} no es una división entera, con cociente {} y resto {}\".format(num_1, num_2, cociente1, resto1))"
      ],
      "execution_count": 67,
      "outputs": [
        {
          "output_type": "stream",
          "name": "stdout",
          "text": [
            "Introduce un número entero: 24\n",
            "Introduce un número entero: 12\n",
            "El primer número introducido 24 es mayor que el segundo número 12\n",
            "24/12 es una división entera y su cociente es 2\n"
          ]
        }
      ]
    },
    {
      "cell_type": "markdown",
      "metadata": {
        "id": "hZ6MyM2ADo37"
      },
      "source": [
        ""
      ]
    },
    {
      "cell_type": "markdown",
      "metadata": {
        "id": "xPUS6hEjDp10"
      },
      "source": [
        "## Ejercicio 7"
      ]
    },
    {
      "cell_type": "markdown",
      "metadata": {
        "id": "tAuzHQ_iJOdm"
      },
      "source": [
        "Haz que un usuario introduzca dos números enteros positivos. Comprueba si el mayor es múltiplo del menor.\n",
        "Devuelve por pantalla el resultado en cada caso.\n"
      ]
    },
    {
      "cell_type": "code",
      "metadata": {
        "colab": {
          "base_uri": "https://localhost:8080/"
        },
        "id": "-e0rooMlJPVu",
        "outputId": "6f6b7efb-e6a2-4aa5-d6fd-156ef31d1cf9"
      },
      "source": [
        "number_1 = int(input(\"Introduce un número entero: \"))\n",
        "number_2 = int(input(\"Introduce un número entero: \"))\n",
        "\n",
        "\n",
        "if number_1 > number_2:\n",
        "    if number_1 % number_2 == 0:\n",
        "        print(\"El primer número, {} es múltiplo del segundo número, {}\".format(number_1, number_2))\n",
        "    else:\n",
        "        print(\"El primer número, {} no es múltiplo del segundo número, {}\".format(number_1, number_2))\n",
        "    \n",
        "else:\n",
        "    if number_2 % number_1 == 0:\n",
        "        print(\"El segundo número, {} es múltiplo del primer número, {}\".format(number_2, number_1))\n",
        "    else:\n",
        "        print(\"El segundo número, {} no es múltiplo del primer número, {}\".format(number_2, number_1))\n",
        "    \n"
      ],
      "execution_count": 68,
      "outputs": [
        {
          "output_type": "stream",
          "name": "stdout",
          "text": [
            "Introduce un número entero: 7\n",
            "Introduce un número entero: 24\n",
            "El segundo número, 24 no es múltiplo del primer número, 7\n"
          ]
        }
      ]
    },
    {
      "cell_type": "markdown",
      "metadata": {
        "id": "1ifp_7JFDrCc"
      },
      "source": [
        ""
      ]
    },
    {
      "cell_type": "markdown",
      "metadata": {
        "id": "ZhvzX6eUDs1c"
      },
      "source": [
        "## Ejercicio 8"
      ]
    },
    {
      "cell_type": "markdown",
      "metadata": {
        "id": "Xun8WGYEKAUk"
      },
      "source": [
        "Haz que un usuario introduzca una palabra y comprueba si dicha palabra empieza por mayúscula. Devuelve\n",
        "por pantalla el resultado en cada caso."
      ]
    },
    {
      "cell_type": "code",
      "metadata": {
        "colab": {
          "base_uri": "https://localhost:8080/"
        },
        "id": "fP9H6PSRKBEF",
        "outputId": "a3d5a008-6d9a-41d3-ae82-e4a67383db31"
      },
      "source": [
        "word = input(\"Introduzca una sola palabra: \")\n",
        "letter = word[0]\n",
        "\n",
        "if word.find(\" \") == -1:\n",
        "    if letter.isupper() == True:\n",
        "        print(\"La palabra {} empieza por mayúscula, con la letra {}\".format(word, letter))\n",
        "    else:\n",
        "        print(\"La palabra {} no empieza por mayúscula\".format(word))\n",
        "else:\n",
        "    print(\"Sólo se puede introducir una palabra\")\n",
        "\n"
      ],
      "execution_count": 70,
      "outputs": [
        {
          "output_type": "stream",
          "name": "stdout",
          "text": [
            "Introduzca una sola palabra: Manzana\n",
            "La palabra Manzana empieza por mayúscula, con la letra M\n"
          ]
        }
      ]
    },
    {
      "cell_type": "markdown",
      "metadata": {
        "id": "_Jttv8iTDucV"
      },
      "source": [
        ""
      ]
    },
    {
      "cell_type": "markdown",
      "metadata": {
        "id": "GOLhgDzHDwLa"
      },
      "source": [
        "## Ejercicio 9"
      ]
    },
    {
      "cell_type": "markdown",
      "metadata": {
        "id": "xROChnpqK0sB"
      },
      "source": [
        "Haz un usuario introduza una letra y comprueba si se trata de una vocal. Si el usuario introduce un string\n",
        "de más de un carácter, infórmale de que no se puede procesar el dato, pues debe tener como máximo tamaño\n",
        "1.\n",
        "PISTA: Convierte la letra introducida a minúsculas para tener que realizar menos comprobaciones"
      ]
    },
    {
      "cell_type": "code",
      "metadata": {
        "colab": {
          "base_uri": "https://localhost:8080/"
        },
        "id": "YIJI0MKdLCR1",
        "outputId": "5735906d-0e3b-4de7-b243-a11ea8c5d082"
      },
      "source": [
        "letter1 = input(\"Introduzca sólo una letra: \").lower()\n",
        "vowels = \"aeiou\"\n",
        "\n",
        "if letter1.isalpha() == True and len(letter1) == 1:\n",
        "    if letter1 in vowels:\n",
        "        print(\"La letra introducida, {}, es una vocal\".format(letter1))\n",
        "    else:\n",
        "        print(\"La letra introducida, {}, no es una vocal\".format(letter1))\n",
        "else:\n",
        "    print(\"No se puede procesar el dato, puesto que debe ser un caracter del alfabeto y tamaño máximo 1\")    "
      ],
      "execution_count": 46,
      "outputs": [
        {
          "output_type": "stream",
          "name": "stdout",
          "text": [
            "Introduzca sólo una letra: w\n",
            "La letra introducida, w, no es una vocal\n"
          ]
        }
      ]
    },
    {
      "cell_type": "markdown",
      "metadata": {
        "id": "67knL9heDxoi"
      },
      "source": [
        ""
      ]
    },
    {
      "cell_type": "markdown",
      "metadata": {
        "id": "3_1-iUozD0qd"
      },
      "source": [
        "## Ejercicio 10"
      ]
    },
    {
      "cell_type": "markdown",
      "metadata": {
        "id": "PqGVpOY8LsfW"
      },
      "source": [
        "Dada una ecuación de segundo grado ax2 + bx + c = 0, sabemos que las soluciones vienen dadas por \n",
        "\n",
        "                        x = (−b ±√b2 − 4ac)/2a\n",
        "\n",
        "siempre y cuando a sea distinto de 0.\n",
        "\n",
        "El número de soluciones dentro del conjunto de los números reales R viene dado en función del signo que tome el discriminante, \n",
        "A= b2 − 4ac. \n",
        "\n",
        "* Si A > 0, entonces tendremos dos soluciones diferentes en R\n",
        "\n",
        "\n",
        "1.   x =(−b+√A)/2a\n",
        "2.    x =(−b-√A)/2a\n",
        "\n",
        "* Si A = 0, entonces tendremos dos soluciones que serán iguales\n",
        "\n",
        "1.   x =−b/2a\n",
        "2.    x =−b/2a\n",
        "\n",
        "* Si A < 0, entonces no existe solución dentro del conjunto de los números reales para esta ecuación de segundo\n",
        "grado.\n",
        "\n",
        "Con toda esta información, haz que el usuario introduzca los valores de los coeficientes a, b, c. Con ello,\n",
        "1. Comprueba que el coeficiente a es distinto de 0\n",
        "2. En función del discriminante, calcula cuántas soluciones va a tener la ecuación de segundo grado\n",
        "ax2 + bx + c = 0.\n",
        "3. Devuelve por pantalla el resultado en cada caso (tanto el número de soluciones en los números reales\n",
        "como el valor de éstas).\n",
        "\n",
        "PISTA: Para calcular la raíz cuadrada, vas a necesitar la función math.sqrt() de la librería math"
      ]
    },
    {
      "cell_type": "code",
      "metadata": {
        "id": "GBbVQa4pLtYs"
      },
      "source": [
        "from math import sqrt as raiz"
      ],
      "execution_count": 63,
      "outputs": []
    },
    {
      "cell_type": "code",
      "metadata": {
        "colab": {
          "base_uri": "https://localhost:8080/"
        },
        "id": "oeQxO9jQNeqC",
        "outputId": "5ef09121-5250-48fb-879e-de9eac619562"
      },
      "source": [
        "a = float(input(\"Introduce un valor para el coeficiente a: \"))\n",
        "b = float(input(\"Introduce un valor para el coeficiente b: \"))\n",
        "c = float(input(\"Introduce un valor para el coeficiente c: \"))\n",
        "discriminante = b ** 2 - (4 * a * c)\n",
        "\n",
        "if a > 0:\n",
        "    if discriminante > 0:\n",
        "        print(\"discriminante > 0 y, por tanto, tendremos 2 soluciones diferentes:\")\n",
        "        x1= (-b + raiz(discriminante)) / (2 * a)\n",
        "        x2= (-b - raiz(discriminante)) / (2 * a)\n",
        "        print(\"x1 = {}\\nx2 = {}\".format(x1,x2))\n",
        "    elif discriminante == 0:\n",
        "        print(\"discriminante = 0 y, por tanto, tendremos 2 soluciones iguales:\")\n",
        "        x= -b / (2 * a)\n",
        "        print(\"x = {}\".format(x))\n",
        "    else:\n",
        "         print(\"discriminante < 0 y, por tanto, no existe solución dentro del conjunto de los números reales para esta ecuación de segundo grado.\")\n",
        "else:\n",
        "    print(\"coeficiente a {} no es distinto de 0\".format(a))"
      ],
      "execution_count": 79,
      "outputs": [
        {
          "output_type": "stream",
          "name": "stdout",
          "text": [
            "Introduce un valor para el coeficiente a: 2\n",
            "Introduce un valor para el coeficiente b: 4\n",
            "Introduce un valor para el coeficiente c: 2\n",
            "discriminante = 0 y, por tanto, tendremos 2 soluciones iguales:\n",
            "x = -1.0\n"
          ]
        }
      ]
    },
    {
      "cell_type": "markdown",
      "metadata": {
        "id": "ARKyAghdD13z"
      },
      "source": [
        ""
      ]
    }
  ]
}