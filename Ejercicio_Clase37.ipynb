{
  "nbformat": 4,
  "nbformat_minor": 0,
  "metadata": {
    "colab": {
      "name": "Untitled2.ipynb",
      "provenance": [],
      "authorship_tag": "ABX9TyO9clwYDvOvfgXgxK1QFREX",
      "include_colab_link": true
    },
    "kernelspec": {
      "name": "python3",
      "display_name": "Python 3"
    },
    "language_info": {
      "name": "python"
    }
  },
  "cells": [
    {
      "cell_type": "markdown",
      "metadata": {
        "id": "view-in-github",
        "colab_type": "text"
      },
      "source": [
        "<a href=\"https://colab.research.google.com/github/nholea/Curso-Python3/blob/main/Ejercicio_Clase37.ipynb\" target=\"_parent\"><img src=\"https://colab.research.google.com/assets/colab-badge.svg\" alt=\"Open In Colab\"/></a>"
      ]
    },
    {
      "cell_type": "code",
      "metadata": {
        "colab": {
          "base_uri": "https://localhost:8080/"
        },
        "id": "xRVnCz_ZcOlK",
        "outputId": "8e2334da-33b9-4e93-d23d-e4b006889d39"
      },
      "source": [
        "#Subir montaña rusa\n",
        "altura_requerida, dinero_requerido = True, True\n",
        "print(altura_requerida and dinero_requerido)\n",
        "print(altura_requerida and (not dinero_requerido))\n",
        "print((not altura_requerida) and dinero_requerido)\n",
        "print(not (altura_requerida or dinero_requerido))"
      ],
      "execution_count": 9,
      "outputs": [
        {
          "output_type": "stream",
          "name": "stdout",
          "text": [
            "True\n",
            "False\n",
            "False\n",
            "False\n"
          ]
        }
      ]
    },
    {
      "cell_type": "code",
      "metadata": {
        "colab": {
          "base_uri": "https://localhost:8080/"
        },
        "id": "V__5pTHHdJXz",
        "outputId": "16de9e1e-8dc0-4193-9367-dfd2867745a9"
      },
      "source": [
        "#Entrada cine\n",
        "efectivo, tarjeta = True, True\n",
        "print(efectivo or tarjeta)\n",
        "print(efectivo or (not tarjeta))\n",
        "print((not efectivo) or tarjeta)\n",
        "print(not (efectivo and tarjeta))"
      ],
      "execution_count": 5,
      "outputs": [
        {
          "output_type": "stream",
          "name": "stdout",
          "text": [
            "True\n",
            "True\n",
            "True\n",
            "False\n"
          ]
        }
      ]
    }
  ]
}