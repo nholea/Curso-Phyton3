{
  "nbformat": 4,
  "nbformat_minor": 0,
  "metadata": {
    "colab": {
      "name": "04-entrada.ipynb",
      "provenance": [],
      "collapsed_sections": [],
      "include_colab_link": true
    },
    "kernelspec": {
      "name": "python3",
      "display_name": "Python 3"
    }
  },
  "cells": [
    {
      "cell_type": "markdown",
      "metadata": {
        "id": "view-in-github",
        "colab_type": "text"
      },
      "source": [
        "<a href=\"https://colab.research.google.com/github/nholea/Curso-Python3/blob/main/Tarea7.%20Entrada4.ipynb\" target=\"_parent\"><img src=\"https://colab.research.google.com/assets/colab-badge.svg\" alt=\"Open In Colab\"/></a>"
      ]
    },
    {
      "cell_type": "markdown",
      "metadata": {
        "id": "7-w9Es5sktLa"
      },
      "source": [
        "# Filtrando solicitudes\n",
        "\n",
        "Pyratilla hizo un formulario para que los interesados en formar parte de su tripulación rellenaran y así poder evitarse más de una entrevista innecesaria.\n",
        "\n",
        "Ahora es momento de filtrar las convocatorias:\n",
        "\n",
        "- El nombre debe empezar por mayúscula. Si es un nombre compuesto, entonces todos deben empezar por mayúscula.\n",
        "- La edad debe ser mayor o igual a 16 y menor o igual a 40.\n",
        "- El hobby indicado debe tener más de 10 caracteres.\n",
        "- La casilla del sueño no puede haber sido dejada en blanco.\n",
        "\n",
        "Ayuda a Pyratilla a crear este filtro para descartar solicitudes que no cumplan estos requisitos."
      ]
    },
    {
      "cell_type": "code",
      "metadata": {
        "id": "JQaaF1oomyre",
        "outputId": "e061dcdc-5ec9-4ec5-d977-2f5d607e7de3",
        "colab": {
          "base_uri": "https://localhost:8080/"
        }
      },
      "source": [
        "name = input(\"Por favor introduzca su nombre: \")\n",
        "\n",
        "if name.find(\" \") == -1:\n",
        "    if name[0].isupper() == True:\n",
        "        valid_name = True\n",
        "    else:\n",
        "        valid_name = False\n",
        "else:\n",
        "    if name.istitle() == True:\n",
        "        valid_name = True\n",
        "    else:\n",
        "        valid_name = False\n"
      ],
      "execution_count": 20,
      "outputs": [
        {
          "name": "stdout",
          "output_type": "stream",
          "text": [
            "Por favor introduzca su nombre: Natalia\n"
          ]
        }
      ]
    },
    {
      "cell_type": "code",
      "metadata": {
        "id": "JMeNUy9tm6FZ",
        "outputId": "55d03724-f3d6-46c2-a8d2-9f0bd51767e6",
        "colab": {
          "base_uri": "https://localhost:8080/"
        }
      },
      "source": [
        "age = int(input(\"Por favor introduzca su edad: \"))\n",
        "\n",
        "if age >= 16 and age <= 40:\n",
        "    valid_age = True\n",
        "else:\n",
        "    valid_age = False "
      ],
      "execution_count": 38,
      "outputs": [
        {
          "name": "stdout",
          "output_type": "stream",
          "text": [
            "Por favor introduzca su edad: 28\n"
          ]
        }
      ]
    },
    {
      "cell_type": "code",
      "metadata": {
        "id": "n7vhw2K8m-jO",
        "outputId": "a1e27252-e1f2-4313-bacd-9ff4850c4c33",
        "colab": {
          "base_uri": "https://localhost:8080/"
        }
      },
      "source": [
        "hobby = input(\"Por favor introduzca cual es su hobby: \")\n",
        "\n",
        "if len(hobby) > 10:\n",
        "    valid_hobby = True \n",
        "else:\n",
        "    valid_hobby = False "
      ],
      "execution_count": 34,
      "outputs": [
        {
          "name": "stdout",
          "output_type": "stream",
          "text": [
            "Por favor introduzca cual es su hobby: sabdjksdjnjdsankafdsffds\n"
          ]
        }
      ]
    },
    {
      "cell_type": "code",
      "metadata": {
        "id": "JPJry-X9nCSS",
        "outputId": "144e5489-f487-49eb-db35-d8288f1578a9",
        "colab": {
          "base_uri": "https://localhost:8080/"
        }
      },
      "source": [
        "dream = input(\"Por favor introduzca cual es su sueño por cumplir: \")\n",
        "\n",
        "if len(dream) != 0:\n",
        "    valid_dream = True\n",
        "else:\n",
        "    valid_dream = False\n"
      ],
      "execution_count": 30,
      "outputs": [
        {
          "name": "stdout",
          "output_type": "stream",
          "text": [
            "Por favor introduzca cual es su sueño por cumplir: ksdkfkskdlakladfkld\n"
          ]
        }
      ]
    },
    {
      "cell_type": "code",
      "metadata": {
        "id": "N0XJutoPo7pE",
        "outputId": "28dd8927-2d47-4f46-b92b-460f64b962e3",
        "colab": {
          "base_uri": "https://localhost:8080/"
        }
      },
      "source": [
        "if valid_name and valid_age and valid_hobby and valid_dream == True:\n",
        "    print(\"Felicidades {} continúas en el proceso.\".format(name))\n",
        "else:\n",
        "    print(\"{} no cumples los requisitos mínimos para pertenecer a la tripulación de Pyratilla.\".format(name))"
      ],
      "execution_count": 39,
      "outputs": [
        {
          "output_type": "stream",
          "name": "stdout",
          "text": [
            "Felicidades Natalia continúas en el proceso.\n"
          ]
        }
      ]
    }
  ]
}