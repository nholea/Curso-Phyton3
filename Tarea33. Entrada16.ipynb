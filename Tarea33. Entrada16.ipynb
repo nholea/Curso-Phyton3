{
  "nbformat": 4,
  "nbformat_minor": 0,
  "metadata": {
    "colab": {
      "name": "16-entrada.ipynb",
      "provenance": [],
      "collapsed_sections": [],
      "include_colab_link": true
    },
    "kernelspec": {
      "name": "python3",
      "display_name": "Python 3"
    }
  },
  "cells": [
    {
      "cell_type": "markdown",
      "metadata": {
        "id": "view-in-github",
        "colab_type": "text"
      },
      "source": [
        "<a href=\"https://colab.research.google.com/github/nholea/Curso-Python3/blob/main/Tarea33.%20Entrada16.ipynb\" target=\"_parent\"><img src=\"https://colab.research.google.com/assets/colab-badge.svg\" alt=\"Open In Colab\"/></a>"
      ]
    },
    {
      "cell_type": "markdown",
      "metadata": {
        "id": "Mr1DJLy0l_k1"
      },
      "source": [
        "# La salida del templo"
      ]
    },
    {
      "cell_type": "markdown",
      "metadata": {
        "id": "HuZIMzGzmDdp"
      },
      "source": [
        "Entraron en la nueva sala y las puertas de piedra se cerraron tras ellos. Se giraron sobre sí mismos y observaron la gran y solitaria habitación en la que se encontraban.\n",
        "\n",
        "Volvían a estar entre 4 paredes de piedra tan altas como las anteriores. Esta vez solo 2 de ellas tenían una ventana pequeña y cuadrada en lo más alto. La pared que quedaba tras ellos tenía solamente la gran puerta por la que habían entrado. Y en la pared opuesta podía verse otra puerta muy diferente a todas las anteriores.\n",
        "\n",
        "Esta nueva puerta era un poco más pequeña y brillaba, pues era de oro macizo. Pero lo que más emocionó a Pyratilla y su tripulación fue que en letras grandes y brillantes ponía: SALIDA AL EXTERIOR. A punto estaban de correr hacia la puerta cuando en el centro de la habitación apareció un altar. Con cautela, los tres piratas se acercaron al altar.\n",
        "\n",
        "El primero en llegar fue Pyratilla y en voz alta empezó a leer:\n",
        "\n",
        "<dl>\n",
        "<dd>\"Esta es la prueba final:</dd>\n",
        "<dd>al superarla al exterior podrás salir</dd>\n",
        "<dd>un cuadrado perfecto vas a crear</dd>\n",
        "<dd>y para ello las instrucciones debes seguir.\"</dd>\n",
        "</dl>\n",
        "\n",
        "Al pronunciar la última palabra, el texto del altar cambió mágicamente y ahora se leía:\n",
        "\n",
        "<dl>\n",
        "<dd>\"INSTRUCCIONES:</dd>\n",
        "<dd>Utiliza el módulo numpy</dd>\n",
        "<dd>Dados los arrays a, b, c, d y e, concátenalos de modo que</dd>\n",
        "<dd>* sea un array bidimensional</dd>\n",
        "<dd>* su shape sea (5, 5)</dd>\n",
        "<dd>* cada fila sume 65</dd>\n",
        "<dd>* cada columna sume 65</dd>\n",
        "<dd>* cada diagonal sume 65</dd>\n",
        "<dd>PISTA: El número de la mala suerte ocupa el lugar central</dd>\n",
        "<dd>Cuando lo hayas construido,</dd>\n",
        "<dd>* comprueba la dimensión con el método correspondiente</dd>\n",
        "<dd>* comprueba la shape con el método correspondiente</dd>\n",
        "<dd>* comprueba que cada fila suma 65 con el método correspondiente</dd>\n",
        "<dd>* comprueba que cada columna suma 65 con el método correspondiente</dd>\n",
        "<dd>* comprueba que cada diagonal suma 65 con un método creado por ti</dd>\n",
        "<dd>* con el método .ndenumerate() indica los índices de los elementos que son mayores a la media de los elementos del array bidimensional construido y los que no lo son</dd>\n",
        "<dd>* muestra los elementos que sí han superado el filtro de ser mayores a la media de los elementos del array bidimensional construido\"</dd>\n",
        "\n",
        "</dl>\n"
      ]
    },
    {
      "cell_type": "code",
      "metadata": {
        "id": "pebuCyx2143l"
      },
      "source": [
        "import numpy as np"
      ],
      "execution_count": 2,
      "outputs": []
    },
    {
      "cell_type": "code",
      "metadata": {
        "id": "yfsmsaw916oh"
      },
      "source": [
        "a = np.array([[17, 5, 13, 21, 9]])\n",
        "b = np.array([[23, 6, 19, 2, 15]])\n",
        "c = np.array([[4, 12, 25, 8, 16]])\n",
        "d = np.array([[11, 24, 7, 20, 3]])\n",
        "e = np.array([[10, 18, 1, 14, 22]])"
      ],
      "execution_count": 3,
      "outputs": []
    },
    {
      "cell_type": "code",
      "source": [
        "abcde= np.concatenate((a,b,c,d,e), axis=0)\n",
        "print(\"Dimensión:\", abcde.ndim)\n",
        "print(\"Shape:\", abcde.shape)\n",
        "print(\"Suma filas:\", np.sum(abcde, axis=1))\n",
        "print(\"Suma columnas:\", np.sum(abcde, axis =0))\n",
        "\n",
        "def sum_diag(a):\n",
        "    n = a.shape[0]\n",
        "    sum_main_diag = 0\n",
        "    sum_second_diag = 0\n",
        "\n",
        "    for i in range(n):\n",
        "        sum_main_diag += a[i,i]\n",
        "        sum_second_diag += a[i , (n - 1) - i]\n",
        "    \n",
        "    return (sum_main_diag, sum_second_diag)\n",
        "\n",
        "main_diag, second_diag = sum_diag(abcde)\n",
        "print(\"La suma de la diagonal principal es: \", main_diag)\n",
        "print(\"La suma de la diagonal secundaria es: \", second_diag)"
      ],
      "metadata": {
        "id": "ybEqJiLNxtkg",
        "outputId": "5309cf31-7775-4444-d2cf-05da74e4de4c",
        "colab": {
          "base_uri": "https://localhost:8080/"
        }
      },
      "execution_count": 20,
      "outputs": [
        {
          "output_type": "stream",
          "name": "stdout",
          "text": [
            "Dimensión: 2\n",
            "Shape: (5, 5)\n",
            "Suma filas: [65 65 65 65 65]\n",
            "Suma columnas: [65 65 65 65 65]\n",
            "La suma de la diagonal principal es:  90\n",
            "La suma de la diagonal secundaria es:  70\n"
          ]
        }
      ]
    },
    {
      "cell_type": "code",
      "source": [
        "n = abcde.shape[0] * abcde.shape[1]\n",
        "print(\"El número total de elementos del array es n = \", n)\n",
        "\n",
        "mean = np.sum(abcde) / n\n",
        "print(\"La media de los elementos del array es\", mean, end =\"\\n\\n\")\n",
        "\n",
        "for idx, i in np.ndenumerate(abcde):\n",
        "    print(\"El elemento con índice\", idx, end= \" \")\n",
        "    print(\"es mayor a la media\" if i > mean else \"es menor o igual a la media\")"
      ],
      "metadata": {
        "id": "qKUL5hEE1www",
        "outputId": "e2aa0c9f-9739-490a-d7e3-e499f92fb8f7",
        "colab": {
          "base_uri": "https://localhost:8080/"
        }
      },
      "execution_count": 21,
      "outputs": [
        {
          "output_type": "stream",
          "name": "stdout",
          "text": [
            "El número total de elementos del array es n =  25\n",
            "La media de los elementos del array es 13.0\n",
            "\n",
            "El elemento con índice (0, 0) es mayor a la media\n",
            "El elemento con índice (0, 1) es menor o igual a la media\n",
            "El elemento con índice (0, 2) es menor o igual a la media\n",
            "El elemento con índice (0, 3) es mayor a la media\n",
            "El elemento con índice (0, 4) es menor o igual a la media\n",
            "El elemento con índice (1, 0) es mayor a la media\n",
            "El elemento con índice (1, 1) es menor o igual a la media\n",
            "El elemento con índice (1, 2) es mayor a la media\n",
            "El elemento con índice (1, 3) es menor o igual a la media\n",
            "El elemento con índice (1, 4) es mayor a la media\n",
            "El elemento con índice (2, 0) es menor o igual a la media\n",
            "El elemento con índice (2, 1) es menor o igual a la media\n",
            "El elemento con índice (2, 2) es mayor a la media\n",
            "El elemento con índice (2, 3) es menor o igual a la media\n",
            "El elemento con índice (2, 4) es mayor a la media\n",
            "El elemento con índice (3, 0) es menor o igual a la media\n",
            "El elemento con índice (3, 1) es mayor a la media\n",
            "El elemento con índice (3, 2) es menor o igual a la media\n",
            "El elemento con índice (3, 3) es mayor a la media\n",
            "El elemento con índice (3, 4) es menor o igual a la media\n",
            "El elemento con índice (4, 0) es menor o igual a la media\n",
            "El elemento con índice (4, 1) es mayor a la media\n",
            "El elemento con índice (4, 2) es menor o igual a la media\n",
            "El elemento con índice (4, 3) es mayor a la media\n",
            "El elemento con índice (4, 4) es mayor a la media\n"
          ]
        }
      ]
    },
    {
      "cell_type": "code",
      "source": [
        "abcde_mean = abcde[abcde > mean]\n",
        "print(\"Los elementos del array mayores que la media son:\\n\",abcde_mean)"
      ],
      "metadata": {
        "id": "olEhM5Cn3KDN",
        "outputId": "dc697659-56c7-48ae-9b65-c3e9c7fd8c44",
        "colab": {
          "base_uri": "https://localhost:8080/"
        }
      },
      "execution_count": 23,
      "outputs": [
        {
          "output_type": "stream",
          "name": "stdout",
          "text": [
            "Los elementos del array mayores que la media son:\n",
            " [17 21 23 19 15 25 16 24 20 18 14 22]\n"
          ]
        }
      ]
    }
  ]
}