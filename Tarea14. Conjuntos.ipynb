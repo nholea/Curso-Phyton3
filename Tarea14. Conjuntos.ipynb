{
  "nbformat": 4,
  "nbformat_minor": 0,
  "metadata": {
    "colab": {
      "name": "Untitled11.ipynb",
      "provenance": [],
      "authorship_tag": "ABX9TyPzKJkeroaGKjAK6To5yhsL",
      "include_colab_link": true
    },
    "kernelspec": {
      "name": "python3",
      "display_name": "Python 3"
    },
    "language_info": {
      "name": "python"
    }
  },
  "cells": [
    {
      "cell_type": "markdown",
      "metadata": {
        "id": "view-in-github",
        "colab_type": "text"
      },
      "source": [
        "<a href=\"https://colab.research.google.com/github/nholea/Curso-Python3/blob/main/Tarea14.%20Conjuntos.ipynb\" target=\"_parent\"><img src=\"https://colab.research.google.com/assets/colab-badge.svg\" alt=\"Open In Colab\"/></a>"
      ]
    },
    {
      "cell_type": "markdown",
      "source": [
        "# Tarea 7 - Estructuras de datos: Conjuntos"
      ],
      "metadata": {
        "id": "83CCQ11sQ1Vy"
      }
    },
    {
      "cell_type": "markdown",
      "source": [
        "## Ejercicio 1\n"
      ],
      "metadata": {
        "id": "f_h2v0lnRBTP"
      }
    },
    {
      "cell_type": "markdown",
      "source": [
        "Dado un número entero introducido por teclado, guarda sus divisores en un conjunto y muéstralo"
      ],
      "metadata": {
        "id": "_wCDKlfYRcMN"
      }
    },
    {
      "cell_type": "code",
      "source": [
        "num = int(input(\"Introduce un número: \"))\n",
        "divisores = set()\n",
        "\n",
        "for i in range(1, num +1):\n",
        "    if num % i == 0:\n",
        "        divisores.add(i)\n",
        "\n",
        "print(\"Los divisores de\", num, \"son:\", divisores)"
      ],
      "metadata": {
        "colab": {
          "base_uri": "https://localhost:8080/"
        },
        "id": "6fdhoGKWRfO4",
        "outputId": "838f0679-e32d-4a87-e0d1-9ebc71eb76eb"
      },
      "execution_count": 4,
      "outputs": [
        {
          "output_type": "stream",
          "name": "stdout",
          "text": [
            "Introduce un número: 60\n",
            "Los divisores de 60 son: {1, 2, 3, 4, 5, 6, 10, 12, 15, 20, 60, 30}\n"
          ]
        }
      ]
    },
    {
      "cell_type": "markdown",
      "source": [
        "## Ejercicio 2\n"
      ],
      "metadata": {
        "id": "-oCarPsfRGgw"
      }
    },
    {
      "cell_type": "markdown",
      "source": [
        "Crea un programa que dado un conjunto, nos devuelva su mínimo. Debes hacerlo sin recurrir a la función\n",
        "min()."
      ],
      "metadata": {
        "id": "tEG8nVbzR2G6"
      }
    },
    {
      "cell_type": "code",
      "source": [
        "set1 = {20, 3, 5, 10, 9, 30, -5, 30}\n",
        "minimum = 9999999\n",
        "\n",
        "for i in set1:\n",
        "    if i <=minimum:\n",
        "        minimum = i\n",
        "\n",
        "print(\"El mínimo de {} es {}\".format(set1, minimum))"
      ],
      "metadata": {
        "colab": {
          "base_uri": "https://localhost:8080/"
        },
        "id": "GaMPfMq4R4WT",
        "outputId": "48c73c81-4230-4e77-a5e3-2a8b1ec31781"
      },
      "execution_count": 8,
      "outputs": [
        {
          "output_type": "stream",
          "name": "stdout",
          "text": [
            "El mínimo de {3, 5, 9, 10, 20, -5, 30} es -5\n"
          ]
        }
      ]
    },
    {
      "cell_type": "markdown",
      "source": [
        "## Ejercicio 3"
      ],
      "metadata": {
        "id": "pbO6wUBaRNmY"
      }
    },
    {
      "cell_type": "markdown",
      "source": [
        "Dada una frase introducida por teclado, guarda en un conjunto todas las palabras que empiecen por la letra\n",
        "indicada por el usuario."
      ],
      "metadata": {
        "id": "Sc7cC2g6R5fq"
      }
    },
    {
      "cell_type": "code",
      "source": [
        "str1 = input(\"Introduce una frase: \").lower()\n",
        "str1 = str1.split()\n",
        "letter = input(\"¿Qué letra eliges:? \").lower()\n",
        "set1 = set()\n",
        "\n",
        "for word in str1:\n",
        "    if word[0] == letter:\n",
        "        set1.add(word)\n",
        "print(set1)"
      ],
      "metadata": {
        "colab": {
          "base_uri": "https://localhost:8080/"
        },
        "id": "h2CKRKyySDny",
        "outputId": "749f7c54-c94d-4c72-eec5-8ee7b222fc82"
      },
      "execution_count": 2,
      "outputs": [
        {
          "output_type": "stream",
          "name": "stdout",
          "text": [
            "Introduce una frase: El perro de San Roque no tiene rabo\n",
            "¿Qué letra eliges:? R\n",
            "{'roque', 'rabo'}\n"
          ]
        }
      ]
    },
    {
      "cell_type": "markdown",
      "source": [
        "## Ejercicio 4"
      ],
      "metadata": {
        "id": "rOfH5ydcRPMI"
      }
    },
    {
      "cell_type": "markdown",
      "source": [
        "Dado un conjunto, crea un programa que nos devuelva el caracter con mayor valor ASCII. Debes hacerlo sin\n",
        "recurrir a la función max()."
      ],
      "metadata": {
        "id": "4AoQzLjsSGBA"
      }
    },
    {
      "cell_type": "code",
      "source": [
        "set2 = {\"A\", 5, \"*\", \"W\", \"/\", \"?\", 9, \"q\"}\n",
        "maximum = -999999\n",
        "\n",
        "for x in set2:\n",
        "    if ord(str(x)) > maximum:\n",
        "        maximum = ord(str(x))\n",
        "\n",
        "print(\"El máximo de {} es {} con valor {}\".format(set1, chr(maximum), maximum))"
      ],
      "metadata": {
        "colab": {
          "base_uri": "https://localhost:8080/"
        },
        "id": "XhNYcD2RSH29",
        "outputId": "ce20270d-a90d-4889-992a-0e8793afd109"
      },
      "execution_count": 33,
      "outputs": [
        {
          "output_type": "stream",
          "name": "stdout",
          "text": [
            "El máximo de {5, 'q', 9, 'A', 'W', '*', '?', -7, '/', 'u'} es q con valor 113\n"
          ]
        }
      ]
    },
    {
      "cell_type": "markdown",
      "source": [
        "## Ejercicio 5"
      ],
      "metadata": {
        "id": "DJ5D4XbgRQRH"
      }
    },
    {
      "cell_type": "markdown",
      "source": [
        "Dado un conjunto, crea un programa que nos devuelva el caracter con menor valor ASCII. Debes hacerlo sin\n",
        "recurrir a la función min().\n"
      ],
      "metadata": {
        "id": "IjfCPB8nSK4T"
      }
    },
    {
      "cell_type": "code",
      "source": [
        "set2 = {\"A\", 5, \"*\", \"W\", \"/\", \"?\", 9, \"q\"}\n",
        "minimum = 999999\n",
        "\n",
        "for x in set2:\n",
        "    if ord(str(x)) < minimum:\n",
        "        minimum = ord(str(x))\n",
        "\n",
        "print(\"El mínimo de {} es {} con valor {}\".format(set1, chr(minimum), minimum))"
      ],
      "metadata": {
        "colab": {
          "base_uri": "https://localhost:8080/"
        },
        "id": "cDHQQqrwSLha",
        "outputId": "2ebb5442-f23a-4150-9fbf-8409d741a600"
      },
      "execution_count": 34,
      "outputs": [
        {
          "output_type": "stream",
          "name": "stdout",
          "text": [
            "El mínimo de {5, 'q', 9, 'A', 'W', '*', '?', -7, '/', 'u'} es * con valor 42\n"
          ]
        }
      ]
    },
    {
      "cell_type": "markdown",
      "source": [
        "## Ejercicio 6"
      ],
      "metadata": {
        "id": "oml6Lz5cRRTI"
      }
    },
    {
      "cell_type": "markdown",
      "source": [
        "Dada una frase introducida por teclado, guarda en un conjunto todas las palabras que contengan la letra\n",
        "indicada por el usuario."
      ],
      "metadata": {
        "id": "fHikzo0eSObD"
      }
    },
    {
      "cell_type": "code",
      "source": [
        "str1 = input(\"Introduce una frase: \").lower()\n",
        "str1 = str1.split()\n",
        "letter = input(\"¿Qué letra eliges:? \").lower()\n",
        "set1= set()\n",
        "for word in str1:\n",
        "    if word.find(letter) != -1:\n",
        "        set1.add(word)\n",
        "\n",
        "print(set1)\n"
      ],
      "metadata": {
        "colab": {
          "base_uri": "https://localhost:8080/"
        },
        "id": "YeQe0ShNSPRz",
        "outputId": "72915029-c6a7-4bc1-d387-d8686bdade51"
      },
      "execution_count": 36,
      "outputs": [
        {
          "output_type": "stream",
          "name": "stdout",
          "text": [
            "Introduce una frase: El perro de San Roque no tiene rabo\n",
            "¿Qué letra eliges:? o\n",
            "{'no', 'roque', 'perro', 'rabo'}\n"
          ]
        }
      ]
    },
    {
      "cell_type": "markdown",
      "source": [
        "## Ejercicio 7"
      ],
      "metadata": {
        "id": "mzHy02c2RTMQ"
      }
    },
    {
      "cell_type": "markdown",
      "source": [
        "Dada una frase introducida por teclado, guarda en un conjunto la primera letra de cada palabra sin hacer\n",
        "uso del método .split().\n"
      ],
      "metadata": {
        "id": "-T2Hr6PxSYn1"
      }
    },
    {
      "cell_type": "code",
      "source": [
        "str1 = input(\"Introduce una frase: \").title()\n",
        "set1= set()\n",
        "\n",
        "for x in str1:\n",
        "    if x.isupper():\n",
        "        set1.add(x)\n",
        "print(set1)"
      ],
      "metadata": {
        "colab": {
          "base_uri": "https://localhost:8080/"
        },
        "id": "CxsLHbTmSagu",
        "outputId": "d2632c7b-b4b3-49d5-c25e-95e5bdeaba9e"
      },
      "execution_count": 37,
      "outputs": [
        {
          "output_type": "stream",
          "name": "stdout",
          "text": [
            "Introduce una frase: El perro de San Roque no tiene Rabo\n",
            "{'D', 'S', 'E', 'P', 'T', 'N', 'R'}\n"
          ]
        }
      ]
    },
    {
      "cell_type": "markdown",
      "source": [
        "## Ejercicio 8"
      ],
      "metadata": {
        "id": "shgx0VYqRURh"
      }
    },
    {
      "cell_type": "markdown",
      "source": [
        "Dada una frase introducida por teclado, guarda en un conjunto todas las palabras con longitud par."
      ],
      "metadata": {
        "id": "pUkp0OOGScfS"
      }
    },
    {
      "cell_type": "code",
      "source": [
        "str1 = input(\"Introduce una frase: \").lower()\n",
        "str1 = str1.split()\n",
        "set1 = set()\n",
        "for word in str1:\n",
        "    if len(word) % 2 == 0:\n",
        "        set1.add(word)\n",
        "\n",
        "print(set1)\n"
      ],
      "metadata": {
        "colab": {
          "base_uri": "https://localhost:8080/"
        },
        "id": "9Cr9chKcSdYA",
        "outputId": "a2355e0e-8c1f-479e-e47b-31c3acd7f008"
      },
      "execution_count": 40,
      "outputs": [
        {
          "output_type": "stream",
          "name": "stdout",
          "text": [
            "Introduce una frase: En esta frase qué palabras son pares\n",
            "{'palabras', 'en', 'esta'}\n"
          ]
        }
      ]
    },
    {
      "cell_type": "markdown",
      "source": [
        "## Ejercicio 9"
      ],
      "metadata": {
        "id": "DubPYjb5RVX3"
      }
    },
    {
      "cell_type": "markdown",
      "source": [
        "Dada una frase introducida por teclado, guarda en un conjunto todas las palabras que acaben por la letra\n",
        "indicada por el usuario."
      ],
      "metadata": {
        "id": "u9rj0V7jSglE"
      }
    },
    {
      "cell_type": "code",
      "source": [
        "str1 = input(\"Introduce una frase: \").lower()\n",
        "str1 = str1.split()\n",
        "letter = input(\"¿Qué letra eliges:? \").lower()\n",
        "set1 = set()\n",
        "\n",
        "for word in str1:\n",
        "    if word[-1] == letter:\n",
        "        set1.add(word)\n",
        "print(set1)"
      ],
      "metadata": {
        "colab": {
          "base_uri": "https://localhost:8080/"
        },
        "id": "6NNQvI0lShdz",
        "outputId": "bb5180f5-6cf8-43da-bd8d-8843686f52dd"
      },
      "execution_count": 41,
      "outputs": [
        {
          "output_type": "stream",
          "name": "stdout",
          "text": [
            "Introduce una frase: El perro de San Roque no tiene rabo\n",
            "¿Qué letra eliges:? E\n",
            "{'de', 'roque', 'tiene'}\n"
          ]
        }
      ]
    },
    {
      "cell_type": "markdown",
      "source": [
        "## Ejercicio 10"
      ],
      "metadata": {
        "id": "1dUelp6_RWcm"
      }
    },
    {
      "cell_type": "markdown",
      "source": [
        "Dada una frase introducida por teclado, guarda en un conjunto todas las palabras palíndromas."
      ],
      "metadata": {
        "id": "y3dG9UDySi_n"
      }
    },
    {
      "cell_type": "code",
      "source": [
        "str1 = input(\"Ingrese una frase: \").lower()\n",
        "palindroms = set()\n",
        "str1 = str1.split()\n",
        "\n",
        "def esPalindromo(str1):\n",
        "    return str1 == str1[::-1]\n",
        "\n",
        "for word in str1:\n",
        "    if esPalindromo(word) == True:\n",
        "        palindroms.add(word)\n",
        "\n",
        "print(palindroms)"
      ],
      "metadata": {
        "colab": {
          "base_uri": "https://localhost:8080/"
        },
        "id": "qhU9uCawSjiH",
        "outputId": "512dfae5-65e1-427b-f93f-128334bb2267"
      },
      "execution_count": 42,
      "outputs": [
        {
          "output_type": "stream",
          "name": "stdout",
          "text": [
            "Ingrese una frase: El oro del oso es de Ana\n",
            "{'ana', 'oso', 'oro'}\n"
          ]
        }
      ]
    }
  ]
}