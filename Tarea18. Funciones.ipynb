{
  "nbformat": 4,
  "nbformat_minor": 0,
  "metadata": {
    "colab": {
      "name": "Untitled11.ipynb",
      "provenance": [],
      "authorship_tag": "ABX9TyMMBsjw4QI3wSPqMX84/kot",
      "include_colab_link": true
    },
    "kernelspec": {
      "name": "python3",
      "display_name": "Python 3"
    },
    "language_info": {
      "name": "python"
    }
  },
  "cells": [
    {
      "cell_type": "markdown",
      "metadata": {
        "id": "view-in-github",
        "colab_type": "text"
      },
      "source": [
        "<a href=\"https://colab.research.google.com/github/nholea/Curso-Python3/blob/main/Tarea18.%20Funciones.ipynb\" target=\"_parent\"><img src=\"https://colab.research.google.com/assets/colab-badge.svg\" alt=\"Open In Colab\"/></a>"
      ]
    },
    {
      "cell_type": "markdown",
      "source": [
        "# Tarea 9 - Funciones"
      ],
      "metadata": {
        "id": "83CCQ11sQ1Vy"
      }
    },
    {
      "cell_type": "markdown",
      "source": [
        "## Ejercicio 1\n"
      ],
      "metadata": {
        "id": "f_h2v0lnRBTP"
      }
    },
    {
      "cell_type": "markdown",
      "source": [
        "Crea una función que busque todos los divisores del número entero positivo dado por parámetro y devuelva\n",
        "una lista con todos los divisores de dicho número."
      ],
      "metadata": {
        "id": "_wCDKlfYRcMN"
      }
    },
    {
      "cell_type": "code",
      "source": [
        "def divisores(n):\n",
        "    divisores = []\n",
        "    if n > 0 and type(n) == int:\n",
        "        for i in range(1,n+1):\n",
        "            if n % i == 0:\n",
        "                divisores.append(i)\n",
        "        return divisores\n",
        "    else:\n",
        "        print(\"El número introducido debe ser un número entero positivo\")"
      ],
      "metadata": {
        "id": "6fdhoGKWRfO4"
      },
      "execution_count": null,
      "outputs": []
    },
    {
      "cell_type": "code",
      "source": [
        "print(divisores(20))\n",
        "print(divisores(-1))"
      ],
      "metadata": {
        "colab": {
          "base_uri": "https://localhost:8080/"
        },
        "id": "R-OohKob78zz",
        "outputId": "6b1543be-7c50-4c5f-b435-bd2362d3162c"
      },
      "execution_count": null,
      "outputs": [
        {
          "output_type": "stream",
          "name": "stdout",
          "text": [
            "[1, 2, 4, 5, 10, 20]\n",
            "El número introducido debe ser un número entero positivo\n",
            "None\n"
          ]
        }
      ]
    },
    {
      "cell_type": "markdown",
      "source": [
        "## Ejercicio 2\n"
      ],
      "metadata": {
        "id": "-oCarPsfRGgw"
      }
    },
    {
      "cell_type": "markdown",
      "source": [
        "Crea una función que dados dos números reales por parámetro, devuelve el mayor."
      ],
      "metadata": {
        "id": "tEG8nVbzR2G6"
      }
    },
    {
      "cell_type": "code",
      "source": [
        "def num_mayor(x,y):\n",
        "    if x >= y:\n",
        "        return x\n",
        "    return y"
      ],
      "metadata": {
        "id": "GaMPfMq4R4WT"
      },
      "execution_count": 1,
      "outputs": []
    },
    {
      "cell_type": "code",
      "source": [
        "num_mayor(369,8465)"
      ],
      "metadata": {
        "colab": {
          "base_uri": "https://localhost:8080/"
        },
        "id": "94ePBwSI9q3h",
        "outputId": "f762eeed-4195-4c87-b8f9-ffbb2b984b4a"
      },
      "execution_count": null,
      "outputs": [
        {
          "output_type": "execute_result",
          "data": {
            "text/plain": [
              "8465"
            ]
          },
          "metadata": {},
          "execution_count": 13
        }
      ]
    },
    {
      "cell_type": "markdown",
      "source": [
        "## Ejercicio 3"
      ],
      "metadata": {
        "id": "pbO6wUBaRNmY"
      }
    },
    {
      "cell_type": "markdown",
      "source": [
        "Crea una función que dado un número devuelva su valor absoluto. Recuerda,"
      ],
      "metadata": {
        "id": "Sc7cC2g6R5fq"
      }
    },
    {
      "cell_type": "code",
      "source": [
        "def valor_absoluto(n):\n",
        "    if n >=0:\n",
        "        return n\n",
        "    return -n"
      ],
      "metadata": {
        "id": "h2CKRKyySDny"
      },
      "execution_count": 4,
      "outputs": []
    },
    {
      "cell_type": "code",
      "source": [
        "valor_absoluto(-5)"
      ],
      "metadata": {
        "colab": {
          "base_uri": "https://localhost:8080/"
        },
        "id": "TmztfimV-UXh",
        "outputId": "bb19a215-1318-4968-e309-ce4473e75de5"
      },
      "execution_count": null,
      "outputs": [
        {
          "output_type": "execute_result",
          "data": {
            "text/plain": [
              "5"
            ]
          },
          "metadata": {},
          "execution_count": 15
        }
      ]
    },
    {
      "cell_type": "code",
      "source": [
        "valor_absoluto(25)"
      ],
      "metadata": {
        "colab": {
          "base_uri": "https://localhost:8080/"
        },
        "id": "dPPj8hTZ-Wdz",
        "outputId": "09724c37-e23f-4c36-a0b1-d4c96b9469ef"
      },
      "execution_count": null,
      "outputs": [
        {
          "output_type": "execute_result",
          "data": {
            "text/plain": [
              "25"
            ]
          },
          "metadata": {},
          "execution_count": 16
        }
      ]
    },
    {
      "cell_type": "markdown",
      "source": [
        "## Ejercicio 4"
      ],
      "metadata": {
        "id": "rOfH5ydcRPMI"
      }
    },
    {
      "cell_type": "markdown",
      "source": [
        "Crea una función que devuelva True si el caracter introducido por parámetro se trata de una vocal y False\n",
        "en caso contrario."
      ],
      "metadata": {
        "id": "4AoQzLjsSGBA"
      }
    },
    {
      "cell_type": "code",
      "source": [
        "def es_vocal(x):\n",
        "    if x.lower() in \"aeiouáéíóú\":\n",
        "        return True\n",
        "    return False"
      ],
      "metadata": {
        "id": "XhNYcD2RSH29"
      },
      "execution_count": null,
      "outputs": []
    },
    {
      "cell_type": "code",
      "source": [
        "es_vocal(\"E\")"
      ],
      "metadata": {
        "colab": {
          "base_uri": "https://localhost:8080/"
        },
        "id": "-f1VPl5Z-2EY",
        "outputId": "546a8537-2b98-45dd-efc6-3e1dfb25bebc"
      },
      "execution_count": null,
      "outputs": [
        {
          "output_type": "execute_result",
          "data": {
            "text/plain": [
              "True"
            ]
          },
          "metadata": {},
          "execution_count": 21
        }
      ]
    },
    {
      "cell_type": "code",
      "source": [
        "es_vocal(\"Í\")"
      ],
      "metadata": {
        "colab": {
          "base_uri": "https://localhost:8080/"
        },
        "id": "2buM_AGK_Ghv",
        "outputId": "b9e887ef-dd3f-47c4-a548-e4195d0a9541"
      },
      "execution_count": null,
      "outputs": [
        {
          "output_type": "execute_result",
          "data": {
            "text/plain": [
              "True"
            ]
          },
          "metadata": {},
          "execution_count": 24
        }
      ]
    },
    {
      "cell_type": "code",
      "source": [
        "es_vocal(\"B\")"
      ],
      "metadata": {
        "colab": {
          "base_uri": "https://localhost:8080/"
        },
        "id": "n2v5JxmX-9_y",
        "outputId": "ca2ecf9d-f637-4fa7-f3b3-e44051c1de4f"
      },
      "execution_count": null,
      "outputs": [
        {
          "output_type": "execute_result",
          "data": {
            "text/plain": [
              "False"
            ]
          },
          "metadata": {},
          "execution_count": 22
        }
      ]
    },
    {
      "cell_type": "markdown",
      "source": [
        "## Ejercicio 5"
      ],
      "metadata": {
        "id": "DJ5D4XbgRQRH"
      }
    },
    {
      "cell_type": "markdown",
      "source": [
        "Crea una función que devuelva el MCD (máximo común divisor) de 2 números proporcionados por parámetro.\n",
        "PISTA: Aprovecha la función que calcula el mayor entre dos números dados. También necesitarás una función\n",
        "que calcula el menor entre dos números dados."
      ],
      "metadata": {
        "id": "IjfCPB8nSK4T"
      }
    },
    {
      "cell_type": "code",
      "source": [
        "def num_menor(a,b):\n",
        "    if a<=b:\n",
        "        return a\n",
        "    return b\n",
        "\n",
        "def MCD(a,b):\n",
        "    r = 0\n",
        "    min = num_menor(a,b)\n",
        "    max = num_mayor(a,b)\n",
        "    while (min > 0):\n",
        "        r = min\n",
        "        min = max % min\n",
        "        max = r\n",
        "    return max\n",
        "\n"
      ],
      "metadata": {
        "id": "cDHQQqrwSLha"
      },
      "execution_count": 9,
      "outputs": []
    },
    {
      "cell_type": "code",
      "source": [
        "MCD(15,5)"
      ],
      "metadata": {
        "colab": {
          "base_uri": "https://localhost:8080/"
        },
        "id": "xoMCVlRVuRJX",
        "outputId": "2764d220-f633-4658-8fba-7c7c43c751c8"
      },
      "execution_count": 10,
      "outputs": [
        {
          "output_type": "execute_result",
          "data": {
            "text/plain": [
              "5"
            ]
          },
          "metadata": {},
          "execution_count": 10
        }
      ]
    },
    {
      "cell_type": "markdown",
      "source": [
        "## Ejercicio 6"
      ],
      "metadata": {
        "id": "oml6Lz5cRRTI"
      }
    },
    {
      "cell_type": "markdown",
      "source": [
        "Crea una función que devuelva el MCM (mínimo común múltiplo) de 2 números proporcionados por\n",
        "parámetro.\n",
        "PISTA: Aprovecha la función que calcula el MCD de dos números del ejercicio anterior y la función que\n",
        "calcula el valor absoluto de un número."
      ],
      "metadata": {
        "id": "fHikzo0eSObD"
      }
    },
    {
      "cell_type": "code",
      "source": [
        "def MCM(a,b):\n",
        "    return valor_absoluto(a * b) // MCD(a,b)"
      ],
      "metadata": {
        "id": "YeQe0ShNSPRz"
      },
      "execution_count": 11,
      "outputs": []
    },
    {
      "cell_type": "code",
      "source": [
        "MCM(10,20)"
      ],
      "metadata": {
        "colab": {
          "base_uri": "https://localhost:8080/"
        },
        "id": "uGts_ficuoZq",
        "outputId": "25c24125-1b5c-41bc-9976-486244600c33"
      },
      "execution_count": 12,
      "outputs": [
        {
          "output_type": "execute_result",
          "data": {
            "text/plain": [
              "20"
            ]
          },
          "metadata": {},
          "execution_count": 12
        }
      ]
    },
    {
      "cell_type": "markdown",
      "source": [
        "## Ejercicio 7"
      ],
      "metadata": {
        "id": "mzHy02c2RTMQ"
      }
    },
    {
      "cell_type": "markdown",
      "source": [
        "Crea una función que dada una palabra devuelva si es palíndroma."
      ],
      "metadata": {
        "id": "-T2Hr6PxSYn1"
      }
    },
    {
      "cell_type": "code",
      "source": [
        "def es_palindroma(word):\n",
        "    word = word.lower()\n",
        "    es_palindromo = True\n",
        "    if str(word) == str(word)[::-1] :\n",
        "        es_palindromo\n",
        "    else:\n",
        "        es_palindromo = False\n",
        "    return es_palindromo"
      ],
      "metadata": {
        "id": "CxsLHbTmSagu"
      },
      "execution_count": 54,
      "outputs": []
    },
    {
      "cell_type": "code",
      "source": [
        "es_palindroma(\"Oro\")\n"
      ],
      "metadata": {
        "colab": {
          "base_uri": "https://localhost:8080/"
        },
        "id": "aZubmcTwvuXG",
        "outputId": "45a8e3dd-1c31-48de-8fe9-78e1cb6f5275"
      },
      "execution_count": 55,
      "outputs": [
        {
          "output_type": "execute_result",
          "data": {
            "text/plain": [
              "True"
            ]
          },
          "metadata": {},
          "execution_count": 55
        }
      ]
    },
    {
      "cell_type": "code",
      "source": [
        "es_palindroma(\"Ventana\")\n"
      ],
      "metadata": {
        "colab": {
          "base_uri": "https://localhost:8080/"
        },
        "id": "ChAHJeRd03dq",
        "outputId": "c6706246-4416-407b-e16a-2f758eee7350"
      },
      "execution_count": 56,
      "outputs": [
        {
          "output_type": "execute_result",
          "data": {
            "text/plain": [
              "False"
            ]
          },
          "metadata": {},
          "execution_count": 56
        }
      ]
    },
    {
      "cell_type": "markdown",
      "source": [
        "## Ejercicio 8"
      ],
      "metadata": {
        "id": "shgx0VYqRURh"
      }
    },
    {
      "cell_type": "markdown",
      "source": [
        "Crea una función que dado un color en hexadecimal devuelva una lista de 3 posiciones, cada una de ellas\n",
        "correspondiente al valor R, G o B en este orden. Los valores de RGB varían entre 0 y 255."
      ],
      "metadata": {
        "id": "pUkp0OOGScfS"
      }
    },
    {
      "cell_type": "code",
      "source": [
        "def RGB_color(color):\n",
        "    color = color.lstrip('#')\n",
        "    return list(int(color[i:i+2], 16) for i in (0, 2, 4))"
      ],
      "metadata": {
        "id": "9Cr9chKcSdYA"
      },
      "execution_count": 60,
      "outputs": []
    },
    {
      "cell_type": "code",
      "source": [
        "RGB_color(\"#ff6600\")"
      ],
      "metadata": {
        "colab": {
          "base_uri": "https://localhost:8080/"
        },
        "id": "8FNE7o5j3jlA",
        "outputId": "565db1f6-81dd-4905-9d17-d86c04c51ae6"
      },
      "execution_count": 61,
      "outputs": [
        {
          "output_type": "execute_result",
          "data": {
            "text/plain": [
              "[255, 102, 0]"
            ]
          },
          "metadata": {},
          "execution_count": 61
        }
      ]
    },
    {
      "cell_type": "markdown",
      "source": [
        "## Ejercicio 9"
      ],
      "metadata": {
        "id": "DubPYjb5RVX3"
      }
    },
    {
      "cell_type": "markdown",
      "source": [
        "Crea una función que dada una lista de palabras por parámetro, devuelva un diccionario que contenga\n",
        "cuántas son de longitud par y cuántas de longitud impar."
      ],
      "metadata": {
        "id": "u9rj0V7jSglE"
      }
    },
    {
      "cell_type": "code",
      "source": [
        "def even_odd(words):\n",
        "    words = words.lower()\n",
        "    words = words.split()\n",
        "    dicc = {\"even\":0, \"odd\":0}\n",
        "    for i in words:\n",
        "        if len(i) % 2 == 0:\n",
        "            dicc[\"even\"] += 1\n",
        "        else:\n",
        "            dicc[\"odd\"] +=1\n",
        "    return dicc"
      ],
      "metadata": {
        "id": "6NNQvI0lShdz"
      },
      "execution_count": 75,
      "outputs": []
    },
    {
      "cell_type": "code",
      "source": [
        "even_odd(\"Adán no cede con Eva y Yavé no cede con nada\")"
      ],
      "metadata": {
        "colab": {
          "base_uri": "https://localhost:8080/"
        },
        "id": "Za3y8qCA4tuZ",
        "outputId": "73d7cf89-c4ea-4484-ba66-21f5491a6a59"
      },
      "execution_count": 76,
      "outputs": [
        {
          "output_type": "execute_result",
          "data": {
            "text/plain": [
              "{'even': 7, 'odd': 4}"
            ]
          },
          "metadata": {},
          "execution_count": 76
        }
      ]
    },
    {
      "cell_type": "markdown",
      "source": [
        "## Ejercicio 10"
      ],
      "metadata": {
        "id": "1dUelp6_RWcm"
      }
    },
    {
      "cell_type": "markdown",
      "source": [
        "Crea una función que dado un string por parámetro cuente cuántas veces sale cada caracter en dicho string\n",
        "y devuelva toda esa información en un diccionario."
      ],
      "metadata": {
        "id": "y3dG9UDySi_n"
      }
    },
    {
      "cell_type": "code",
      "source": [
        "def contador_letras(sentence):\n",
        "    sentence = sentence.lower()\n",
        "    dicc = {}\n",
        "    for i in sentence:\n",
        "        if i == \" \":\n",
        "            if \"espacio\" not in dicc.keys():\n",
        "                dicc[\"espacio\"] = sentence.count(i)\n",
        "        elif i not in dicc.keys():\n",
        "            dicc[i] = sentence.count(i)\n",
        "    return dicc\n"
      ],
      "metadata": {
        "id": "qhU9uCawSjiH"
      },
      "execution_count": 78,
      "outputs": []
    },
    {
      "cell_type": "code",
      "source": [
        "contador_letras(\"A mamá, Roma le aviva el amor a papá, y a papá, Roma le aviva el amor a mamá.\")"
      ],
      "metadata": {
        "colab": {
          "base_uri": "https://localhost:8080/"
        },
        "id": "zNlrVc-Z7cX8",
        "outputId": "4d4a6de7-bd2a-4a40-eb5d-5fee43ca7cee"
      },
      "execution_count": 79,
      "outputs": [
        {
          "output_type": "execute_result",
          "data": {
            "text/plain": [
              "{',': 3,\n",
              " '.': 1,\n",
              " 'a': 16,\n",
              " 'e': 4,\n",
              " 'espacio': 18,\n",
              " 'i': 2,\n",
              " 'l': 4,\n",
              " 'm': 8,\n",
              " 'o': 4,\n",
              " 'p': 4,\n",
              " 'r': 4,\n",
              " 'v': 4,\n",
              " 'y': 1,\n",
              " 'á': 4}"
            ]
          },
          "metadata": {},
          "execution_count": 79
        }
      ]
    }
  ]
}