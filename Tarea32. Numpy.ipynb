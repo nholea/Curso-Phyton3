{
  "nbformat": 4,
  "nbformat_minor": 0,
  "metadata": {
    "colab": {
      "name": "Untitled11.ipynb",
      "provenance": [],
      "authorship_tag": "ABX9TyN7IT9uINohaRtO2W6yRSuA",
      "include_colab_link": true
    },
    "kernelspec": {
      "name": "python3",
      "display_name": "Python 3"
    },
    "language_info": {
      "name": "python"
    }
  },
  "cells": [
    {
      "cell_type": "markdown",
      "metadata": {
        "id": "view-in-github",
        "colab_type": "text"
      },
      "source": [
        "<a href=\"https://colab.research.google.com/github/nholea/Curso-Python3/blob/main/Tarea32.%20Numpy.ipynb\" target=\"_parent\"><img src=\"https://colab.research.google.com/assets/colab-badge.svg\" alt=\"Open In Colab\"/></a>"
      ]
    },
    {
      "cell_type": "markdown",
      "source": [
        "# Tarea 15 - Módulos de Python: numpy"
      ],
      "metadata": {
        "id": "83CCQ11sQ1Vy"
      }
    },
    {
      "cell_type": "markdown",
      "source": [
        "## Ejercicio 1\n"
      ],
      "metadata": {
        "id": "f_h2v0lnRBTP"
      }
    },
    {
      "cell_type": "markdown",
      "source": [
        "Crea un array unidimensional de 9 elementos y transfórmalo en un array 3D. Muestra la dimensión y la\n",
        "shape antes y después del reshape."
      ],
      "metadata": {
        "id": "_wCDKlfYRcMN"
      }
    },
    {
      "cell_type": "code",
      "source": [
        "import numpy as np"
      ],
      "metadata": {
        "id": "A-NmkyHr-Bgh"
      },
      "execution_count": 1,
      "outputs": []
    },
    {
      "cell_type": "code",
      "source": [
        "d1 = np.array([1, 2, 3, 4, 5, 6, 7, 8, 9])\n",
        "print(\"d1 =\", d1)\n",
        "print(\"Dimensión:\", d1.ndim)\n",
        "print(\"Shape:\", d1.shape)\n",
        "\n",
        "d3 = d1.reshape(3,1,3)\n",
        "print(\"d3 =\", d3)\n",
        "print(\"Dimensión:\", d3.ndim)\n",
        "print(\"Shape:\", d3.shape)\n"
      ],
      "metadata": {
        "colab": {
          "base_uri": "https://localhost:8080/"
        },
        "id": "1Gx8D4XQ9Fq7",
        "outputId": "9c055fb5-43d6-4a9f-b74c-9208122573bc"
      },
      "execution_count": 9,
      "outputs": [
        {
          "output_type": "stream",
          "name": "stdout",
          "text": [
            "d1 = [1 2 3 4 5 6 7 8 9]\n",
            "Dimensión: 1\n",
            "Shape: (9,)\n",
            "d3 = [[[1 2 3]]\n",
            "\n",
            " [[4 5 6]]\n",
            "\n",
            " [[7 8 9]]]\n",
            "Dimensión: 3\n",
            "Shape: (3, 1, 3)\n"
          ]
        }
      ]
    },
    {
      "cell_type": "markdown",
      "source": [
        "## Ejercicio 2\n"
      ],
      "metadata": {
        "id": "-oCarPsfRGgw"
      }
    },
    {
      "cell_type": "markdown",
      "source": [
        "Dados los arrays 2D [[-6, -5], [-4, -3], [-2, -1]] y [[1, 2], [3, 4], [5, 6]], concaténalos de\n",
        "modo que obtengas el array [[1, 2, -6, -5], [3, 4, -4, -3] [5, 6, -2, -1]]."
      ],
      "metadata": {
        "id": "tEG8nVbzR2G6"
      }
    },
    {
      "cell_type": "code",
      "source": [
        "x = np.array([[-6, -5], [-4, -3], [-2, -1]])\n",
        "y = np.array( [[1, 2], [3, 4], [5, 6]])\n",
        "\n",
        "xy = np.concatenate((y,x), axis=1)\n",
        "print(\"Array resultado:\\n\", xy)\n"
      ],
      "metadata": {
        "id": "du5s4k6YAcBv",
        "colab": {
          "base_uri": "https://localhost:8080/"
        },
        "outputId": "cf8fc6b9-a2e0-4e4d-d600-297b12bb79cc"
      },
      "execution_count": 14,
      "outputs": [
        {
          "output_type": "stream",
          "name": "stdout",
          "text": [
            "Array resultado:\n",
            " [[ 1  2 -6 -5]\n",
            " [ 3  4 -4 -3]\n",
            " [ 5  6 -2 -1]]\n"
          ]
        }
      ]
    },
    {
      "cell_type": "markdown",
      "source": [
        "## Ejercicio 3"
      ],
      "metadata": {
        "id": "pbO6wUBaRNmY"
      }
    },
    {
      "cell_type": "markdown",
      "source": [
        "Dado el array 2D [[1, 2, 3], [-1, 0, 1], [4, 5, 6], [-4, 0, 4], [3, 2, 1], [-3, 0, 3]], divídelo en 3 arrays 2D"
      ],
      "metadata": {
        "id": "Sc7cC2g6R5fq"
      }
    },
    {
      "cell_type": "code",
      "source": [
        "a = np.array([[1, 2, 3], [-1, 0, 1], [4, 5, 6], [-4, 0, 4], [3, 2, 1], [-3, 0, 3]])\n",
        "\n",
        "b1, b2, b3 = np.array_split(a, 3)\n",
        "print(\"Del array original a =\\n\", a)\n",
        "print(\"Dividiéndolo en 3 obtenemos:\")\n",
        "print(\"1º\\n\", b1)\n",
        "print(\"2º\\n\", b2)\n",
        "print(\"3º\\n\", b3)\n"
      ],
      "metadata": {
        "colab": {
          "base_uri": "https://localhost:8080/"
        },
        "id": "KqF3wR7dCRgU",
        "outputId": "a323a1bc-5e5c-49c9-8d75-a2af8c84f212"
      },
      "execution_count": 19,
      "outputs": [
        {
          "output_type": "stream",
          "name": "stdout",
          "text": [
            "Del array original a =\n",
            " [[ 1  2  3]\n",
            " [-1  0  1]\n",
            " [ 4  5  6]\n",
            " [-4  0  4]\n",
            " [ 3  2  1]\n",
            " [-3  0  3]]\n",
            "Dividiéndolo en 3 obtenemos:\n",
            "1º\n",
            " [[ 1  2  3]\n",
            " [-1  0  1]]\n",
            "2º\n",
            " [[ 4  5  6]\n",
            " [-4  0  4]]\n",
            "3º\n",
            " [[ 3  2  1]\n",
            " [-3  0  3]]\n"
          ]
        }
      ]
    },
    {
      "cell_type": "markdown",
      "source": [
        "## Ejercicio 4"
      ],
      "metadata": {
        "id": "rOfH5ydcRPMI"
      }
    },
    {
      "cell_type": "markdown",
      "source": [
        "Dado el array 2D [[\"ala\", \"delfín\", \"arroz\"], [\"cena\", \"kayak\", \"picnic\"], [\"hoja\", \"gato\",\n",
        "\"elle\"]], busca las palabras que sean palíndromos.\n",
        "PISTA: Necesitarás una función universal"
      ],
      "metadata": {
        "id": "4AoQzLjsSGBA"
      }
    },
    {
      "cell_type": "code",
      "source": [
        "a = np.array([[\"ala\", \"delfín\", \"arroz\"], [\"cena\", \"kayak\", \"picnic\"], [\"hoja\", \"gato\", \"elle\"]])\n",
        "\n",
        "def is_palind(word):\n",
        "    words = []\n",
        "    isPalind = True\n",
        "    for i in word.lower():\n",
        "        words.append(i)\n",
        "    n = len(words)\n",
        "    for i in range(int(n / 2)):\n",
        "        if words[i] != words[n - (i + 1)]:\n",
        "            isPalind = False\n",
        "    return isPalind\n",
        "\n",
        "is_palind = np.frompyfunc(is_palind, 1, 1)\n",
        "b = np.where(is_palind(a) == True)\n",
        "\n",
        "print(\"Las palabras palíndromas son: \")\n",
        "for i in range(len(b[0])):\n",
        "    print(a[b[0][i], b[1][i]])\n"
      ],
      "metadata": {
        "colab": {
          "base_uri": "https://localhost:8080/"
        },
        "id": "iTQD94bbDWua",
        "outputId": "006974d8-33be-49d8-9e6b-83b95d718794"
      },
      "execution_count": 22,
      "outputs": [
        {
          "output_type": "stream",
          "name": "stdout",
          "text": [
            "Las palabras palíndromas son: \n",
            "ala\n",
            "kayak\n",
            "elle\n"
          ]
        }
      ]
    },
    {
      "cell_type": "markdown",
      "source": [
        "## Ejercicio 5"
      ],
      "metadata": {
        "id": "DJ5D4XbgRQRH"
      }
    },
    {
      "cell_type": "markdown",
      "source": [
        "Dado el array 1D [\"cena\", \"frío\", \"kayak\", \"remo\", \"sol\"]], ¿qué índice deberá ocupar el elemento\n",
        "“python” para que se mantenga el orden alfabético?"
      ],
      "metadata": {
        "id": "IjfCPB8nSK4T"
      }
    },
    {
      "cell_type": "code",
      "source": [
        "a = np.array([\"cena\", \"frío\", \"kayak\", \"remo\", \"sol\"])\n",
        "b = np.searchsorted(a, \"python\")\n",
        "\n",
        "print(\"El elemento python deberá ocupar el índice\", b)\n",
        "\n"
      ],
      "metadata": {
        "colab": {
          "base_uri": "https://localhost:8080/"
        },
        "id": "Sj2M3qRwD0Ey",
        "outputId": "37578ea0-ae35-4fe3-c422-01cc34b58516"
      },
      "execution_count": 23,
      "outputs": [
        {
          "output_type": "stream",
          "name": "stdout",
          "text": [
            "El elemento python deberá ocupar el índice 3\n"
          ]
        }
      ]
    },
    {
      "cell_type": "markdown",
      "source": [
        "## Ejercicio 6"
      ],
      "metadata": {
        "id": "oml6Lz5cRRTI"
      }
    },
    {
      "cell_type": "markdown",
      "source": [
        "Crea un minijuego que piense un número aleatorio entre 1 y 10 y, hasta que no lo aciertes, te pida un número\n",
        "del 1 al 10. Cuando aciertes, tendrá que devolver el número de intentos y la frase: “¡¡¡ENHORABUENA!!!\n",
        "Has acertado el número que había pensado: el {}”. En caso de que falles, el juego deberá mostrar la frase\n",
        "“¡Has fallado! ¡Prueba otra vez!”\n"
      ],
      "metadata": {
        "id": "fHikzo0eSObD"
      }
    },
    {
      "cell_type": "code",
      "source": [
        "from numpy import random"
      ],
      "metadata": {
        "id": "1nhWDQ1ul26Q"
      },
      "execution_count": 25,
      "outputs": []
    },
    {
      "cell_type": "code",
      "source": [
        "rand_num = random.randint(1,10)\n",
        "\n",
        "print(\"Adivina el número aleatorio: \")\n",
        "num = int(input())\n",
        "count = 1\n",
        "\n",
        "while num != rand_num:\n",
        "    print(\"“¡Has fallado! ¡Prueba otra vez!”\")\n",
        "    num = int(input())\n",
        "    count += 1\n",
        "\n",
        "print(\"¡¡¡ENHORABUENA!!! Has acertado el número que había pensado: el {} y sólo te ha costado {} intentos\".format(rand_num, count))\n"
      ],
      "metadata": {
        "colab": {
          "base_uri": "https://localhost:8080/"
        },
        "id": "vgomwnsIEdf3",
        "outputId": "a9f91767-4359-4450-e64a-b4555c760dff"
      },
      "execution_count": 27,
      "outputs": [
        {
          "output_type": "stream",
          "name": "stdout",
          "text": [
            "Adivina el número aleatorio: \n",
            "4\n",
            "“¡Has fallado! ¡Prueba otra vez!”\n",
            "8\n",
            "“¡Has fallado! ¡Prueba otra vez!”\n",
            "6\n",
            "“¡Has fallado! ¡Prueba otra vez!”\n",
            "1\n",
            "“¡Has fallado! ¡Prueba otra vez!”\n",
            "2\n",
            "“¡Has fallado! ¡Prueba otra vez!”\n",
            "3\n",
            "¡¡¡ENHORABUENA!!! Has acertado el número que había pensado: el 3 y sólo te ha costado 6 intentos\n"
          ]
        }
      ]
    },
    {
      "cell_type": "markdown",
      "source": [
        "## Ejercicio 7"
      ],
      "metadata": {
        "id": "mzHy02c2RTMQ"
      }
    },
    {
      "cell_type": "markdown",
      "source": [
        "Crea un minijuego que piense un array 1D aleatorio de 5 elementos. Los elementos serán números enteros\n",
        "entre 1 y 20. Para cada intento, primero tendrá que pedir 5 números enteros del 1 al 20. El juego nos tendrá\n",
        "que decir cuántos números del array hemos acertado y cuántos números del array están bien colocados. El\n",
        "juego no termina hasta que no se hayan acertado todos los números pensados en la posición correspondiente.\n",
        "Al acabar, se tendrá que mostrar la frase: “¡¡¡ENHORABUENA!!! Has acertado el array que había pensado:\n",
        "{}”\n"
      ],
      "metadata": {
        "id": "-T2Hr6PxSYn1"
      }
    },
    {
      "cell_type": "code",
      "source": [
        "from numpy.lib.arraysetops import unique\n",
        "rand_array = random.randint(20, size=5)\n",
        "print(rand_array)\n",
        "value = 0\n",
        "position = 0\n",
        "\n",
        "while position !=5:\n",
        "    nums = []\n",
        "    value = 0\n",
        "    position = 0\n",
        "    for i in range(5):\n",
        "       num = int(input(\"Introduce el elemento en la posición {} \".format(i)))\n",
        "       nums.append(num)\n",
        "       if num in rand_array:\n",
        "           value +=1\n",
        "\n",
        "       if num == rand_array[i]:\n",
        "            position +=1\n",
        "\n",
        "    nums_np = np.array(nums)\n",
        "    unique_sol, count_sol = np.unique(nums_np, return_counts=True)\n",
        "    unique_nums, count_nums = np.unique(rand_array, return_counts=True)\n",
        "\n",
        "    for i in unique_sol:\n",
        "        if i in unique_nums:\n",
        "            idx_element = np.where(unique_sol == i)[0][0]\n",
        "            idx_nums = np.where(unique_nums == i)[0][0]\n",
        "            if count_sol[idx_element] > count_nums[idx_nums]:\n",
        "                value -= count_sol[idx_element] - count_nums[idx_nums]\n",
        "\n",
        "    print(\"Tu respuesta ha sido\", nums)\n",
        "    print(\"Has acertado\",  value, \"valores\")\n",
        "    print(\"Has acertado\", position, \"posiciones\")\n",
        "    nums.clear()\n",
        "\n",
        "print(\"¡¡¡ENHORABUENA!!! Has acertado el array que había pensado:\",rand_array)\n",
        "       \n",
        "        \n"
      ],
      "metadata": {
        "colab": {
          "base_uri": "https://localhost:8080/"
        },
        "id": "L_8k3zfzFPOD",
        "outputId": "6256cee1-9262-43e8-a72a-5ebbd6a1fcc8"
      },
      "execution_count": 36,
      "outputs": [
        {
          "output_type": "stream",
          "name": "stdout",
          "text": [
            "[ 5 17  8 14 16]\n",
            "Introduce el elemento en la posición 0 17\n",
            "Introduce el elemento en la posición 1 8\n",
            "Introduce el elemento en la posición 2 14\n",
            "Introduce el elemento en la posición 3 14\n",
            "Introduce el elemento en la posición 4 16\n",
            "Tu respuesta ha sido [17, 8, 14, 14, 16]\n",
            "Has acertado 4 valores\n",
            "Has acertado 2 posiciones\n",
            "Introduce el elemento en la posición 0 5\n",
            "Introduce el elemento en la posición 1 17\n",
            "Introduce el elemento en la posición 2 8\n",
            "Introduce el elemento en la posición 3 14\n",
            "Introduce el elemento en la posición 4 16\n",
            "Tu respuesta ha sido [5, 17, 8, 14, 16]\n",
            "Has acertado 5 valores\n",
            "Has acertado 5 posiciones\n",
            "¡¡¡ENHORABUENA!!! Has acertado el array que había pensado: [ 5 17  8 14 16]\n"
          ]
        }
      ]
    },
    {
      "cell_type": "markdown",
      "source": [
        "## Ejercicio 8"
      ],
      "metadata": {
        "id": "shgx0VYqRURh"
      }
    },
    {
      "cell_type": "markdown",
      "source": [
        "A partir de la lista [-3, -2, -1, 0, 1, 2, 3], genera dos arrays aleatorios 2D de size = (3, 4) y\n",
        "súmalos."
      ],
      "metadata": {
        "id": "pUkp0OOGScfS"
      }
    },
    {
      "cell_type": "code",
      "source": [
        "x = np.array([-3, -2, -1, 0, 1, 2, 3])\n",
        "\n",
        "x1 = random.choice(x, size= (3,4))\n",
        "x2 = random.choice(x, size= (3,4))\n",
        "\n",
        "result_sum = np.add(x1, x2)\n",
        "print(\"El resultado de sumar los arrays aleatorios:\\n {}\\n\\n {}\\n\\n es:\\n\\n {}\".format(x1, x2, result_sum))"
      ],
      "metadata": {
        "colab": {
          "base_uri": "https://localhost:8080/"
        },
        "id": "uokeA0UGGCNf",
        "outputId": "cf580e0e-243a-4980-923c-cf2c070053d3"
      },
      "execution_count": 48,
      "outputs": [
        {
          "output_type": "stream",
          "name": "stdout",
          "text": [
            "El resultado de sumar los arrays aleatorios:\n",
            " [[ 0  1  1  2]\n",
            " [-1  0 -3 -2]\n",
            " [ 0 -2  3 -2]]\n",
            "\n",
            " [[ 1 -3  0 -3]\n",
            " [-3  0  0  0]\n",
            " [ 2 -1 -2 -1]]\n",
            "\n",
            " es:\n",
            "\n",
            " [[ 1 -2  1 -1]\n",
            " [-4  0 -3 -2]\n",
            " [ 2 -3  1 -3]]\n"
          ]
        }
      ]
    },
    {
      "cell_type": "markdown",
      "source": [
        "## Ejercicio 9"
      ],
      "metadata": {
        "id": "DubPYjb5RVX3"
      }
    },
    {
      "cell_type": "markdown",
      "source": [
        "Crea una función universal que dado un array de strings devuelva el número total de vocales de cada string.\n"
      ],
      "metadata": {
        "id": "u9rj0V7jSglE"
      }
    },
    {
      "cell_type": "code",
      "source": [
        "def total_vowels(strings):\n",
        "    count = 0\n",
        "    for i in strings.lower():\n",
        "        if i in \"aeiou\":\n",
        "            count +=1\n",
        "    return count\n",
        "\n",
        "np_total_vowels = np.frompyfunc(total_vowels,1,1)\n",
        "\n",
        "\n",
        "\n",
        "\n"
      ],
      "metadata": {
        "id": "P8d0JfQ5Oz1b"
      },
      "execution_count": 57,
      "outputs": []
    },
    {
      "cell_type": "markdown",
      "source": [
        "## Ejercicio 10"
      ],
      "metadata": {
        "id": "1dUelp6_RWcm"
      }
    },
    {
      "cell_type": "markdown",
      "source": [
        "Crea una función universal que dados un array 1D de valores string y conjunto de strings, compruebe para\n",
        "cada elemento del array 1D, si está presente o no en el conjunto"
      ],
      "metadata": {
        "id": "y3dG9UDySi_n"
      }
    },
    {
      "cell_type": "code",
      "source": [
        "def is_in(string, set):\n",
        "    if string in set:\n",
        "        return True\n",
        "    return False\n",
        "\n",
        "np_is_in = np.frompyfunc(is_in,2,1)"
      ],
      "metadata": {
        "id": "I7L9se0YQ7PD"
      },
      "execution_count": 51,
      "outputs": []
    }
  ]
}