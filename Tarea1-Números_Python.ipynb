{
  "nbformat": 4,
  "nbformat_minor": 0,
  "metadata": {
    "colab": {
      "name": "Untitled0.ipynb",
      "provenance": [],
      "toc_visible": true,
      "authorship_tag": "ABX9TyNCZLnhlmvF+j99EXIVtXL4",
      "include_colab_link": true
    },
    "kernelspec": {
      "name": "python3",
      "display_name": "Python 3"
    },
    "language_info": {
      "name": "python"
    }
  },
  "cells": [
    {
      "cell_type": "markdown",
      "metadata": {
        "id": "view-in-github",
        "colab_type": "text"
      },
      "source": [
        "<a href=\"https://colab.research.google.com/github/nholea/Curso-Phyton3/blob/main/Tarea1-N%C3%BAmeros_Python.ipynb\" target=\"_parent\"><img src=\"https://colab.research.google.com/assets/colab-badge.svg\" alt=\"Open In Colab\"/></a>"
      ]
    },
    {
      "cell_type": "markdown",
      "metadata": {
        "id": "YDfi0vsUAjmn"
      },
      "source": [
        "# Tarea 1 - Números en Python \n",
        "\n"
      ]
    },
    {
      "cell_type": "markdown",
      "metadata": {
        "id": "HQEwnguECyGI"
      },
      "source": [
        "## Ejercicio 1\n"
      ]
    },
    {
      "cell_type": "markdown",
      "metadata": {
        "id": "Rbfrd5UlD6nY"
      },
      "source": [
        "Calcula la división entera de 45 entre 6"
      ]
    },
    {
      "cell_type": "code",
      "metadata": {
        "colab": {
          "base_uri": "https://localhost:8080/"
        },
        "id": "zyqL6tm0DAip",
        "outputId": "93a1ba18-2b36-46db-8996-766246d413f0"
      },
      "source": [
        "a = 45 // 6\n",
        "a"
      ],
      "execution_count": 21,
      "outputs": [
        {
          "output_type": "execute_result",
          "data": {
            "text/plain": [
              "7"
            ]
          },
          "metadata": {},
          "execution_count": 21
        }
      ]
    },
    {
      "cell_type": "markdown",
      "metadata": {
        "id": "ALCAM5F3DIsO"
      },
      "source": [
        "## Ejercicio 2 \n",
        "\n"
      ]
    },
    {
      "cell_type": "markdown",
      "metadata": {
        "id": "QDL4TfsWEVCR"
      },
      "source": [
        "Calcula el resto de la división entera de 45 entre 6"
      ]
    },
    {
      "cell_type": "code",
      "metadata": {
        "colab": {
          "base_uri": "https://localhost:8080/"
        },
        "id": "b7et63ftEaZB",
        "outputId": "63c1441a-1ae5-4129-aba3-2b909ef936be"
      },
      "source": [
        "b= 45 % 6\n",
        "b"
      ],
      "execution_count": 22,
      "outputs": [
        {
          "output_type": "execute_result",
          "data": {
            "text/plain": [
              "3"
            ]
          },
          "metadata": {},
          "execution_count": 22
        }
      ]
    },
    {
      "cell_type": "markdown",
      "metadata": {
        "id": "vdhMoqbuDSK0"
      },
      "source": [
        ""
      ]
    },
    {
      "cell_type": "markdown",
      "metadata": {
        "id": "q7gXKnhwDZRe"
      },
      "source": [
        "## Ejercicio 3 "
      ]
    },
    {
      "cell_type": "markdown",
      "metadata": {
        "id": "6yMALCppEpA0"
      },
      "source": [
        "Realiza la siguiente operación en Python, donde ÷ indica la división entera: 10 + 20 ÷ 7 − 2"
      ]
    },
    {
      "cell_type": "code",
      "metadata": {
        "colab": {
          "base_uri": "https://localhost:8080/"
        },
        "id": "ffW_5sTLEqjn",
        "outputId": "28195b5c-9ad4-4c5f-bdec-067b45a0e4fb"
      },
      "source": [
        "c = 10 + 20 // 7 - 2\n",
        "c"
      ],
      "execution_count": 24,
      "outputs": [
        {
          "output_type": "execute_result",
          "data": {
            "text/plain": [
              "10"
            ]
          },
          "metadata": {},
          "execution_count": 24
        }
      ]
    },
    {
      "cell_type": "markdown",
      "metadata": {
        "id": "DbmNnORtDduM"
      },
      "source": [
        ""
      ]
    },
    {
      "cell_type": "markdown",
      "metadata": {
        "id": "ZKSPBNrwDgdV"
      },
      "source": [
        "## Ejercicio 4"
      ]
    },
    {
      "cell_type": "markdown",
      "metadata": {
        "id": "eTPDZfENFDyI"
      },
      "source": [
        "Realiza la siguiente operación en Python:"
      ]
    },
    {
      "cell_type": "code",
      "metadata": {
        "colab": {
          "base_uri": "https://localhost:8080/"
        },
        "id": "XsizQG4XFmLH",
        "outputId": "3222de8c-2c0b-4d91-b499-f07058c2c331"
      },
      "source": [
        "d = (9 - (25 + 5 - 2 / 7 * 4)) / 2 ** 3\n",
        "d"
      ],
      "execution_count": 45,
      "outputs": [
        {
          "output_type": "execute_result",
          "data": {
            "text/plain": [
              "-2.482142857142857"
            ]
          },
          "metadata": {},
          "execution_count": 45
        }
      ]
    },
    {
      "cell_type": "markdown",
      "metadata": {
        "id": "OnIUInN5Dh34"
      },
      "source": [
        ""
      ]
    },
    {
      "cell_type": "markdown",
      "metadata": {
        "id": "cTBvQR7-Di_i"
      },
      "source": [
        "## Ejercicio 5"
      ]
    },
    {
      "cell_type": "markdown",
      "metadata": {
        "id": "TMyjQcabG9jy"
      },
      "source": [
        "Realiza la siguiente operación en Python:"
      ]
    },
    {
      "cell_type": "code",
      "metadata": {
        "colab": {
          "base_uri": "https://localhost:8080/"
        },
        "id": "smQUBfxWHDeI",
        "outputId": "a662df75-fa9b-4b70-b681-201ebb5c1ceb"
      },
      "source": [
        "e = (2 + 2 ** 3 - 2 * (2 - 2 ** 5) + 2 ** 2 * 2 + 2) / (2 * (2 * 2 - 2 ** 4) + 2 ** 2)\n",
        "e"
      ],
      "execution_count": 26,
      "outputs": [
        {
          "output_type": "execute_result",
          "data": {
            "text/plain": [
              "-4.0"
            ]
          },
          "metadata": {},
          "execution_count": 26
        }
      ]
    },
    {
      "cell_type": "markdown",
      "metadata": {
        "id": "eeukSbPvDkLs"
      },
      "source": [
        ""
      ]
    },
    {
      "cell_type": "markdown",
      "metadata": {
        "id": "sURh3LznDndl"
      },
      "source": [
        "## Ejercicio 6"
      ]
    },
    {
      "cell_type": "markdown",
      "metadata": {
        "id": "m2yz6jYhICzb"
      },
      "source": [
        "Realiza la siguiente operación en Python:"
      ]
    },
    {
      "cell_type": "code",
      "metadata": {
        "colab": {
          "base_uri": "https://localhost:8080/"
        },
        "id": "z4J3kIKdIDv3",
        "outputId": "ceff41e3-6088-4405-8cbb-64e59faeb407"
      },
      "source": [
        "f = 6j - (4+1j) * 2\n",
        "f"
      ],
      "execution_count": 31,
      "outputs": [
        {
          "output_type": "execute_result",
          "data": {
            "text/plain": [
              "(-8+4j)"
            ]
          },
          "metadata": {},
          "execution_count": 31
        }
      ]
    },
    {
      "cell_type": "markdown",
      "metadata": {
        "id": "hZ6MyM2ADo37"
      },
      "source": [
        ""
      ]
    },
    {
      "cell_type": "markdown",
      "metadata": {
        "id": "xPUS6hEjDp10"
      },
      "source": [
        "## Ejercicio 7"
      ]
    },
    {
      "cell_type": "markdown",
      "metadata": {
        "id": "tAuzHQ_iJOdm"
      },
      "source": [
        "Realiza la siguiente operación en Python:"
      ]
    },
    {
      "cell_type": "code",
      "metadata": {
        "colab": {
          "base_uri": "https://localhost:8080/"
        },
        "id": "-e0rooMlJPVu",
        "outputId": "164769f6-7db7-4444-f404-22949a532887"
      },
      "source": [
        "g = (1+1j) / (1-1j) + (2 / (-1+1j))\n",
        "g"
      ],
      "execution_count": 59,
      "outputs": [
        {
          "output_type": "execute_result",
          "data": {
            "text/plain": [
              "(-1+0j)"
            ]
          },
          "metadata": {},
          "execution_count": 59
        }
      ]
    },
    {
      "cell_type": "markdown",
      "metadata": {
        "id": "1ifp_7JFDrCc"
      },
      "source": [
        ""
      ]
    },
    {
      "cell_type": "markdown",
      "metadata": {
        "id": "ZhvzX6eUDs1c"
      },
      "source": [
        "## Ejercicio 8"
      ]
    },
    {
      "cell_type": "markdown",
      "metadata": {
        "id": "Xun8WGYEKAUk"
      },
      "source": [
        "Realiza la siguiente operación en Python:"
      ]
    },
    {
      "cell_type": "code",
      "metadata": {
        "colab": {
          "base_uri": "https://localhost:8080/"
        },
        "id": "fP9H6PSRKBEF",
        "outputId": "4f06393e-0f08-49b8-98db-0b56034321a2"
      },
      "source": [
        "h = (1+1j) ** 2\n",
        "h"
      ],
      "execution_count": 38,
      "outputs": [
        {
          "output_type": "execute_result",
          "data": {
            "text/plain": [
              "2j"
            ]
          },
          "metadata": {},
          "execution_count": 38
        }
      ]
    },
    {
      "cell_type": "markdown",
      "metadata": {
        "id": "_Jttv8iTDucV"
      },
      "source": [
        ""
      ]
    },
    {
      "cell_type": "markdown",
      "metadata": {
        "id": "GOLhgDzHDwLa"
      },
      "source": [
        "## Ejercicio 9"
      ]
    },
    {
      "cell_type": "markdown",
      "metadata": {
        "id": "xROChnpqK0sB"
      },
      "source": [
        "Realiza la siguiente operación en Python, donde Mod(z) indica módulo del complejo z:"
      ]
    },
    {
      "cell_type": "code",
      "metadata": {
        "colab": {
          "base_uri": "https://localhost:8080/"
        },
        "id": "YIJI0MKdLCR1",
        "outputId": "782fa18f-55bd-42fd-e012-4c20b3bd7b62"
      },
      "source": [
        "z = (9-3j) / (-2-1j)\n",
        "abs(z)"
      ],
      "execution_count": 60,
      "outputs": [
        {
          "output_type": "execute_result",
          "data": {
            "text/plain": [
              "4.242640687119285"
            ]
          },
          "metadata": {},
          "execution_count": 60
        }
      ]
    },
    {
      "cell_type": "markdown",
      "metadata": {
        "id": "67knL9heDxoi"
      },
      "source": [
        ""
      ]
    },
    {
      "cell_type": "markdown",
      "metadata": {
        "id": "3_1-iUozD0qd"
      },
      "source": [
        "## Ejercicio 10"
      ]
    },
    {
      "cell_type": "markdown",
      "metadata": {
        "id": "PqGVpOY8LsfW"
      },
      "source": [
        "¿Cuál es el argumento del número complejo i?:"
      ]
    },
    {
      "cell_type": "code",
      "metadata": {
        "id": "GBbVQa4pLtYs"
      },
      "source": [
        "import cmath"
      ],
      "execution_count": 62,
      "outputs": []
    },
    {
      "cell_type": "code",
      "metadata": {
        "colab": {
          "base_uri": "https://localhost:8080/"
        },
        "id": "oeQxO9jQNeqC",
        "outputId": "905af689-fdf2-4352-9971-cd3def0b7f2e"
      },
      "source": [
        "k = 1j\n",
        "cmath.phase(k)"
      ],
      "execution_count": 63,
      "outputs": [
        {
          "output_type": "execute_result",
          "data": {
            "text/plain": [
              "1.5707963267948966"
            ]
          },
          "metadata": {},
          "execution_count": 63
        }
      ]
    },
    {
      "cell_type": "markdown",
      "metadata": {
        "id": "ARKyAghdD13z"
      },
      "source": [
        ""
      ]
    }
  ]
}