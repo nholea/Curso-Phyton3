{
  "nbformat": 4,
  "nbformat_minor": 0,
  "metadata": {
    "colab": {
      "name": "Untitled1.ipynb",
      "provenance": [],
      "authorship_tag": "ABX9TyMne0nQGxVOeArtm9oF8bdk",
      "include_colab_link": true
    },
    "kernelspec": {
      "name": "python3",
      "display_name": "Python 3"
    },
    "language_info": {
      "name": "python"
    }
  },
  "cells": [
    {
      "cell_type": "markdown",
      "metadata": {
        "id": "view-in-github",
        "colab_type": "text"
      },
      "source": [
        "<a href=\"https://colab.research.google.com/github/nholea/Curso-Python3/blob/main/Ejercicio_Clase39.ipynb\" target=\"_parent\"><img src=\"https://colab.research.google.com/assets/colab-badge.svg\" alt=\"Open In Colab\"/></a>"
      ]
    },
    {
      "cell_type": "code",
      "metadata": {
        "colab": {
          "base_uri": "https://localhost:8080/"
        },
        "id": "PqIL_LGOrSx4",
        "outputId": "5ab70265-bcc1-42af-e74c-5f5266661c4f"
      },
      "source": [
        "#Ejercicio Comparaciones Múltiples\n",
        "\n",
        "print(\"Requisitos para subir a la montaña rusa: Pagar 5€ y medir más de 1.70m\")\n",
        "height = float(input(\"Introduce tu altura (m): \"))\n",
        "cash = float(input(\"Introduce el dinero en efectivo que tienes: \"))\n",
        "requirements = str((height >= 1.70) and (cash >= 5.0))\n",
        "print(\"¿Puedo subirme a la montaña rusa?\\n\" + requirements)"
      ],
      "execution_count": 6,
      "outputs": [
        {
          "output_type": "stream",
          "name": "stdout",
          "text": [
            "Requisitos para subir a la montaña rusa: Pagar 5€ y medir más de 1.70m\n",
            "Introduce tu altura (m): 1.73\n",
            "Introduce el dinero en efectivo que tienes: 5.4\n",
            "¿Puedo subirme a la montaña rusa?\n",
            "True\n"
          ]
        }
      ]
    }
  ]
}