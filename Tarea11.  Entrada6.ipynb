{
  "nbformat": 4,
  "nbformat_minor": 0,
  "metadata": {
    "colab": {
      "name": "06-entrada.ipynb",
      "provenance": [],
      "collapsed_sections": [],
      "include_colab_link": true
    },
    "kernelspec": {
      "name": "python3",
      "display_name": "Python 3"
    }
  },
  "cells": [
    {
      "cell_type": "markdown",
      "metadata": {
        "id": "view-in-github",
        "colab_type": "text"
      },
      "source": [
        "<a href=\"https://colab.research.google.com/github/nholea/Curso-Python3/blob/main/Tarea11.%20%20Entrada6.ipynb\" target=\"_parent\"><img src=\"https://colab.research.google.com/assets/colab-badge.svg\" alt=\"Open In Colab\"/></a>"
      ]
    },
    {
      "cell_type": "markdown",
      "metadata": {
        "id": "GOuE0qc8U4pO"
      },
      "source": [
        "# La lista de la compra"
      ]
    },
    {
      "cell_type": "markdown",
      "metadata": {
        "id": "psyHuCb7VUha"
      },
      "source": [
        "Una vez acabada la canción, Pyratilla ya tiene a su tripulación elegida.\n",
        "\n",
        "En primer lugar, gracias al filtro de peticiones consiguió reducir todos los candidatos a 20. Después de leer las 20 solicitudes a fondo, decidió únicamente conceder 7 entrevistas. Finalmente, de esos 7 afortunados, solamente 2 pasaron la prueba final: Pyerce y Pym.\n",
        "\n",
        "Pyerce y Pym son dos gemelos idénticos que siempre han querido ser miembros de una tripulación pirata. Pyerce sabe mucho tanto de cartografía como de metereología, y su sueño siempre ha sido recorrer el mundo sucarndo los mares. Por su parte, Pym hace que tripular un barco sea cosa fácil. Además no solo domina el timón, sino que es un experto en ingeniería naval y desde pequeño se ha dedicado a arreglar barcos. El sueño de Pym siempre ha sido trabajar en el barco que le hará conocer todos los mares y océanos del mundo.\n",
        "\n",
        "Para darles la bienvenida a la tripulación, Pyratilla ha decidido organizar una fiesta por todo lo alto, con lo cuál necesita ir a la compra y conseguir:\n",
        "\n",
        "- 30 botellas de ron (10 para cada uno)\n",
        "- 6 hamburguesas\n",
        "- 2 tomates\n",
        "- 1 pack de lonchas de queso\n",
        "- 1 bote de ketchup\n",
        "- 1 bote de mayonesa\n",
        "- 1 bote de mostaza\n",
        "\n",
        "Ayuda a Pyratilla a escribir su lista de la compra con todos los items (uno en cada posición) en una lista de `Python` llamada `shopping_list`.\n",
        "\n",
        "PISTA: Recuerda que puedes usar repetición y concatenación de listas. Así la elaboración de la lista resultará más sencilla."
      ]
    },
    {
      "cell_type": "code",
      "metadata": {
        "id": "kqBmy3ojU2Xe"
      },
      "source": [
        "rum = [\"Botellas de ron\"] * 30\n",
        "burguer = [ \"Hamburguesas\"] * 6\n",
        "tomato = [\"Tomates\"] * 2\n",
        "shopping_list = rum + burguer + tomato + [\"Pack Lonchas Queso\", \"Bote Ketchup\", \"Bote Mayonesa\", \"Bote Mostaza\"]"
      ],
      "execution_count": 7,
      "outputs": []
    },
    {
      "cell_type": "markdown",
      "metadata": {
        "id": "gDTF6bggZZLd"
      },
      "source": [
        "Ayuda a Pyratilla a mostrar todos los elementos que se han introducido en la lista de la compra llamada `shopping_list`."
      ]
    },
    {
      "cell_type": "code",
      "metadata": {
        "id": "f18rqafkaISC",
        "outputId": "f3659519-5bbd-4d37-9d4c-dbc7b3658e5e",
        "colab": {
          "base_uri": "https://localhost:8080/"
        }
      },
      "source": [
        "for i in shopping_list:\n",
        "    print(i)"
      ],
      "execution_count": 8,
      "outputs": [
        {
          "output_type": "stream",
          "name": "stdout",
          "text": [
            "Botellas de ron\n",
            "Botellas de ron\n",
            "Botellas de ron\n",
            "Botellas de ron\n",
            "Botellas de ron\n",
            "Botellas de ron\n",
            "Botellas de ron\n",
            "Botellas de ron\n",
            "Botellas de ron\n",
            "Botellas de ron\n",
            "Botellas de ron\n",
            "Botellas de ron\n",
            "Botellas de ron\n",
            "Botellas de ron\n",
            "Botellas de ron\n",
            "Botellas de ron\n",
            "Botellas de ron\n",
            "Botellas de ron\n",
            "Botellas de ron\n",
            "Botellas de ron\n",
            "Botellas de ron\n",
            "Botellas de ron\n",
            "Botellas de ron\n",
            "Botellas de ron\n",
            "Botellas de ron\n",
            "Botellas de ron\n",
            "Botellas de ron\n",
            "Botellas de ron\n",
            "Botellas de ron\n",
            "Botellas de ron\n",
            "Hamburguesas\n",
            "Hamburguesas\n",
            "Hamburguesas\n",
            "Hamburguesas\n",
            "Hamburguesas\n",
            "Hamburguesas\n",
            "Tomates\n",
            "Tomates\n",
            "Pack Lonchas Queso\n",
            "Bote Ketchup\n",
            "Bote Mayonesa\n",
            "Bote Mostaza\n"
          ]
        }
      ]
    },
    {
      "cell_type": "markdown",
      "metadata": {
        "id": "DeCG-75waIgs"
      },
      "source": [
        "Como puedes ver, el mostrar todos los elementos no sirve de mucha ayuda, pues en total hay 42, muchos de ellos repetidos. Modifica el bucle anterior con la ayuda de alguno de los métodos vistos en clase para que los elementos no se muestren repetidos, sino que se muestren agrupados tal cuál se muestran en el enunciado."
      ]
    },
    {
      "cell_type": "code",
      "metadata": {
        "id": "CXOD84-bboIh",
        "outputId": "59dbc7b9-434f-4420-d999-37ecb8fac511",
        "colab": {
          "base_uri": "https://localhost:8080/"
        }
      },
      "source": [
        "counted = []\n",
        "for element in shopping_list:\n",
        "    if element not in counted:\n",
        "        counted.append(element)\n",
        "        print(\"- {} {}\".format(shopping_list.count(element), element))"
      ],
      "execution_count": 9,
      "outputs": [
        {
          "output_type": "stream",
          "name": "stdout",
          "text": [
            "- 30 Botellas de ron\n",
            "- 6 Hamburguesas\n",
            "- 2 Tomates\n",
            "- 1 Pack Lonchas Queso\n",
            "- 1 Bote Ketchup\n",
            "- 1 Bote Mayonesa\n",
            "- 1 Bote Mostaza\n"
          ]
        }
      ]
    }
  ]
}