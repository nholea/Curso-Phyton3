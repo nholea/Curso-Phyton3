{
  "nbformat": 4,
  "nbformat_minor": 0,
  "metadata": {
    "colab": {
      "name": "08-entrada.ipynb",
      "provenance": [],
      "collapsed_sections": [],
      "include_colab_link": true
    },
    "kernelspec": {
      "name": "python3",
      "display_name": "Python 3"
    }
  },
  "cells": [
    {
      "cell_type": "markdown",
      "metadata": {
        "id": "view-in-github",
        "colab_type": "text"
      },
      "source": [
        "<a href=\"https://colab.research.google.com/github/nholea/Curso-Python3/blob/main/Tarea15.%20Entrada8.ipynb\" target=\"_parent\"><img src=\"https://colab.research.google.com/assets/colab-badge.svg\" alt=\"Open In Colab\"/></a>"
      ]
    },
    {
      "cell_type": "markdown",
      "metadata": {
        "id": "M1ygiZiAhmtY"
      },
      "source": [
        "# ¡Empieza la aventura!\n",
        "\n",
        "¡Por fin ha llegado el día! La tripulación de Pyratilla zarpa con rumbo a lo desconcocido en busca de tesoros y con la intención de navegar por el mundo entero.\n",
        "\n",
        "A decir verdad, ninguno de los miembros de los Pyrates lo tiene difícil, pues según el mapa que encontró Pyerce leyendo libros de cartografía, su mundo está compuesto por un total de 7 islas:\n",
        "\n",
        "- Isla Alegre, la isla en la que todos nacieron y se criaron\n",
        "- Isla Golosa\n",
        "- Isla Espesura\n",
        "- Isla Arrecife\n",
        "- Isla Lejana\n",
        "- Isla Torva\n",
        "- Isla Verde"
      ]
    },
    {
      "cell_type": "markdown",
      "metadata": {
        "id": "6cVS1LSxgxxL"
      },
      "source": [
        "Ayuda a Pyratilla a hacer un conjunto de las islas de su mundo, llamado `islands`.\n"
      ]
    },
    {
      "cell_type": "code",
      "metadata": {
        "id": "K_cL8BIOobdB",
        "outputId": "c42a5ea1-66cd-48cf-e93a-8e58ef455153",
        "colab": {
          "base_uri": "https://localhost:8080/"
        }
      },
      "source": [
        "islands = {\"Isla Alegre\", \"Isla Golosa\", \"Isla Espesura\", \"Isla Arrecife\", \"Isla Lejana\",\"Isla Torva\", \"Isla Verde\"}\n",
        "islands"
      ],
      "execution_count": 2,
      "outputs": [
        {
          "output_type": "execute_result",
          "data": {
            "text/plain": [
              "{'Isla Alegre',\n",
              " 'Isla Arrecife',\n",
              " 'Isla Espesura',\n",
              " 'Isla Golosa',\n",
              " 'Isla Lejana',\n",
              " 'Isla Torva',\n",
              " 'Isla Verde'}"
            ]
          },
          "metadata": {},
          "execution_count": 2
        }
      ]
    },
    {
      "cell_type": "markdown",
      "metadata": {
        "id": "rSGewB2VoazS"
      },
      "source": [
        "Crea otro conjunto llamado `visited_islands` que tenga, de momento, un solo elemento: Isla Alegre."
      ]
    },
    {
      "cell_type": "code",
      "metadata": {
        "id": "VPnKNejshkvP",
        "outputId": "ba116447-1525-42f7-d46c-9c98713bced9",
        "colab": {
          "base_uri": "https://localhost:8080/"
        }
      },
      "source": [
        "visited_islands = {\"Isla Alegre\"}\n",
        "visited_islands"
      ],
      "execution_count": 3,
      "outputs": [
        {
          "output_type": "execute_result",
          "data": {
            "text/plain": [
              "{'Isla Alegre'}"
            ]
          },
          "metadata": {},
          "execution_count": 3
        }
      ]
    },
    {
      "cell_type": "markdown",
      "metadata": {
        "id": "EPQCBVT5pFD2"
      },
      "source": [
        "Crea un último conjunto, llamado `unvisited_islands` resultado de eliminar Isla Alegre al conjunto `islands`"
      ]
    },
    {
      "cell_type": "code",
      "metadata": {
        "id": "yuCh0eQfpnjG",
        "outputId": "4b3ef383-0240-43ed-d696-8dc104778655",
        "colab": {
          "base_uri": "https://localhost:8080/"
        }
      },
      "source": [
        "unvisited_island = islands - visited_islands\n",
        "unvisited_island"
      ],
      "execution_count": 4,
      "outputs": [
        {
          "output_type": "execute_result",
          "data": {
            "text/plain": [
              "{'Isla Arrecife',\n",
              " 'Isla Espesura',\n",
              " 'Isla Golosa',\n",
              " 'Isla Lejana',\n",
              " 'Isla Torva',\n",
              " 'Isla Verde'}"
            ]
          },
          "metadata": {},
          "execution_count": 4
        }
      ]
    }
  ]
}