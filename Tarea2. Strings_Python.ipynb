{
  "nbformat": 4,
  "nbformat_minor": 0,
  "metadata": {
    "colab": {
      "name": "Untitled1.ipynb",
      "provenance": [],
      "toc_visible": true,
      "authorship_tag": "ABX9TyMZHx94e2troiUkYe2y05B4",
      "include_colab_link": true
    },
    "kernelspec": {
      "name": "python3",
      "display_name": "Python 3"
    },
    "language_info": {
      "name": "python"
    }
  },
  "cells": [
    {
      "cell_type": "markdown",
      "metadata": {
        "id": "view-in-github",
        "colab_type": "text"
      },
      "source": [
        "<a href=\"https://colab.research.google.com/github/nholea/Curso-Phyton3/blob/main/Tarea-2.Strings_Python.ipynb\" target=\"_parent\"><img src=\"https://colab.research.google.com/assets/colab-badge.svg\" alt=\"Open In Colab\"/></a>"
      ]
    },
    {
      "cell_type": "markdown",
      "metadata": {
        "id": "dUV2PEvgvSLv"
      },
      "source": [
        "# Tarea 2 -  Strings con Python"
      ]
    },
    {
      "cell_type": "markdown",
      "metadata": {
        "id": "EiIDTdHIvWsY"
      },
      "source": [
        "## Ejercicio 1"
      ]
    },
    {
      "cell_type": "markdown",
      "metadata": {
        "id": "v9yyUUfIvl0c"
      },
      "source": [
        "Utiliza las funciones de concatenar, + y repetir strings, *, junto con la función print() para dados los siguientes strings s1, s2, s3 y s4, conseguir el resultado siguiente: **Había una vez,** **un** **barquito chiquitito Había una vez, un barquito chiquitito que no** **podía, que no podía, que no podía navegar.**\n"
      ]
    },
    {
      "cell_type": "code",
      "metadata": {
        "id": "pj5b1YU-xTlh"
      },
      "source": [
        "s1 = \"Había una vez, \"\n",
        "s2 = \"un barquito chiquitito \"\n",
        "s3 = \"que no podía, \"\n",
        "s4 = \"que no podía navegar.\""
      ],
      "execution_count": 1,
      "outputs": []
    },
    {
      "cell_type": "code",
      "metadata": {
        "colab": {
          "base_uri": "https://localhost:8080/"
        },
        "id": "cA6kZhWlxnrx",
        "outputId": "8a0ee368-e6c4-4072-9cca-8298e9f5f6dc"
      },
      "source": [
        "total = (s1 + s2) * 2 + s3 * 2 + s4\n",
        "print(total)"
      ],
      "execution_count": 2,
      "outputs": [
        {
          "output_type": "stream",
          "name": "stdout",
          "text": [
            "Había una vez, un barquito chiquitito Había una vez, un barquito chiquitito que no podía, que no podía, que no podía navegar.\n"
          ]
        }
      ]
    },
    {
      "cell_type": "markdown",
      "metadata": {
        "id": "lQV2HNaGvmr7"
      },
      "source": [
        "## Ejercicio 2\n"
      ]
    },
    {
      "cell_type": "markdown",
      "metadata": {
        "id": "x9E_PzNEvt8e"
      },
      "source": [
        "Utiliza la función print() y el comando de salto de línea, \\n, para reproducir exactamente el siguiente texto:\n",
        "\n",
        "Érase un hombre a una nariz pegado,\n",
        "\n",
        "Érase una nariz superlativa,\n",
        "\n",
        "Érase una alquitara medio viva,\n",
        "\n",
        "Érase un peje espada mal barbado;"
      ]
    },
    {
      "cell_type": "code",
      "metadata": {
        "colab": {
          "base_uri": "https://localhost:8080/"
        },
        "id": "gHboA8gQyhYj",
        "outputId": "1895413c-c290-42d9-8914-6c92a5f62c13"
      },
      "source": [
        "print(\"Érase un hombre a una nariz pegado,\\nÉrase una nariz superlativa,\\nÉrase una alquitara medio viva,\\nÉrase un peje espada mal barbado;\")"
      ],
      "execution_count": 4,
      "outputs": [
        {
          "output_type": "stream",
          "name": "stdout",
          "text": [
            "Érase un hombre a una nariz pegado,\n",
            "Érase una nariz superlativa,\n",
            "Érase una alquitara medio viva,\n",
            "Érase un peje espada mal barbado;\n"
          ]
        }
      ]
    },
    {
      "cell_type": "markdown",
      "metadata": {
        "id": "zr7Bg5LzvuxJ"
      },
      "source": [
        "## Ejercicio 3"
      ]
    },
    {
      "cell_type": "markdown",
      "metadata": {
        "id": "xEBAWIopv4qn"
      },
      "source": [
        "Transforma el siguiente string s a mayúsculas y muéstralo por pantalla con la función print():"
      ]
    },
    {
      "cell_type": "code",
      "metadata": {
        "id": "BR8--EkMzB-G"
      },
      "source": [
        "s = \"me encantan las matemáticas\""
      ],
      "execution_count": 5,
      "outputs": []
    },
    {
      "cell_type": "code",
      "metadata": {
        "colab": {
          "base_uri": "https://localhost:8080/"
        },
        "id": "gEB7MSJ2zKZD",
        "outputId": "cf72f5e0-8fd5-4ab9-d42d-801adeb128b9"
      },
      "source": [
        " print(s.upper())"
      ],
      "execution_count": 8,
      "outputs": [
        {
          "output_type": "stream",
          "name": "stdout",
          "text": [
            "ME ENCANTAN LAS MATEMÁTICAS\n"
          ]
        }
      ]
    },
    {
      "cell_type": "markdown",
      "metadata": {
        "id": "Goba5O6Yvwzd"
      },
      "source": [
        "## Ejercicio 4"
      ]
    },
    {
      "cell_type": "markdown",
      "metadata": {
        "id": "MaSbPO-tvzJG"
      },
      "source": [
        "Calcula la longitud del string a"
      ]
    },
    {
      "cell_type": "code",
      "metadata": {
        "id": "14jIIAs9zgK0"
      },
      "source": [
        "a = \"Mi pasión por el chocolate es superior a mis fuerzas\""
      ],
      "execution_count": 47,
      "outputs": []
    },
    {
      "cell_type": "code",
      "metadata": {
        "colab": {
          "base_uri": "https://localhost:8080/"
        },
        "id": "D951P_2azlX8",
        "outputId": "5b187cb1-9a87-4e2c-da94-7dc8f4c9696b"
      },
      "source": [
        "longitud = len(a)\n",
        "print(longitud)"
      ],
      "execution_count": 49,
      "outputs": [
        {
          "output_type": "stream",
          "name": "stdout",
          "text": [
            "52\n"
          ]
        }
      ]
    },
    {
      "cell_type": "markdown",
      "metadata": {
        "id": "sClcbKL2vzzp"
      },
      "source": [
        "## Ejercicio 5"
      ]
    },
    {
      "cell_type": "markdown",
      "metadata": {
        "id": "9E6Wc2yxv1Aw"
      },
      "source": [
        "Del string a del ejercicio anterior, obtén el substring chocolate y guárdalo en una variable llamada s_sub.\n",
        "No vale contar, deberás hallar los índices del substring con el método .find() (o el que mejor consideres) y\n",
        "la función len().\n",
        "\n",
        "Finalmente, imprime tu resultado por pantalla"
      ]
    },
    {
      "cell_type": "code",
      "metadata": {
        "colab": {
          "base_uri": "https://localhost:8080/"
        },
        "id": "k2nMWVfMz84J",
        "outputId": "4c028289-c77b-42d2-d36b-515b1e5e146e"
      },
      "source": [
        "a = \"Mi pasión por el chocolate es superior a mis fuerzas\"\n",
        "\n",
        "word = a.find(\"chocolate\")\n",
        "\n",
        "s_sub = a[word: (word + len(\"chocolate\") + 1)]\n",
        "\n",
        "print(s_sub)"
      ],
      "execution_count": 52,
      "outputs": [
        {
          "output_type": "stream",
          "name": "stdout",
          "text": [
            "chocolate \n"
          ]
        }
      ]
    },
    {
      "cell_type": "markdown",
      "metadata": {
        "id": "bZ5LTnEgv7X-"
      },
      "source": [
        "## Ejercicio 6"
      ]
    },
    {
      "cell_type": "markdown",
      "metadata": {
        "id": "48FRX_OYv8hN"
      },
      "source": [
        "Con la función input(), indícale al usuario que introduzca su nombre y guárdalo en la variable llamada\n",
        "nombre\n"
      ]
    },
    {
      "cell_type": "code",
      "metadata": {
        "colab": {
          "base_uri": "https://localhost:8080/"
        },
        "id": "bk06DDqa4SST",
        "outputId": "199d0cb7-85ad-4cd3-f639-c65b088bfe7f"
      },
      "source": [
        "user_name = input(\"Introduzca su nombre: \")\n",
        "nombre = user_name\n",
        "print(nombre)"
      ],
      "execution_count": 42,
      "outputs": [
        {
          "output_type": "stream",
          "name": "stdout",
          "text": [
            "Introduzca su nombre: María\n",
            "María\n"
          ]
        }
      ]
    },
    {
      "cell_type": "markdown",
      "metadata": {
        "id": "bDKELPhZv9lg"
      },
      "source": [
        "## Ejercicio 7"
      ]
    },
    {
      "cell_type": "markdown",
      "metadata": {
        "id": "LWkNcboFv-oQ"
      },
      "source": [
        "Con la función input(), indícale al usuario que introduzca su apellido y guárdalo en la variable llamada\n",
        "apellido"
      ]
    },
    {
      "cell_type": "code",
      "metadata": {
        "colab": {
          "base_uri": "https://localhost:8080/"
        },
        "id": "4fGH1i4n4soe",
        "outputId": "16573376-caad-4eab-b9a8-b252f7959b54"
      },
      "source": [
        "user_surname = input(\"Introduzca su apellido: \")\n",
        "apellido = user_surname\n",
        "print(apellido)"
      ],
      "execution_count": 43,
      "outputs": [
        {
          "output_type": "stream",
          "name": "stdout",
          "text": [
            "Introduzca su apellido: Santos\n",
            "Santos\n"
          ]
        }
      ]
    },
    {
      "cell_type": "markdown",
      "metadata": {
        "id": "zVog84aFv_vh"
      },
      "source": [
        "## Ejercicio 8"
      ]
    },
    {
      "cell_type": "markdown",
      "metadata": {
        "id": "2H9KjFG1wAyl"
      },
      "source": [
        "Con la función input(), indícale al usuario que introduzca su edad y guárdala en la variable llamada edad.\n",
        "¡Ojo con el tipo de dato!"
      ]
    },
    {
      "cell_type": "code",
      "metadata": {
        "colab": {
          "base_uri": "https://localhost:8080/"
        },
        "id": "RjooSuus5Bmr",
        "outputId": "a444d935-c68a-48c2-b6d1-28ed04fe876b"
      },
      "source": [
        "user_age = int(input(\"Introduzca su edad: \"))\n",
        "edad = user_age\n",
        "print(edad)"
      ],
      "execution_count": 44,
      "outputs": [
        {
          "output_type": "stream",
          "name": "stdout",
          "text": [
            "Introduzca su edad: 21\n",
            "21\n"
          ]
        }
      ]
    },
    {
      "cell_type": "markdown",
      "metadata": {
        "id": "WKy6LEehwBlS"
      },
      "source": [
        "## Ejercicio 9"
      ]
    },
    {
      "cell_type": "markdown",
      "metadata": {
        "id": "_rUQoIE7wCir"
      },
      "source": [
        "Con la función input(), indícale al usuario que introduzca la ciudad en la que vive y guárdala en la variable\n",
        "llamada ciudad."
      ]
    },
    {
      "cell_type": "code",
      "metadata": {
        "colab": {
          "base_uri": "https://localhost:8080/"
        },
        "id": "pKVbrTWX5a7e",
        "outputId": "652f15a6-90b4-4da0-c910-605122475416"
      },
      "source": [
        "user_city = (input(\"Introduzca la ciudad en la que vive actualmente: \"))\n",
        "ciudad = user_city\n",
        "print(ciudad)"
      ],
      "execution_count": 45,
      "outputs": [
        {
          "output_type": "stream",
          "name": "stdout",
          "text": [
            "Introduzca la ciudad en la que vive actualmente: Palma de Mallorca\n",
            "Palma de Mallorca\n"
          ]
        }
      ]
    },
    {
      "cell_type": "markdown",
      "metadata": {
        "id": "8tgput7VwDhX"
      },
      "source": [
        "## Ejercicio 10"
      ]
    },
    {
      "cell_type": "markdown",
      "metadata": {
        "id": "Z8Z-75FpwEa-"
      },
      "source": [
        "Con lo hecho en los ejercicios 6, 7, 8 y 9, imprime por pantalla todos los datos introducidos por el usuario\n",
        "tal y como se muestra en el siguiente ejemplo, donde el usuario ha indicado que su nombre es **María**; su\n",
        "apellido, **Santos**; su edad, **21**; y su ciudad, **Palma de Mallorca**.\n",
        "\n",
        "**Su nombre es María Santos, tiene 21 años y actualmente vive en Palma de Mallorca**."
      ]
    },
    {
      "cell_type": "code",
      "metadata": {
        "colab": {
          "base_uri": "https://localhost:8080/"
        },
        "id": "o92G0gMW6DVY",
        "outputId": "ceea9c76-f2d0-4b46-bc03-66f131ca36b2"
      },
      "source": [
        "user = print(\"Su nombre es {} {}, tiene {} años y actualmente vive en {}.\".format(nombre, apellido, edad, ciudad))"
      ],
      "execution_count": 53,
      "outputs": [
        {
          "output_type": "stream",
          "name": "stdout",
          "text": [
            "Su nombre es María Santos, tiene 21 años y actualmente vive en Palma de Mallorca.\n"
          ]
        }
      ]
    }
  ]
}
