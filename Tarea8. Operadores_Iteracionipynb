{
  "nbformat": 4,
  "nbformat_minor": 0,
  "metadata": {
    "colab": {
      "name": "Untitled0.ipynb",
      "provenance": [],
      "authorship_tag": "ABX9TyNQhLNXWZ0w77UDjkMfGwJL",
      "include_colab_link": true
    },
    "kernelspec": {
      "name": "python3",
      "display_name": "Python 3"
    },
    "language_info": {
      "name": "python"
    }
  },
  "cells": [
    {
      "cell_type": "markdown",
      "metadata": {
        "id": "view-in-github",
        "colab_type": "text"
      },
      "source": [
        "<a href=\"https://colab.research.google.com/github/nholea/Curso-Python3/blob/main/Tarea8.%20Operadores_Iteracionipynb\" target=\"_parent\"><img src=\"https://colab.research.google.com/assets/colab-badge.svg\" alt=\"Open In Colab\"/></a>"
      ]
    },
    {
      "cell_type": "markdown",
      "metadata": {
        "id": "YDfi0vsUAjmn"
      },
      "source": [
        "# Tarea 4 - Operadores de iteración\n",
        "\n",
        "\n",
        "\n"
      ]
    },
    {
      "cell_type": "markdown",
      "metadata": {
        "id": "HQEwnguECyGI"
      },
      "source": [
        "## Ejercicio 1\n"
      ]
    },
    {
      "cell_type": "markdown",
      "metadata": {
        "id": "Rbfrd5UlD6nY"
      },
      "source": [
        "Haz que el usuario introduzca números enteros por teclado. Mientras el usuario no introduzca el 0, muestra\n",
        "si el número introducido es par o impar."
      ]
    },
    {
      "cell_type": "code",
      "metadata": {
        "colab": {
          "base_uri": "https://localhost:8080/"
        },
        "id": "zyqL6tm0DAip",
        "outputId": "d48133cc-bd78-44f4-b772-ce74654a3fd3"
      },
      "source": [
        "number = int(input(\"Introduce un número entero: \"))\n",
        "\n",
        "while number != 0:\n",
        "    if number % 2 == 0:\n",
        "        print(\"El número introducido {}, es par\".format(number))\n",
        "    else:\n",
        "        print(\"El número introducido {}, es impar\".format(number))\n",
        "    number = int(input(\"Introduce un número entero: \"))"
      ],
      "execution_count": null,
      "outputs": [
        {
          "name": "stdout",
          "output_type": "stream",
          "text": [
            "Introduce un número entero: 25\n",
            "El número introducido 25, es impar\n",
            "Introduce un número entero: 26\n",
            "El número introducido 26, es par\n",
            "Introduce un número entero: 28\n",
            "El número introducido 28, es par\n",
            "Introduce un número entero: 29\n",
            "El número introducido 29, es impar\n",
            "Introduce un número entero: 9\n",
            "El número introducido 9, es impar\n",
            "Introduce un número entero: 8\n",
            "El número introducido 8, es par\n",
            "Introduce un número entero: 0\n"
          ]
        }
      ]
    },
    {
      "cell_type": "markdown",
      "metadata": {
        "id": "ALCAM5F3DIsO"
      },
      "source": [
        "## Ejercicio 2 \n",
        "\n"
      ]
    },
    {
      "cell_type": "markdown",
      "metadata": {
        "id": "QDL4TfsWEVCR"
      },
      "source": [
        "Haz que el usuario introduzca una palabra y una letra por teclado. Comprueba si la palabra contiene la\n",
        "letra o no e indícaselo al usuario por pantalla.\n"
      ]
    },
    {
      "cell_type": "code",
      "metadata": {
        "colab": {
          "base_uri": "https://localhost:8080/"
        },
        "id": "b7et63ftEaZB",
        "outputId": "58c899aa-e1ef-4c4d-84cd-ef8854ed732b"
      },
      "source": [
        "word = input(\"Introduce una palabra: \").lower()\n",
        "letter =input(\"Introduce una letra: \").lower()\n",
        "\n",
        "while letter in word:\n",
        "    print(\"La letra {} se encuentra dentro de la palabra {}\".format(letter, word))\n",
        "    break\n",
        "else:\n",
        "    print(\"La letra {} no se encuentra dentro de la palabra {}\".format(letter, word))"
      ],
      "execution_count": null,
      "outputs": [
        {
          "output_type": "stream",
          "name": "stdout",
          "text": [
            "Introduce una palabra: letra\n",
            "Introduce una letra: e\n",
            "La letra e se encuentra dentro de la palabra letra\n"
          ]
        }
      ]
    },
    {
      "cell_type": "markdown",
      "metadata": {
        "id": "vdhMoqbuDSK0"
      },
      "source": [
        ""
      ]
    },
    {
      "cell_type": "markdown",
      "metadata": {
        "id": "q7gXKnhwDZRe"
      },
      "source": [
        "## Ejercicio 3 "
      ]
    },
    {
      "cell_type": "markdown",
      "metadata": {
        "id": "6yMALCppEpA0"
      },
      "source": [
        "Haz que el usuario introduzca precios por teclado (si introduce 0, entonces es que ha finalizado). Si el usuario\n",
        "pasa de 200€, entonces ya no debe poder introducir más precios pues se ha pasado de presupuesto. Sea cual\n",
        "sea el resultado (o bien el precio final o bien que no tiene más presupuesto), indícaselo por pantalla al usuario."
      ]
    },
    {
      "cell_type": "code",
      "metadata": {
        "colab": {
          "base_uri": "https://localhost:8080/"
        },
        "id": "ffW_5sTLEqjn",
        "outputId": "44c5d694-ddf0-425b-fe8d-b5eedceee209"
      },
      "source": [
        "price = float(input(\"Introduzca el precio del producto: \"))\n",
        "fin_price = 0\n",
        "\n",
        "while price != 0:\n",
        "    fin_price += price\n",
        "    if fin_price <= 200:\n",
        "        print(\"El precio de su cesta de la compra es de {}€\".format(fin_price))\n",
        "        price = float(input(\"Introduzca el precio del producto: \"))\n",
        "    else:\n",
        "        print(\"{}€, has superado tu presupuesto de 200€\".format(fin_price))\n",
        "        break\n",
        "else:\n",
        "    print(\"El precio final de su compra es de: {}€\".format(fin_price))\n"
      ],
      "execution_count": 47,
      "outputs": [
        {
          "output_type": "stream",
          "name": "stdout",
          "text": [
            "Introduzca el precio del producto: 4\n",
            "El precio de su cesta de la compra es de 4.0€\n",
            "Introduzca el precio del producto: 40\n",
            "El precio de su cesta de la compra es de 44.0€\n",
            "Introduzca el precio del producto: 80\n",
            "El precio de su cesta de la compra es de 124.0€\n",
            "Introduzca el precio del producto: 45\n",
            "El precio de su cesta de la compra es de 169.0€\n",
            "Introduzca el precio del producto: 0\n",
            "El precio final de su compra es de: 169.0€\n"
          ]
        }
      ]
    },
    {
      "cell_type": "markdown",
      "metadata": {
        "id": "DbmNnORtDduM"
      },
      "source": [
        ""
      ]
    },
    {
      "cell_type": "markdown",
      "metadata": {
        "id": "ZKSPBNrwDgdV"
      },
      "source": [
        "## Ejercicio 4"
      ]
    },
    {
      "cell_type": "markdown",
      "metadata": {
        "id": "eTPDZfENFDyI"
      },
      "source": [
        "Haz que el usuario introduzca números enteros por teclado. Mientras el usuario no introduzca el 0, calcula\n",
        "cuántos números positivos y cuántos negativos ha introducido y muéstraselo al final.\n"
      ]
    },
    {
      "cell_type": "code",
      "metadata": {
        "colab": {
          "base_uri": "https://localhost:8080/"
        },
        "id": "XsizQG4XFmLH",
        "outputId": "e54993f1-4689-41a3-cea1-470786f1ef18"
      },
      "source": [
        "num1 = int(input(\"Introduzca un número entero: \"))\n",
        "positive = 0\n",
        "negative = 0 \n",
        "\n",
        "while num1 != 0:\n",
        "    if num1 > 0:\n",
        "        positive += 1\n",
        "    else:\n",
        "        negative += 1\n",
        "    num1 = int(input(\"Introduzca otro número entero: \"))\n",
        "else:\n",
        "    print(\"Has introducido {} números positivos y {} números negativos\".format(positive, negative))\n"
      ],
      "execution_count": 48,
      "outputs": [
        {
          "output_type": "stream",
          "name": "stdout",
          "text": [
            "Introduzca un número entero: 1\n",
            "Introduzca otro número entero: 2\n",
            "Introduzca otro número entero: 3\n",
            "Introduzca otro número entero: 0\n",
            "Has introducido 3 números positivos y 0 números negativos\n"
          ]
        }
      ]
    },
    {
      "cell_type": "markdown",
      "metadata": {
        "id": "OnIUInN5Dh34"
      },
      "source": [
        ""
      ]
    },
    {
      "cell_type": "markdown",
      "metadata": {
        "id": "cTBvQR7-Di_i"
      },
      "source": [
        "## Ejercicio 5"
      ]
    },
    {
      "cell_type": "markdown",
      "metadata": {
        "id": "TMyjQcabG9jy"
      },
      "source": [
        "Haz que el usuario introduzca números por teclado. Mientras el usuario no introduzca el 0, pídele otro\n",
        "número. Cuando el usuario introduzca el 0, muéstrale la media aritmética de los números que ha introducido."
      ]
    },
    {
      "cell_type": "code",
      "metadata": {
        "colab": {
          "base_uri": "https://localhost:8080/"
        },
        "id": "smQUBfxWHDeI",
        "outputId": "0ff4cf7b-120c-4128-f00e-cd3a4169034a"
      },
      "source": [
        "num2 = int(input(\"Introduzca un número entero: \"))\n",
        "sum = 0\n",
        "total = 0\n",
        "\n",
        "while num2 !=0:\n",
        "    sum += num2\n",
        "    num2 = int(input(\"Introduzca un número entero: \"))\n",
        "    total += 1\n",
        "else: \n",
        "    print(\"La media aritmética de los números introducidos es: {}\".format(sum / total))\n"
      ],
      "execution_count": 51,
      "outputs": [
        {
          "output_type": "stream",
          "name": "stdout",
          "text": [
            "Introduzca un número entero: 4\n",
            "Introduzca un número entero: 4\n",
            "Introduzca un número entero: 4\n",
            "Introduzca un número entero: 4\n",
            "Introduzca un número entero: 0\n",
            "La media aritmética de los números introducidos es: 4.0\n"
          ]
        }
      ]
    },
    {
      "cell_type": "markdown",
      "metadata": {
        "id": "eeukSbPvDkLs"
      },
      "source": [
        ""
      ]
    },
    {
      "cell_type": "markdown",
      "metadata": {
        "id": "sURh3LznDndl"
      },
      "source": [
        "## Ejercicio 6"
      ]
    },
    {
      "cell_type": "markdown",
      "metadata": {
        "id": "m2yz6jYhICzb"
      },
      "source": [
        "Haz que el usuario introduzca dos números enteros por teclado. El primero será el extremo izquierdo del\n",
        "intervalo y, el segundo, el extremo derecho. Imprime todos los números que se encuentren entre los dos\n",
        "números introducidos por el usuario (los extremos incluidos)."
      ]
    },
    {
      "cell_type": "code",
      "metadata": {
        "colab": {
          "base_uri": "https://localhost:8080/"
        },
        "id": "z4J3kIKdIDv3",
        "outputId": "72dfb6b2-72ce-45dc-eb79-4fe07a5af55e"
      },
      "source": [
        "extrem_inf = int(input(\"Introduzca el extremo izquierdo del intervalo: \"))\n",
        "extrem_sup = int(input(\"Introduzca el extremo derecho del intervalo: \"))\n",
        "print(\"Dentro del intervalo [{}, {}] se encuentran los siguientes números:\".format(extrem_inf, extrem_sup))\n",
        "\n",
        "for i in range (extrem_inf, extrem_sup + 1):\n",
        "    print(i, end=\", \")\n"
      ],
      "execution_count": 1,
      "outputs": [
        {
          "output_type": "stream",
          "name": "stdout",
          "text": [
            "Introduzca el extremo izquierdo del intervalo: 25\n",
            "Introduzca el extremo derecho del intervalo: 35\n",
            "Dentro del intervalo [25, 35] se encuentran los siguientes números:\n",
            "25, 26, 27, 28, 29, 30, 31, 32, 33, 34, 35, "
          ]
        }
      ]
    },
    {
      "cell_type": "markdown",
      "metadata": {
        "id": "hZ6MyM2ADo37"
      },
      "source": [
        ""
      ]
    },
    {
      "cell_type": "markdown",
      "metadata": {
        "id": "xPUS6hEjDp10"
      },
      "source": [
        "## Ejercicio 7"
      ]
    },
    {
      "cell_type": "markdown",
      "metadata": {
        "id": "tAuzHQ_iJOdm"
      },
      "source": [
        "Haz que el usuario introduzca dos números enteros por teclado. El primero será el extremo izquierdo del\n",
        "intervalo y, el segundo, el extremo derecho. Imprime la suma de todos los múltiplos de 3 que se encuentren\n",
        "entre los dos números introducidos por el usuario (los extremos incluidos). Finalmente, muestra por pantalla\n",
        "el resultado de la suma.\n"
      ]
    },
    {
      "cell_type": "code",
      "metadata": {
        "colab": {
          "base_uri": "https://localhost:8080/"
        },
        "id": "-e0rooMlJPVu",
        "outputId": "5502681f-3322-4eaa-c340-e7662e006c1a"
      },
      "source": [
        "left = int(input(\"Introduzca el extremo izquierdo del intervalo: \"))\n",
        "right = int(input(\"Introduzca el extremo derecho del intervalo: \"))\n",
        "suma = 0\n",
        "print(\"Dentro del intervalo [{}, {}] se encuentran los siguientes múltiplos de 3:\".format(left, right))\n",
        "\n",
        "for i in range (left, right + 1):\n",
        "    if i % 3 == 0:\n",
        "        print(i, end = \" \")\n",
        "        suma += i\n",
        "        \n",
        "print(\"\\nEl resultado de la suma es: {}\".format(suma))\n"
      ],
      "execution_count": 3,
      "outputs": [
        {
          "output_type": "stream",
          "name": "stdout",
          "text": [
            "Introduzca el extremo izquierdo del intervalo: 3\n",
            "Introduzca el extremo derecho del intervalo: 21\n",
            "Dentro del intervalo [3, 21] se encuentran los siguientes múltiplos de 3:\n",
            "3 6 9 12 15 18 21 \n",
            "El resultado de la suma es: 84\n"
          ]
        }
      ]
    },
    {
      "cell_type": "markdown",
      "metadata": {
        "id": "1ifp_7JFDrCc"
      },
      "source": [
        ""
      ]
    },
    {
      "cell_type": "markdown",
      "metadata": {
        "id": "ZhvzX6eUDs1c"
      },
      "source": [
        "## Ejercicio 8"
      ]
    },
    {
      "cell_type": "markdown",
      "metadata": {
        "id": "Xun8WGYEKAUk"
      },
      "source": [
        "Pídele al usuario cuántos números va a introducir. Con un bucle for, solicítale esa cantidad de números y\n",
        "calcula su producto.\n"
      ]
    },
    {
      "cell_type": "code",
      "metadata": {
        "colab": {
          "base_uri": "https://localhost:8080/"
        },
        "id": "fP9H6PSRKBEF",
        "outputId": "ba6ee9e7-fc4a-4e98-9fc7-234c55bdd2ab"
      },
      "source": [
        "numbers = int(input(\"¿Cuántos números vas a introducir?: \"))\n",
        "producto = 1\n",
        "\n",
        "for i in range (numbers):\n",
        "    num = float(input(\"Ingresa un número: \"))\n",
        "    producto *= num\n",
        "print(\"El producto de los {} números introducidos es: {}\".format(numbers, producto))"
      ],
      "execution_count": 49,
      "outputs": [
        {
          "output_type": "stream",
          "name": "stdout",
          "text": [
            "¿Cuántos números vas a introducir?: 4\n",
            "Ingresa un número: 14\n",
            "Ingresa un número: 25\n",
            "Ingresa un número: 6\n",
            "Ingresa un número: 7\n",
            "El producto de los 4 números introducidos es: 14700.0\n"
          ]
        }
      ]
    },
    {
      "cell_type": "markdown",
      "metadata": {
        "id": "_Jttv8iTDucV"
      },
      "source": [
        ""
      ]
    },
    {
      "cell_type": "markdown",
      "metadata": {
        "id": "GOLhgDzHDwLa"
      },
      "source": [
        "## Ejercicio 9"
      ]
    },
    {
      "cell_type": "markdown",
      "metadata": {
        "id": "xROChnpqK0sB"
      },
      "source": [
        "Haz que el usuario introduzca su edad y el año actual. Imprime todos los años que han pasado desde su año\n",
        "de nacimiento hasta el año actual (ambos incluidos)"
      ]
    },
    {
      "cell_type": "code",
      "metadata": {
        "colab": {
          "base_uri": "https://localhost:8080/"
        },
        "id": "YIJI0MKdLCR1",
        "outputId": "63cc75ea-9680-47d5-e78c-98f95541ea34"
      },
      "source": [
        "age = int(input(\"Introduce tu edad: \"))\n",
        "year = int(input(\"Introduce el año actual: \"))\n",
        "print(\"A continuación, se muestra una lista de los años transcurridos desde el años de su nacimiento hasta el año actual:\")\n",
        "\n",
        "for i in range(year - age, year + 1):\n",
        "    print(\"-\", i)\n"
      ],
      "execution_count": 5,
      "outputs": [
        {
          "output_type": "stream",
          "name": "stdout",
          "text": [
            "Introduce tu edad: 28\n",
            "Introduce el año actual: 2021\n",
            "A continuación, se muestra una lista de los años transcurridos desde el años de su nacimiento hasta el año actual:\n",
            "- 1993\n",
            "- 1994\n",
            "- 1995\n",
            "- 1996\n",
            "- 1997\n",
            "- 1998\n",
            "- 1999\n",
            "- 2000\n",
            "- 2001\n",
            "- 2002\n",
            "- 2003\n",
            "- 2004\n",
            "- 2005\n",
            "- 2006\n",
            "- 2007\n",
            "- 2008\n",
            "- 2009\n",
            "- 2010\n",
            "- 2011\n",
            "- 2012\n",
            "- 2013\n",
            "- 2014\n",
            "- 2015\n",
            "- 2016\n",
            "- 2017\n",
            "- 2018\n",
            "- 2019\n",
            "- 2020\n",
            "- 2021\n"
          ]
        }
      ]
    },
    {
      "cell_type": "markdown",
      "metadata": {
        "id": "67knL9heDxoi"
      },
      "source": [
        ""
      ]
    },
    {
      "cell_type": "markdown",
      "metadata": {
        "id": "3_1-iUozD0qd"
      },
      "source": [
        "## Ejercicio 10"
      ]
    },
    {
      "cell_type": "markdown",
      "metadata": {
        "id": "PqGVpOY8LsfW"
      },
      "source": [
        "Haz que el usuario introduzca un número entero. Muestra un cuadrado y luego un triángulo rectángulo de\n",
        "lado y altura, respectivamente, el número entero introducido. Por ejemplo, si el usuario introduce como\n",
        "número 5, se deberá mostrar: \n",
        "\n",
        "```\n",
        "\n",
        "*             * * * * *\n",
        "* *           * * * * *\n",
        "* * *         * * * * *\n",
        "* * * *       * * * * *\n",
        "* * * * *     * * * * *\n",
        "```\n",
        "\n"
      ]
    },
    {
      "cell_type": "code",
      "metadata": {
        "id": "M3J70VuzVFm9",
        "colab": {
          "base_uri": "https://localhost:8080/"
        },
        "outputId": "64629de1-0542-457e-83b5-a3855b9b0737"
      },
      "source": [
        "n = int(input(\"Introduce un número entero: \"))\n",
        "\n",
        "#Cuadrado\n",
        "for i in range(n):\n",
        "    for j in range(n):\n",
        "        print(\"*\", end=\" \")\n",
        "    print(\"\")\n",
        "\n",
        "print(\"\")\n",
        "\n",
        "#Triángulo\n",
        "for i in range(1 , n + 1):\n",
        "    for j in range(i):\n",
        "        print(\"*\", end=\" \")\n",
        "    print(\"\")\n",
        "\n"
      ],
      "execution_count": 48,
      "outputs": [
        {
          "output_type": "stream",
          "name": "stdout",
          "text": [
            "Introduce un número entero: 10\n",
            "* * * * * * * * * * \n",
            "* * * * * * * * * * \n",
            "* * * * * * * * * * \n",
            "* * * * * * * * * * \n",
            "* * * * * * * * * * \n",
            "* * * * * * * * * * \n",
            "* * * * * * * * * * \n",
            "* * * * * * * * * * \n",
            "* * * * * * * * * * \n",
            "* * * * * * * * * * \n",
            "\n",
            "* \n",
            "* * \n",
            "* * * \n",
            "* * * * \n",
            "* * * * * \n",
            "* * * * * * \n",
            "* * * * * * * \n",
            "* * * * * * * * \n",
            "* * * * * * * * * \n",
            "* * * * * * * * * * \n"
          ]
        }
      ]
    },
    {
      "cell_type": "markdown",
      "metadata": {
        "id": "ARKyAghdD13z"
      },
      "source": [
        ""
      ]
    }
  ]
}